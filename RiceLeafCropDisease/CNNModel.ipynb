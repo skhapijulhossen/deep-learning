{
 "cells": [
  {
   "cell_type": "markdown",
   "metadata": {},
   "source": [
    "# CNN"
   ]
  },
  {
   "cell_type": "code",
   "execution_count": 1,
   "metadata": {},
   "outputs": [],
   "source": [
    "import numpy as np\n",
    "import pandas as pd\n",
    "import matplotlib.pyplot as plt\n",
    "import seaborn as sns\n",
    "from skimage import io\n",
    "import tensorflow as tf"
   ]
  },
  {
   "cell_type": "code",
   "execution_count": 2,
   "metadata": {},
   "outputs": [],
   "source": [
    "tf.random.set_seed(42)"
   ]
  },
  {
   "cell_type": "markdown",
   "metadata": {},
   "source": [
    "# Load"
   ]
  },
  {
   "cell_type": "code",
   "execution_count": 3,
   "metadata": {},
   "outputs": [
    {
     "name": "stdout",
     "output_type": "stream",
     "text": [
      "Found 120 files belonging to 3 classes.\n"
     ]
    }
   ],
   "source": [
    "dataset = tf.keras.utils.image_dataset_from_directory(\n",
    "    'data',\n",
    "    labels='inferred',\n",
    "    class_names=['Bacterial_leaf_blight', 'Brown_spot', 'Leaf_smut'],\n",
    "    image_size=(228,228), shuffle=True, seed=42, batch_size=40\n",
    ")"
   ]
  },
  {
   "cell_type": "code",
   "execution_count": 6,
   "metadata": {},
   "outputs": [
    {
     "name": "stdout",
     "output_type": "stream",
     "text": [
      "Found 1082 images belonging to 3 classes.\n"
     ]
    }
   ],
   "source": [
    "datagen = tf.keras.preprocessing.image.ImageDataGenerator(\n",
    "    rescale= 1/255.\n",
    ")\n",
    "train_images = datagen.flow_from_directory(\n",
    "    'AugmentedData',\n",
    "    target_size=(228, 228),\n",
    "    batch_size=100\n",
    ")"
   ]
  },
  {
   "cell_type": "markdown",
   "metadata": {},
   "source": [
    "# Model"
   ]
  },
  {
   "cell_type": "code",
   "execution_count": 7,
   "metadata": {},
   "outputs": [
    {
     "name": "stdout",
     "output_type": "stream",
     "text": [
      "Found 120 images belonging to 3 classes.\n"
     ]
    }
   ],
   "source": [
    "vaidation_data = tf.keras.preprocessing.image.ImageDataGenerator(\n",
    "    rescale= 1/255.\n",
    ")\n",
    "validation_images = datagen.flow_from_directory(\n",
    "    'data',\n",
    "    target_size=(228, 228),\n",
    ")"
   ]
  },
  {
   "cell_type": "code",
   "execution_count": 8,
   "metadata": {},
   "outputs": [],
   "source": [
    "cnn = tf.keras.Sequential([\n",
    "    tf.keras.layers.Conv2D(16, 3, padding='same',\n",
    "                           activation='relu', input_shape=(228, 228, 3)),\n",
    "    tf.keras.layers.MaxPooling2D(),\n",
    "    tf.keras.layers.Conv2D(32, 3, padding='same', activation='relu'),\n",
    "    tf.keras.layers.MaxPooling2D(),\n",
    "    tf.keras.layers.Conv2D(64, 3, padding='same', activation='relu'),\n",
    "    tf.keras.layers.MaxPooling2D(),\n",
    "    tf.keras.layers.Flatten(),\n",
    "    tf.keras.layers.Dense(128, activation='relu'),\n",
    "    tf.keras.layers.Dropout(rate=0.3),\n",
    "    tf.keras.layers.Dense(3, activation='softmax')\n",
    "])\n"
   ]
  },
  {
   "cell_type": "code",
   "execution_count": 9,
   "metadata": {},
   "outputs": [],
   "source": [
    "cnn.compile(\n",
    "    optimizer='adam',\n",
    "    loss='categorical_crossentropy',\n",
    "    metrics=['accuracy']\n",
    ")"
   ]
  },
  {
   "cell_type": "code",
   "execution_count": 10,
   "metadata": {},
   "outputs": [
    {
     "name": "stdout",
     "output_type": "stream",
     "text": [
      "Epoch 1/30\n",
      "11/11 - 36s - loss: 1.3674 - accuracy: 0.3909 - val_loss: 1.0277 - val_accuracy: 0.4167 - 36s/epoch - 3s/step\n",
      "Epoch 2/30\n",
      "11/11 - 30s - loss: 0.9569 - accuracy: 0.5444 - val_loss: 0.7399 - val_accuracy: 0.6333 - 30s/epoch - 3s/step\n",
      "Epoch 3/30\n",
      "11/11 - 29s - loss: 0.8055 - accuracy: 0.6562 - val_loss: 0.6219 - val_accuracy: 0.7833 - 29s/epoch - 3s/step\n",
      "Epoch 4/30\n",
      "11/11 - 30s - loss: 0.6784 - accuracy: 0.7098 - val_loss: 0.4440 - val_accuracy: 0.8667 - 30s/epoch - 3s/step\n",
      "Epoch 5/30\n",
      "11/11 - 30s - loss: 0.5388 - accuracy: 0.7791 - val_loss: 0.2883 - val_accuracy: 0.9250 - 30s/epoch - 3s/step\n",
      "Epoch 6/30\n",
      "11/11 - 30s - loss: 0.4430 - accuracy: 0.8383 - val_loss: 0.2232 - val_accuracy: 0.9250 - 30s/epoch - 3s/step\n",
      "Epoch 7/30\n",
      "11/11 - 29s - loss: 0.3829 - accuracy: 0.8392 - val_loss: 0.1697 - val_accuracy: 0.9583 - 29s/epoch - 3s/step\n",
      "Epoch 8/30\n",
      "11/11 - 30s - loss: 0.3034 - accuracy: 0.8817 - val_loss: 0.1339 - val_accuracy: 0.9583 - 30s/epoch - 3s/step\n",
      "Epoch 9/30\n",
      "11/11 - 29s - loss: 0.2372 - accuracy: 0.9122 - val_loss: 0.1546 - val_accuracy: 0.9667 - 29s/epoch - 3s/step\n",
      "Epoch 10/30\n",
      "11/11 - 30s - loss: 0.1688 - accuracy: 0.9436 - val_loss: 0.1160 - val_accuracy: 0.9667 - 30s/epoch - 3s/step\n",
      "Epoch 11/30\n",
      "11/11 - 30s - loss: 0.1353 - accuracy: 0.9566 - val_loss: 0.1375 - val_accuracy: 0.9833 - 30s/epoch - 3s/step\n",
      "Epoch 12/30\n",
      "11/11 - 33s - loss: 0.1309 - accuracy: 0.9612 - val_loss: 0.0745 - val_accuracy: 0.9917 - 33s/epoch - 3s/step\n",
      "Epoch 13/30\n",
      "11/11 - 31s - loss: 0.1098 - accuracy: 0.9686 - val_loss: 0.0963 - val_accuracy: 0.9833 - 31s/epoch - 3s/step\n",
      "Epoch 14/30\n",
      "11/11 - 29s - loss: 0.1097 - accuracy: 0.9741 - val_loss: 0.0835 - val_accuracy: 0.9833 - 29s/epoch - 3s/step\n",
      "Epoch 15/30\n",
      "11/11 - 29s - loss: 0.0628 - accuracy: 0.9834 - val_loss: 0.0919 - val_accuracy: 0.9917 - 29s/epoch - 3s/step\n",
      "Epoch 16/30\n",
      "11/11 - 28s - loss: 0.0592 - accuracy: 0.9806 - val_loss: 0.0863 - val_accuracy: 0.9917 - 28s/epoch - 3s/step\n",
      "Epoch 17/30\n",
      "11/11 - 28s - loss: 0.0391 - accuracy: 0.9861 - val_loss: 0.1056 - val_accuracy: 0.9917 - 28s/epoch - 3s/step\n",
      "Epoch 18/30\n",
      "11/11 - 28s - loss: 0.0269 - accuracy: 0.9963 - val_loss: 0.1020 - val_accuracy: 0.9917 - 28s/epoch - 3s/step\n",
      "Epoch 19/30\n",
      "11/11 - 28s - loss: 0.0190 - accuracy: 0.9963 - val_loss: 0.1022 - val_accuracy: 0.9917 - 28s/epoch - 3s/step\n",
      "Epoch 20/30\n",
      "11/11 - 29s - loss: 0.0189 - accuracy: 0.9972 - val_loss: 0.1144 - val_accuracy: 0.9917 - 29s/epoch - 3s/step\n",
      "Epoch 21/30\n",
      "11/11 - 29s - loss: 0.0115 - accuracy: 0.9982 - val_loss: 0.0985 - val_accuracy: 0.9917 - 29s/epoch - 3s/step\n",
      "Epoch 22/30\n",
      "11/11 - 28s - loss: 0.0127 - accuracy: 0.9982 - val_loss: 0.0920 - val_accuracy: 0.9917 - 28s/epoch - 3s/step\n",
      "Epoch 23/30\n",
      "11/11 - 29s - loss: 0.0137 - accuracy: 0.9982 - val_loss: 0.1023 - val_accuracy: 0.9917 - 29s/epoch - 3s/step\n",
      "Epoch 24/30\n",
      "11/11 - 28s - loss: 0.0086 - accuracy: 1.0000 - val_loss: 0.1086 - val_accuracy: 0.9917 - 28s/epoch - 3s/step\n",
      "Epoch 25/30\n",
      "11/11 - 28s - loss: 0.0081 - accuracy: 0.9982 - val_loss: 0.1069 - val_accuracy: 0.9917 - 28s/epoch - 3s/step\n",
      "Epoch 26/30\n",
      "11/11 - 29s - loss: 0.0049 - accuracy: 1.0000 - val_loss: 0.1190 - val_accuracy: 0.9917 - 29s/epoch - 3s/step\n",
      "Epoch 27/30\n",
      "11/11 - 29s - loss: 0.0051 - accuracy: 0.9991 - val_loss: 0.1130 - val_accuracy: 0.9917 - 29s/epoch - 3s/step\n",
      "Epoch 28/30\n",
      "11/11 - 29s - loss: 0.0060 - accuracy: 0.9982 - val_loss: 0.1107 - val_accuracy: 0.9917 - 29s/epoch - 3s/step\n",
      "Epoch 29/30\n",
      "11/11 - 29s - loss: 0.0043 - accuracy: 1.0000 - val_loss: 0.1094 - val_accuracy: 0.9917 - 29s/epoch - 3s/step\n",
      "Epoch 30/30\n",
      "11/11 - 32s - loss: 0.0052 - accuracy: 1.0000 - val_loss: 0.1145 - val_accuracy: 0.9917 - 32s/epoch - 3s/step\n"
     ]
    },
    {
     "data": {
      "text/plain": [
       "<keras.callbacks.History at 0x250a557ba00>"
      ]
     },
     "execution_count": 10,
     "metadata": {},
     "output_type": "execute_result"
    }
   ],
   "source": [
    "cnn.fit(\n",
    "    train_images,\n",
    "    epochs=30,\n",
    "    verbose=2,\n",
    "    validation_data= validation_images\n",
    ")"
   ]
  },
  {
   "cell_type": "code",
   "execution_count": 22,
   "metadata": {},
   "outputs": [
    {
     "data": {
      "text/html": [
       "<div>\n",
       "<style scoped>\n",
       "    .dataframe tbody tr th:only-of-type {\n",
       "        vertical-align: middle;\n",
       "    }\n",
       "\n",
       "    .dataframe tbody tr th {\n",
       "        vertical-align: top;\n",
       "    }\n",
       "\n",
       "    .dataframe thead th {\n",
       "        text-align: right;\n",
       "    }\n",
       "</style>\n",
       "<table border=\"1\" class=\"dataframe\">\n",
       "  <thead>\n",
       "    <tr style=\"text-align: right;\">\n",
       "      <th></th>\n",
       "      <th>loss</th>\n",
       "      <th>accuracy</th>\n",
       "      <th>val_loss</th>\n",
       "      <th>val_accuracy</th>\n",
       "    </tr>\n",
       "  </thead>\n",
       "  <tbody>\n",
       "    <tr>\n",
       "      <th>0</th>\n",
       "      <td>1.367411</td>\n",
       "      <td>0.390943</td>\n",
       "      <td>1.027697</td>\n",
       "      <td>0.416667</td>\n",
       "    </tr>\n",
       "    <tr>\n",
       "      <th>1</th>\n",
       "      <td>0.956900</td>\n",
       "      <td>0.544362</td>\n",
       "      <td>0.739903</td>\n",
       "      <td>0.633333</td>\n",
       "    </tr>\n",
       "    <tr>\n",
       "      <th>2</th>\n",
       "      <td>0.805472</td>\n",
       "      <td>0.656192</td>\n",
       "      <td>0.621944</td>\n",
       "      <td>0.783333</td>\n",
       "    </tr>\n",
       "    <tr>\n",
       "      <th>3</th>\n",
       "      <td>0.678367</td>\n",
       "      <td>0.709797</td>\n",
       "      <td>0.444049</td>\n",
       "      <td>0.866667</td>\n",
       "    </tr>\n",
       "    <tr>\n",
       "      <th>4</th>\n",
       "      <td>0.538815</td>\n",
       "      <td>0.779113</td>\n",
       "      <td>0.288308</td>\n",
       "      <td>0.925000</td>\n",
       "    </tr>\n",
       "    <tr>\n",
       "      <th>5</th>\n",
       "      <td>0.443007</td>\n",
       "      <td>0.838262</td>\n",
       "      <td>0.223165</td>\n",
       "      <td>0.925000</td>\n",
       "    </tr>\n",
       "    <tr>\n",
       "      <th>6</th>\n",
       "      <td>0.382935</td>\n",
       "      <td>0.839187</td>\n",
       "      <td>0.169664</td>\n",
       "      <td>0.958333</td>\n",
       "    </tr>\n",
       "    <tr>\n",
       "      <th>7</th>\n",
       "      <td>0.303352</td>\n",
       "      <td>0.881701</td>\n",
       "      <td>0.133916</td>\n",
       "      <td>0.958333</td>\n",
       "    </tr>\n",
       "    <tr>\n",
       "      <th>8</th>\n",
       "      <td>0.237235</td>\n",
       "      <td>0.912200</td>\n",
       "      <td>0.154595</td>\n",
       "      <td>0.966667</td>\n",
       "    </tr>\n",
       "    <tr>\n",
       "      <th>9</th>\n",
       "      <td>0.168790</td>\n",
       "      <td>0.943623</td>\n",
       "      <td>0.115956</td>\n",
       "      <td>0.966667</td>\n",
       "    </tr>\n",
       "    <tr>\n",
       "      <th>10</th>\n",
       "      <td>0.135265</td>\n",
       "      <td>0.956562</td>\n",
       "      <td>0.137493</td>\n",
       "      <td>0.983333</td>\n",
       "    </tr>\n",
       "    <tr>\n",
       "      <th>11</th>\n",
       "      <td>0.130863</td>\n",
       "      <td>0.961183</td>\n",
       "      <td>0.074524</td>\n",
       "      <td>0.991667</td>\n",
       "    </tr>\n",
       "    <tr>\n",
       "      <th>12</th>\n",
       "      <td>0.109770</td>\n",
       "      <td>0.968577</td>\n",
       "      <td>0.096302</td>\n",
       "      <td>0.983333</td>\n",
       "    </tr>\n",
       "    <tr>\n",
       "      <th>13</th>\n",
       "      <td>0.109669</td>\n",
       "      <td>0.974122</td>\n",
       "      <td>0.083541</td>\n",
       "      <td>0.983333</td>\n",
       "    </tr>\n",
       "    <tr>\n",
       "      <th>14</th>\n",
       "      <td>0.062843</td>\n",
       "      <td>0.983364</td>\n",
       "      <td>0.091937</td>\n",
       "      <td>0.991667</td>\n",
       "    </tr>\n",
       "    <tr>\n",
       "      <th>15</th>\n",
       "      <td>0.059238</td>\n",
       "      <td>0.980591</td>\n",
       "      <td>0.086335</td>\n",
       "      <td>0.991667</td>\n",
       "    </tr>\n",
       "    <tr>\n",
       "      <th>16</th>\n",
       "      <td>0.039050</td>\n",
       "      <td>0.986137</td>\n",
       "      <td>0.105629</td>\n",
       "      <td>0.991667</td>\n",
       "    </tr>\n",
       "    <tr>\n",
       "      <th>17</th>\n",
       "      <td>0.026853</td>\n",
       "      <td>0.996303</td>\n",
       "      <td>0.102021</td>\n",
       "      <td>0.991667</td>\n",
       "    </tr>\n",
       "    <tr>\n",
       "      <th>18</th>\n",
       "      <td>0.019024</td>\n",
       "      <td>0.996303</td>\n",
       "      <td>0.102230</td>\n",
       "      <td>0.991667</td>\n",
       "    </tr>\n",
       "    <tr>\n",
       "      <th>19</th>\n",
       "      <td>0.018880</td>\n",
       "      <td>0.997227</td>\n",
       "      <td>0.114382</td>\n",
       "      <td>0.991667</td>\n",
       "    </tr>\n",
       "    <tr>\n",
       "      <th>20</th>\n",
       "      <td>0.011521</td>\n",
       "      <td>0.998152</td>\n",
       "      <td>0.098457</td>\n",
       "      <td>0.991667</td>\n",
       "    </tr>\n",
       "    <tr>\n",
       "      <th>21</th>\n",
       "      <td>0.012719</td>\n",
       "      <td>0.998152</td>\n",
       "      <td>0.091954</td>\n",
       "      <td>0.991667</td>\n",
       "    </tr>\n",
       "    <tr>\n",
       "      <th>22</th>\n",
       "      <td>0.013704</td>\n",
       "      <td>0.998152</td>\n",
       "      <td>0.102252</td>\n",
       "      <td>0.991667</td>\n",
       "    </tr>\n",
       "    <tr>\n",
       "      <th>23</th>\n",
       "      <td>0.008616</td>\n",
       "      <td>1.000000</td>\n",
       "      <td>0.108589</td>\n",
       "      <td>0.991667</td>\n",
       "    </tr>\n",
       "    <tr>\n",
       "      <th>24</th>\n",
       "      <td>0.008129</td>\n",
       "      <td>0.998152</td>\n",
       "      <td>0.106861</td>\n",
       "      <td>0.991667</td>\n",
       "    </tr>\n",
       "    <tr>\n",
       "      <th>25</th>\n",
       "      <td>0.004927</td>\n",
       "      <td>1.000000</td>\n",
       "      <td>0.118958</td>\n",
       "      <td>0.991667</td>\n",
       "    </tr>\n",
       "    <tr>\n",
       "      <th>26</th>\n",
       "      <td>0.005076</td>\n",
       "      <td>0.999076</td>\n",
       "      <td>0.112995</td>\n",
       "      <td>0.991667</td>\n",
       "    </tr>\n",
       "    <tr>\n",
       "      <th>27</th>\n",
       "      <td>0.005980</td>\n",
       "      <td>0.998152</td>\n",
       "      <td>0.110666</td>\n",
       "      <td>0.991667</td>\n",
       "    </tr>\n",
       "    <tr>\n",
       "      <th>28</th>\n",
       "      <td>0.004322</td>\n",
       "      <td>1.000000</td>\n",
       "      <td>0.109373</td>\n",
       "      <td>0.991667</td>\n",
       "    </tr>\n",
       "    <tr>\n",
       "      <th>29</th>\n",
       "      <td>0.005180</td>\n",
       "      <td>1.000000</td>\n",
       "      <td>0.114521</td>\n",
       "      <td>0.991667</td>\n",
       "    </tr>\n",
       "  </tbody>\n",
       "</table>\n",
       "</div>"
      ],
      "text/plain": [
       "        loss  accuracy  val_loss  val_accuracy\n",
       "0   1.367411  0.390943  1.027697      0.416667\n",
       "1   0.956900  0.544362  0.739903      0.633333\n",
       "2   0.805472  0.656192  0.621944      0.783333\n",
       "3   0.678367  0.709797  0.444049      0.866667\n",
       "4   0.538815  0.779113  0.288308      0.925000\n",
       "5   0.443007  0.838262  0.223165      0.925000\n",
       "6   0.382935  0.839187  0.169664      0.958333\n",
       "7   0.303352  0.881701  0.133916      0.958333\n",
       "8   0.237235  0.912200  0.154595      0.966667\n",
       "9   0.168790  0.943623  0.115956      0.966667\n",
       "10  0.135265  0.956562  0.137493      0.983333\n",
       "11  0.130863  0.961183  0.074524      0.991667\n",
       "12  0.109770  0.968577  0.096302      0.983333\n",
       "13  0.109669  0.974122  0.083541      0.983333\n",
       "14  0.062843  0.983364  0.091937      0.991667\n",
       "15  0.059238  0.980591  0.086335      0.991667\n",
       "16  0.039050  0.986137  0.105629      0.991667\n",
       "17  0.026853  0.996303  0.102021      0.991667\n",
       "18  0.019024  0.996303  0.102230      0.991667\n",
       "19  0.018880  0.997227  0.114382      0.991667\n",
       "20  0.011521  0.998152  0.098457      0.991667\n",
       "21  0.012719  0.998152  0.091954      0.991667\n",
       "22  0.013704  0.998152  0.102252      0.991667\n",
       "23  0.008616  1.000000  0.108589      0.991667\n",
       "24  0.008129  0.998152  0.106861      0.991667\n",
       "25  0.004927  1.000000  0.118958      0.991667\n",
       "26  0.005076  0.999076  0.112995      0.991667\n",
       "27  0.005980  0.998152  0.110666      0.991667\n",
       "28  0.004322  1.000000  0.109373      0.991667\n",
       "29  0.005180  1.000000  0.114521      0.991667"
      ]
     },
     "execution_count": 22,
     "metadata": {},
     "output_type": "execute_result"
    }
   ],
   "source": [
    "hist = pd.DataFrame(cnn.history.history)\n",
    "hist"
   ]
  },
  {
   "cell_type": "code",
   "execution_count": 12,
   "metadata": {},
   "outputs": [
    {
     "name": "stdout",
     "output_type": "stream",
     "text": [
      "Model: \"sequential\"\n",
      "_________________________________________________________________\n",
      " Layer (type)                Output Shape              Param #   \n",
      "=================================================================\n",
      " conv2d (Conv2D)             (None, 228, 228, 16)      448       \n",
      "                                                                 \n",
      " max_pooling2d (MaxPooling2D  (None, 114, 114, 16)     0         \n",
      " )                                                               \n",
      "                                                                 \n",
      " conv2d_1 (Conv2D)           (None, 114, 114, 32)      4640      \n",
      "                                                                 \n",
      " max_pooling2d_1 (MaxPooling  (None, 57, 57, 32)       0         \n",
      " 2D)                                                             \n",
      "                                                                 \n",
      " conv2d_2 (Conv2D)           (None, 57, 57, 64)        18496     \n",
      "                                                                 \n",
      " max_pooling2d_2 (MaxPooling  (None, 28, 28, 64)       0         \n",
      " 2D)                                                             \n",
      "                                                                 \n",
      " flatten (Flatten)           (None, 50176)             0         \n",
      "                                                                 \n",
      " dense (Dense)               (None, 128)               6422656   \n",
      "                                                                 \n",
      " dropout (Dropout)           (None, 128)               0         \n",
      "                                                                 \n",
      " dense_1 (Dense)             (None, 3)                 387       \n",
      "                                                                 \n",
      "=================================================================\n",
      "Total params: 6,446,627\n",
      "Trainable params: 6,446,627\n",
      "Non-trainable params: 0\n",
      "_________________________________________________________________\n"
     ]
    }
   ],
   "source": [
    "cnn.summary()"
   ]
  },
  {
   "cell_type": "code",
   "execution_count": 13,
   "metadata": {},
   "outputs": [
    {
     "name": "stdout",
     "output_type": "stream",
     "text": [
      "INFO:tensorflow:Assets written to: CNN16_32_64_128_3_100Images\\assets\n"
     ]
    }
   ],
   "source": [
    "cnn.save('CNN16_32_64_128_3_100Images')"
   ]
  },
  {
   "cell_type": "code",
   "execution_count": 14,
   "metadata": {},
   "outputs": [
    {
     "name": "stdout",
     "output_type": "stream",
     "text": [
      "Model: \"sequential\"\n",
      "_________________________________________________________________\n",
      " Layer (type)                Output Shape              Param #   \n",
      "=================================================================\n",
      " conv2d (Conv2D)             (None, 228, 228, 16)      448       \n",
      "                                                                 \n",
      " max_pooling2d (MaxPooling2D  (None, 114, 114, 16)     0         \n",
      " )                                                               \n",
      "                                                                 \n",
      " conv2d_1 (Conv2D)           (None, 114, 114, 32)      4640      \n",
      "                                                                 \n",
      " max_pooling2d_1 (MaxPooling  (None, 57, 57, 32)       0         \n",
      " 2D)                                                             \n",
      "                                                                 \n",
      " conv2d_2 (Conv2D)           (None, 57, 57, 64)        18496     \n",
      "                                                                 \n",
      " max_pooling2d_2 (MaxPooling  (None, 28, 28, 64)       0         \n",
      " 2D)                                                             \n",
      "                                                                 \n",
      " flatten (Flatten)           (None, 50176)             0         \n",
      "                                                                 \n",
      " dense (Dense)               (None, 128)               6422656   \n",
      "                                                                 \n",
      " dropout (Dropout)           (None, 128)               0         \n",
      "                                                                 \n",
      " dense_1 (Dense)             (None, 3)                 387       \n",
      "                                                                 \n",
      "=================================================================\n",
      "Total params: 6,446,627\n",
      "Trainable params: 6,446,627\n",
      "Non-trainable params: 0\n",
      "_________________________________________________________________\n"
     ]
    }
   ],
   "source": [
    "model = tf.keras.models.load_model('CNN16_32_64_128_3')\n",
    "model.summary()"
   ]
  },
  {
   "cell_type": "code",
   "execution_count": 15,
   "metadata": {},
   "outputs": [
    {
     "name": "stdout",
     "output_type": "stream",
     "text": [
      "Found 120 images belonging to 3 classes.\n"
     ]
    }
   ],
   "source": [
    "datagen_test = tf.keras.preprocessing.image.ImageDataGenerator(\n",
    "    rescale= 1/255.\n",
    ")\n",
    "test_datagen = datagen.flow_from_directory(\n",
    "    'data',\n",
    "    target_size=(228, 228),\n",
    "    batch_size=60\n",
    ")"
   ]
  },
  {
   "cell_type": "code",
   "execution_count": 16,
   "metadata": {},
   "outputs": [],
   "source": [
    "test_images, test_labels = next(iter(test_datagen))"
   ]
  },
  {
   "cell_type": "code",
   "execution_count": 17,
   "metadata": {},
   "outputs": [
    {
     "name": "stdout",
     "output_type": "stream",
     "text": [
      "2/2 [==============================] - 1s 209ms/step - loss: 0.0585 - accuracy: 0.9667\n"
     ]
    },
    {
     "data": {
      "text/plain": [
       "[0.05852450802922249, 0.9666666388511658]"
      ]
     },
     "execution_count": 17,
     "metadata": {},
     "output_type": "execute_result"
    }
   ],
   "source": [
    "model.evaluate(test_images, test_labels)"
   ]
  },
  {
   "cell_type": "code",
   "execution_count": 18,
   "metadata": {},
   "outputs": [
    {
     "data": {
      "text/plain": [
       "array([[9.9999797e-01, 1.1052759e-09, 2.0498733e-06],\n",
       "       [3.5837475e-05, 1.4768536e-04, 9.9981648e-01],\n",
       "       [4.2099422e-01, 5.4150146e-01, 3.7504334e-02],\n",
       "       [5.3402158e-03, 9.9029875e-01, 4.3610078e-03],\n",
       "       [3.6937673e-02, 8.9905256e-01, 6.4009808e-02],\n",
       "       [1.6755598e-04, 9.2851353e-01, 7.1318895e-02],\n",
       "       [5.7373950e-03, 7.4883354e-01, 2.4542898e-01],\n",
       "       [2.2285631e-05, 2.8684332e-07, 9.9997747e-01],\n",
       "       [1.8323010e-03, 9.9550253e-01, 2.6651791e-03],\n",
       "       [3.9635159e-02, 1.1098178e-02, 9.4926667e-01],\n",
       "       [9.9970728e-01, 7.5138989e-05, 2.1765755e-04],\n",
       "       [9.9902821e-01, 3.1357369e-05, 9.4047788e-04],\n",
       "       [9.8763984e-01, 1.6972242e-04, 1.2190328e-02],\n",
       "       [1.0655771e-04, 2.4144003e-07, 9.9989319e-01],\n",
       "       [8.6772032e-03, 5.0539835e-03, 9.8626882e-01],\n",
       "       [9.6073600e-11, 2.1366648e-09, 1.0000000e+00],\n",
       "       [4.5284224e-08, 9.9982435e-01, 1.7562966e-04],\n",
       "       [9.9973041e-01, 4.0110262e-07, 2.6923433e-04],\n",
       "       [6.1179325e-04, 6.7923241e-04, 9.9870896e-01],\n",
       "       [9.9997079e-01, 5.2430899e-08, 2.9165209e-05],\n",
       "       [2.4437364e-11, 9.9989903e-01, 1.0100649e-04],\n",
       "       [5.6110423e-02, 9.3671525e-01, 7.1743703e-03],\n",
       "       [2.9625392e-07, 2.7141285e-05, 9.9997258e-01],\n",
       "       [4.6160789e-05, 7.1970090e-02, 9.2798382e-01],\n",
       "       [9.9947292e-01, 1.7322744e-05, 5.0985557e-04],\n",
       "       [6.9710959e-06, 3.3764647e-06, 9.9998963e-01],\n",
       "       [9.9999535e-01, 3.5084306e-06, 1.1652480e-06],\n",
       "       [4.5390683e-03, 7.0845312e-01, 2.8700778e-01],\n",
       "       [6.0470157e-10, 3.9115056e-04, 9.9960893e-01],\n",
       "       [9.9999881e-01, 1.2125987e-06, 2.3679684e-08],\n",
       "       [6.3583666e-11, 6.1832219e-09, 1.0000000e+00],\n",
       "       [6.8153148e-03, 9.7651559e-01, 1.6669074e-02],\n",
       "       [9.9942327e-01, 2.2154802e-06, 5.7451567e-04],\n",
       "       [8.4181327e-01, 2.7769757e-04, 1.5790902e-01],\n",
       "       [9.9865687e-01, 2.2280464e-04, 1.1202797e-03],\n",
       "       [5.0908305e-10, 9.9958891e-01, 4.1107263e-04],\n",
       "       [9.9998415e-01, 9.5127206e-07, 1.4931318e-05],\n",
       "       [5.2818912e-15, 9.9947041e-01, 5.2955846e-04],\n",
       "       [2.4609695e-10, 9.5460591e-11, 1.0000000e+00],\n",
       "       [1.6744857e-01, 4.0399072e-01, 4.2856076e-01],\n",
       "       [7.8445064e-09, 1.8132667e-07, 9.9999976e-01],\n",
       "       [2.6103817e-11, 9.9985969e-01, 1.4023586e-04],\n",
       "       [2.1558958e-07, 1.1810818e-06, 9.9999857e-01],\n",
       "       [9.9998510e-01, 7.4649929e-06, 7.4007285e-06],\n",
       "       [9.9995923e-01, 7.7526347e-06, 3.3077988e-05],\n",
       "       [9.4739335e-08, 9.9999976e-01, 1.2408522e-07],\n",
       "       [9.9989784e-01, 6.1516171e-06, 9.5932708e-05],\n",
       "       [2.2150781e-02, 9.7601432e-01, 1.8347967e-03],\n",
       "       [9.9837744e-01, 1.3771480e-03, 2.4541991e-04],\n",
       "       [2.8665265e-05, 3.9639673e-03, 9.9600738e-01],\n",
       "       [5.0435476e-03, 9.8987365e-01, 5.0828094e-03],\n",
       "       [3.2186051e-08, 9.9429721e-01, 5.7027969e-03],\n",
       "       [1.4000219e-01, 1.7717008e-03, 8.5822606e-01],\n",
       "       [3.4225563e-05, 9.9672157e-01, 3.2442440e-03],\n",
       "       [1.3814844e-01, 7.5330472e-01, 1.0854676e-01],\n",
       "       [3.7010878e-10, 5.3947819e-08, 1.0000000e+00],\n",
       "       [1.7374736e-09, 1.2249571e-07, 9.9999988e-01],\n",
       "       [9.9991393e-01, 6.2041693e-08, 8.5963831e-05],\n",
       "       [3.5787122e-03, 2.9696946e-04, 9.9612433e-01],\n",
       "       [1.3272583e-11, 8.6159545e-08, 9.9999988e-01]], dtype=float32)"
      ]
     },
     "execution_count": 18,
     "metadata": {},
     "output_type": "execute_result"
    }
   ],
   "source": [
    "model.predict(test_images)"
   ]
  },
  {
   "cell_type": "code",
   "execution_count": 19,
   "metadata": {},
   "outputs": [
    {
     "data": {
      "text/plain": [
       "(60, 228, 228, 3)"
      ]
     },
     "execution_count": 19,
     "metadata": {},
     "output_type": "execute_result"
    }
   ],
   "source": [
    "test_images.shape"
   ]
  },
  {
   "cell_type": "markdown",
   "metadata": {},
   "source": [
    "## Visualization"
   ]
  },
  {
   "cell_type": "code",
   "execution_count": 20,
   "metadata": {},
   "outputs": [],
   "source": [
    "\n",
    "def plotNN(model):\n",
    "    history = pd.DataFrame(model.history.history)\n",
    "    plt.figure(figsize=(18, 10))\n",
    "    plt.plot(history.index.values, history['loss'], label='Training Error', color='darkorange', linewidth=3)\n",
    "    plt.plot(history.index.values, history['val_loss'], label='Validation Error', color='lightgreen', linewidth=3)\n",
    "    plt.legend()\n",
    "    plt.grid(True)\n",
    "    plt.show()"
   ]
  },
  {
   "cell_type": "code",
   "execution_count": 21,
   "metadata": {},
   "outputs": [
    {
     "data": {
      "image/png": "[encoded data removed]",
      "text/plain": [
       "<Figure size 1296x720 with 1 Axes>"
      ]
     },
     "metadata": {
      "needs_background": "light"
     },
     "output_type": "display_data"
    }
   ],
   "source": [
    "plotNN(cnn)"
   ]
  }
 ],
 "metadata": {
  "interpreter": {
   "hash": "fb97e227cdeaebedbb5a8832ec9bcb224a513f090fad38527cf80a70955bb897"
  },
  "kernelspec": {
   "display_name": "Python 3.10.2 ('venv': venv)",
   "language": "python",
   "name": "python3"
  },
  "language_info": {
   "codemirror_mode": {
    "name": "ipython",
    "version": 3
   },
   "file_extension": ".py",
   "mimetype": "text/x-python",
   "name": "python",
   "nbconvert_exporter": "python",
   "pygments_lexer": "ipython3",
   "version": "3.10.2"
  },
  "orig_nbformat": 4
 },
 "nbformat": 4,
 "nbformat_minor": 2
}
