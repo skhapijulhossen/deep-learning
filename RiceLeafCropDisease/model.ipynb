{
 "cells": [
  {
   "cell_type": "code",
   "execution_count": 1,
   "metadata": {},
   "outputs": [],
   "source": [
    "import numpy as np\n",
    "import matplotlib.pyplot as plt\n",
    "from skimage import io\n",
    "%matplotlib inline"
   ]
  },
  {
   "cell_type": "code",
   "execution_count": 2,
   "metadata": {},
   "outputs": [],
   "source": [
    "np.random.seed(42)"
   ]
  },
  {
   "cell_type": "code",
   "execution_count": 3,
   "metadata": {},
   "outputs": [],
   "source": [
    "import os\n",
    "from skimage.transform import rescale, resize\n",
    "from skimage.feature import hog"
   ]
  },
  {
   "cell_type": "code",
   "execution_count": 4,
   "metadata": {},
   "outputs": [],
   "source": [
    "class ImagePreProcessor:\n",
    "    def __init__(self, path:str):\n",
    "        self.path = path\n",
    "    \n",
    "    def transform(self):\n",
    "        image = io.imread(self.path, as_gray=True)\n",
    "        rescaled_image = rescale(image, 1/2)\n",
    "        resized_image = resize(rescaled_image, (228,228))\n",
    "        hog_feature = hog(resized_image)\n",
    "        return np.array([hog_feature])\n"
   ]
  },
  {
   "cell_type": "code",
   "execution_count": 5,
   "metadata": {},
   "outputs": [
    {
     "data": {
      "text/plain": [
       "(1, 54756)"
      ]
     },
     "execution_count": 5,
     "metadata": {},
     "output_type": "execute_result"
    }
   ],
   "source": [
    "p_image = ImagePreProcessor(r'data\\Brown_spot\\DSC_0301.JPG')\n",
    "p_image.transform().shape"
   ]
  },
  {
   "cell_type": "code",
   "execution_count": 6,
   "metadata": {},
   "outputs": [],
   "source": [
    "folders = ['Bacterial_leaf_blight', 'Brown_spot', 'Leaf_smut']\n",
    "image_vectors = []\n",
    "Labels = []\n",
    "for d in folders:\n",
    "    label = folders.index(d)\n",
    "    for file in os.listdir(f'dataSet\\\\{d}'):\n",
    "        image = io.imread(f'dataSet\\\\{d}\\\\{file}', as_gray=True)\n",
    "        rescaled_image = rescale(image, 1/2)\n",
    "        resized_image = resize(rescaled_image, (228,228))\n",
    "        hog_feature = hog(resized_image)\n",
    "        image_vectors.append(hog_feature)\n",
    "        Labels.append(label)"
   ]
  },
  {
   "cell_type": "code",
   "execution_count": 7,
   "metadata": {},
   "outputs": [],
   "source": [
    "feature_vectors = np.array(image_vectors)\n",
    "labels = np.array(Labels)"
   ]
  },
  {
   "cell_type": "code",
   "execution_count": 8,
   "metadata": {},
   "outputs": [
    {
     "data": {
      "text/plain": [
       "(339, 54756)"
      ]
     },
     "execution_count": 8,
     "metadata": {},
     "output_type": "execute_result"
    }
   ],
   "source": [
    "feature_vectors.shape"
   ]
  },
  {
   "cell_type": "code",
   "execution_count": 9,
   "metadata": {},
   "outputs": [],
   "source": [
    "# Spliting in Train, Test Set\n",
    "from sklearn.model_selection import train_test_split\n",
    "train_images, test_images, train_labels, test_labels = train_test_split(\n",
    "    feature_vectors, labels, test_size=0.25\n",
    ")"
   ]
  },
  {
   "cell_type": "code",
   "execution_count": 10,
   "metadata": {},
   "outputs": [
    {
     "data": {
      "text/plain": [
       "((254, 54756), (254,))"
      ]
     },
     "execution_count": 10,
     "metadata": {},
     "output_type": "execute_result"
    }
   ],
   "source": [
    "train_images.shape, train_labels.shape"
   ]
  },
  {
   "cell_type": "code",
   "execution_count": 11,
   "metadata": {},
   "outputs": [
    {
     "data": {
      "text/plain": [
       "(54756,)"
      ]
     },
     "execution_count": 11,
     "metadata": {},
     "output_type": "execute_result"
    }
   ],
   "source": [
    "train_images[0].shape"
   ]
  },
  {
   "cell_type": "markdown",
   "metadata": {},
   "source": [
    "# Logistic Regression"
   ]
  },
  {
   "cell_type": "code",
   "execution_count": 12,
   "metadata": {},
   "outputs": [
    {
     "data": {
      "text/plain": [
       "LogisticRegression(max_iter=5000)"
      ]
     },
     "execution_count": 12,
     "metadata": {},
     "output_type": "execute_result"
    }
   ],
   "source": [
    "from sklearn.linear_model import LogisticRegression\n",
    "model = LogisticRegression(max_iter=5000)\n",
    "model.fit(train_images, train_labels)"
   ]
  },
  {
   "cell_type": "code",
   "execution_count": 13,
   "metadata": {},
   "outputs": [
    {
     "name": "stderr",
     "output_type": "stream",
     "text": [
      "C:\\Python310\\lib\\site-packages\\sklearn\\utils\\deprecation.py:87: FutureWarning: Function plot_confusion_matrix is deprecated; Function `plot_confusion_matrix` is deprecated in 1.0 and will be removed in 1.2. Use one of the class methods: ConfusionMatrixDisplay.from_predictions or ConfusionMatrixDisplay.from_estimator.\n",
      "  warnings.warn(msg, category=FutureWarning)\n"
     ]
    },
    {
     "data": {
      "text/plain": [
       "<sklearn.metrics._plot.confusion_matrix.ConfusionMatrixDisplay at 0x1b65b847370>"
      ]
     },
     "execution_count": 13,
     "metadata": {},
     "output_type": "execute_result"
    },
    {
     "data": {
      "image/png": "[encoded data removed]",
      "text/plain": [
       "<Figure size 432x288 with 2 Axes>"
      ]
     },
     "metadata": {
      "needs_background": "light"
     },
     "output_type": "display_data"
    }
   ],
   "source": [
    "from sklearn.metrics import accuracy_score, plot_confusion_matrix\n",
    "plot_confusion_matrix(model, test_images, test_labels)"
   ]
  },
  {
   "cell_type": "code",
   "execution_count": 14,
   "metadata": {},
   "outputs": [
    {
     "data": {
      "text/plain": [
       "0.7529411764705882"
      ]
     },
     "execution_count": 14,
     "metadata": {},
     "output_type": "execute_result"
    }
   ],
   "source": [
    "ypred = model.predict(test_images).astype(np.float64)\n",
    "accuracy_score(test_labels, ypred)"
   ]
  },
  {
   "cell_type": "markdown",
   "metadata": {},
   "source": [
    "# SVM"
   ]
  },
  {
   "cell_type": "code",
   "execution_count": 15,
   "metadata": {},
   "outputs": [
    {
     "data": {
      "text/plain": [
       "SVC()"
      ]
     },
     "execution_count": 15,
     "metadata": {},
     "output_type": "execute_result"
    }
   ],
   "source": [
    "from sklearn import svm\n",
    "svc = svm.SVC()\n",
    "svc.fit(train_images, train_labels)"
   ]
  },
  {
   "cell_type": "code",
   "execution_count": 16,
   "metadata": {},
   "outputs": [
    {
     "name": "stderr",
     "output_type": "stream",
     "text": [
      "C:\\Python310\\lib\\site-packages\\sklearn\\utils\\deprecation.py:87: FutureWarning: Function plot_confusion_matrix is deprecated; Function `plot_confusion_matrix` is deprecated in 1.0 and will be removed in 1.2. Use one of the class methods: ConfusionMatrixDisplay.from_predictions or ConfusionMatrixDisplay.from_estimator.\n",
      "  warnings.warn(msg, category=FutureWarning)\n"
     ]
    },
    {
     "data": {
      "text/plain": [
       "<sklearn.metrics._plot.confusion_matrix.ConfusionMatrixDisplay at 0x1b612387f10>"
      ]
     },
     "execution_count": 16,
     "metadata": {},
     "output_type": "execute_result"
    },
    {
     "data": {
      "image/png": "[encoded data removed]",
      "text/plain": [
       "<Figure size 432x288 with 2 Axes>"
      ]
     },
     "metadata": {
      "needs_background": "light"
     },
     "output_type": "display_data"
    }
   ],
   "source": [
    "from sklearn.metrics import accuracy_score, plot_confusion_matrix\n",
    "plot_confusion_matrix(svc, test_images, test_labels)"
   ]
  },
  {
   "cell_type": "code",
   "execution_count": 17,
   "metadata": {},
   "outputs": [
    {
     "data": {
      "text/plain": [
       "0.7058823529411765"
      ]
     },
     "execution_count": 17,
     "metadata": {},
     "output_type": "execute_result"
    }
   ],
   "source": [
    "ypred = svc.predict(test_images).astype(np.float64)\n",
    "accuracy_score(test_labels, ypred)"
   ]
  },
  {
   "cell_type": "markdown",
   "metadata": {},
   "source": [
    "# Neural Network"
   ]
  },
  {
   "cell_type": "code",
   "execution_count": 18,
   "metadata": {},
   "outputs": [
    {
     "name": "stdout",
     "output_type": "stream",
     "text": [
      "Iteration 1, loss = 1.28014418\n",
      "Iteration 2, loss = 1.19640110\n",
      "Iteration 3, loss = 0.96255881\n",
      "Iteration 4, loss = 0.97430088\n",
      "Iteration 5, loss = 0.89060843\n",
      "Iteration 6, loss = 0.78704746\n",
      "Iteration 7, loss = 0.68002706\n",
      "Iteration 8, loss = 0.58768985\n",
      "Iteration 9, loss = 0.50586501\n",
      "Iteration 10, loss = 0.43538265\n",
      "Iteration 11, loss = 0.36450944\n",
      "Iteration 12, loss = 0.31112382\n",
      "Iteration 13, loss = 0.24348057\n",
      "Iteration 14, loss = 0.19736677\n",
      "Iteration 15, loss = 0.16108400\n",
      "Iteration 16, loss = 0.12108445\n",
      "Iteration 17, loss = 0.09657761\n",
      "Iteration 18, loss = 0.07222365\n",
      "Iteration 19, loss = 0.05886392\n",
      "Iteration 20, loss = 0.04720830\n",
      "Iteration 21, loss = 0.03706782\n",
      "Iteration 22, loss = 0.03218614\n",
      "Iteration 23, loss = 0.02753101\n",
      "Iteration 24, loss = 0.02344331\n",
      "Iteration 25, loss = 0.02071953\n",
      "Iteration 26, loss = 0.01876173\n",
      "Iteration 27, loss = 0.01703344\n",
      "Iteration 28, loss = 0.01552718\n",
      "Iteration 29, loss = 0.01438885\n",
      "Iteration 30, loss = 0.01350761\n",
      "Iteration 31, loss = 0.01273617\n",
      "Iteration 32, loss = 0.01202287\n",
      "Iteration 33, loss = 0.01139861\n",
      "Iteration 34, loss = 0.01089100\n",
      "Iteration 35, loss = 0.01045660\n",
      "Iteration 36, loss = 0.01006342\n",
      "Iteration 37, loss = 0.00971431\n",
      "Iteration 38, loss = 0.00939853\n",
      "Iteration 39, loss = 0.00910296\n",
      "Iteration 40, loss = 0.00883712\n",
      "Iteration 41, loss = 0.00859421\n",
      "Iteration 42, loss = 0.00837244\n",
      "Iteration 43, loss = 0.00816457\n",
      "Iteration 44, loss = 0.00796936\n",
      "Iteration 45, loss = 0.00778881\n",
      "Iteration 46, loss = 0.00761867\n",
      "Iteration 47, loss = 0.00745649\n",
      "Iteration 48, loss = 0.00730439\n",
      "Iteration 49, loss = 0.00715750\n",
      "Iteration 50, loss = 0.00702032\n",
      "Iteration 51, loss = 0.00688907\n",
      "Iteration 52, loss = 0.00676368\n",
      "Iteration 53, loss = 0.00664114\n",
      "Iteration 54, loss = 0.00652688\n",
      "Iteration 55, loss = 0.00641642\n",
      "Iteration 56, loss = 0.00630847\n",
      "Iteration 57, loss = 0.00620786\n",
      "Iteration 58, loss = 0.00610807\n",
      "Iteration 59, loss = 0.00601407\n",
      "Iteration 60, loss = 0.00592291\n",
      "Iteration 61, loss = 0.00583419\n",
      "Iteration 62, loss = 0.00574878\n",
      "Iteration 63, loss = 0.00566554\n",
      "Iteration 64, loss = 0.00558585\n",
      "Iteration 65, loss = 0.00550900\n",
      "Iteration 66, loss = 0.00543276\n",
      "Iteration 67, loss = 0.00535921\n",
      "Iteration 68, loss = 0.00528715\n",
      "Training loss did not improve more than tol=0.000100 for 10 consecutive epochs. Stopping.\n"
     ]
    },
    {
     "data": {
      "text/plain": [
       "MLPClassifier(activation='logistic', hidden_layer_sizes=(784, 228), verbose=2)"
      ]
     },
     "execution_count": 18,
     "metadata": {},
     "output_type": "execute_result"
    }
   ],
   "source": [
    "from sklearn.neural_network import MLPClassifier\n",
    "\n",
    "nn = MLPClassifier(activation='logistic',hidden_layer_sizes=(784, 228),verbose=2)\n",
    "nn.fit(train_images, train_labels)"
   ]
  },
  {
   "cell_type": "code",
   "execution_count": 19,
   "metadata": {},
   "outputs": [
    {
     "name": "stderr",
     "output_type": "stream",
     "text": [
      "C:\\Python310\\lib\\site-packages\\sklearn\\utils\\deprecation.py:87: FutureWarning: Function plot_confusion_matrix is deprecated; Function `plot_confusion_matrix` is deprecated in 1.0 and will be removed in 1.2. Use one of the class methods: ConfusionMatrixDisplay.from_predictions or ConfusionMatrixDisplay.from_estimator.\n",
      "  warnings.warn(msg, category=FutureWarning)\n"
     ]
    },
    {
     "data": {
      "text/plain": [
       "<sklearn.metrics._plot.confusion_matrix.ConfusionMatrixDisplay at 0x1b61c6ec430>"
      ]
     },
     "execution_count": 19,
     "metadata": {},
     "output_type": "execute_result"
    },
    {
     "data": {
      "image/png": "[encoded data removed]",
      "text/plain": [
       "<Figure size 432x288 with 2 Axes>"
      ]
     },
     "metadata": {
      "needs_background": "light"
     },
     "output_type": "display_data"
    }
   ],
   "source": [
    "from sklearn.metrics import accuracy_score, plot_confusion_matrix\n",
    "plot_confusion_matrix(nn, test_images, test_labels)"
   ]
  },
  {
   "cell_type": "code",
   "execution_count": 20,
   "metadata": {},
   "outputs": [
    {
     "data": {
      "text/plain": [
       "0.788235294117647"
      ]
     },
     "execution_count": 20,
     "metadata": {},
     "output_type": "execute_result"
    }
   ],
   "source": [
    "ypred = nn.predict(test_images).astype(np.float64)\n",
    "accuracy_score(test_labels, ypred)"
   ]
  },
  {
   "cell_type": "code",
   "execution_count": 36,
   "metadata": {},
   "outputs": [
    {
     "data": {
      "text/plain": [
       "['CropDiseaseClassifier_nn_784_228_92']"
      ]
     },
     "execution_count": 36,
     "metadata": {},
     "output_type": "execute_result"
    }
   ],
   "source": [
    "from joblib import dump\n",
    "dump(nn, 'CropDiseaseClassifier_nn_784_228_92')"
   ]
  },
  {
   "cell_type": "code",
   "execution_count": 23,
   "metadata": {},
   "outputs": [],
   "source": [
    "folders = ['Bacterial_leaf_blight', 'Brown_spot', 'Leaf_smut']\n",
    "image_vectorsT = []\n",
    "LabelsT = []\n",
    "for d in folders:\n",
    "    label = folders.index(d)\n",
    "    for file in os.listdir(f'data\\\\{d}'):\n",
    "        image = io.imread(f'data\\\\{d}\\\\{file}', as_gray=True)\n",
    "        rescaled_image = rescale(image, 1/2)\n",
    "        resized_image = resize(rescaled_image, (228,228))\n",
    "        hog_feature = hog(resized_image)\n",
    "        image_vectorsT.append(hog_feature)\n",
    "        LabelsT.append(label)"
   ]
  },
  {
   "cell_type": "code",
   "execution_count": 26,
   "metadata": {},
   "outputs": [],
   "source": [
    "feature_vectors_test = np.array(image_vectorsT)\n",
    "labels_test = np.array(LabelsT)"
   ]
  },
  {
   "cell_type": "code",
   "execution_count": 27,
   "metadata": {},
   "outputs": [
    {
     "data": {
      "text/plain": [
       "(120, 54756)"
      ]
     },
     "execution_count": 27,
     "metadata": {},
     "output_type": "execute_result"
    }
   ],
   "source": [
    "feature_vectors_test.shape"
   ]
  },
  {
   "cell_type": "code",
   "execution_count": 29,
   "metadata": {},
   "outputs": [
    {
     "data": {
      "text/plain": [
       "(120,)"
      ]
     },
     "execution_count": 29,
     "metadata": {},
     "output_type": "execute_result"
    }
   ],
   "source": [
    "labels_test.shape"
   ]
  },
  {
   "cell_type": "code",
   "execution_count": 33,
   "metadata": {},
   "outputs": [],
   "source": [
    "ypred = nn.predict(feature_vectors_test)"
   ]
  },
  {
   "cell_type": "code",
   "execution_count": 31,
   "metadata": {},
   "outputs": [
    {
     "name": "stderr",
     "output_type": "stream",
     "text": [
      "C:\\Python310\\lib\\site-packages\\sklearn\\utils\\deprecation.py:87: FutureWarning: Function plot_confusion_matrix is deprecated; Function `plot_confusion_matrix` is deprecated in 1.0 and will be removed in 1.2. Use one of the class methods: ConfusionMatrixDisplay.from_predictions or ConfusionMatrixDisplay.from_estimator.\n",
      "  warnings.warn(msg, category=FutureWarning)\n"
     ]
    },
    {
     "data": {
      "text/plain": [
       "<sklearn.metrics._plot.confusion_matrix.ConfusionMatrixDisplay at 0x1b61c7182b0>"
      ]
     },
     "execution_count": 31,
     "metadata": {},
     "output_type": "execute_result"
    },
    {
     "data": {
      "image/png": "[encoded data removed]",
      "text/plain": [
       "<Figure size 432x288 with 2 Axes>"
      ]
     },
     "metadata": {
      "needs_background": "light"
     },
     "output_type": "display_data"
    }
   ],
   "source": [
    "plot_confusion_matrix(nn, feature_vectors_test, labels_test)"
   ]
  },
  {
   "cell_type": "code",
   "execution_count": 35,
   "metadata": {},
   "outputs": [
    {
     "data": {
      "text/plain": [
       "0.925"
      ]
     },
     "execution_count": 35,
     "metadata": {},
     "output_type": "execute_result"
    }
   ],
   "source": [
    "ypred = nn.predict(feature_vectors_test).astype(np.float64)\n",
    "accuracy_score(labels_test, ypred)"
   ]
  },
  {
   "cell_type": "markdown",
   "metadata": {},
   "source": [
    "# NN2"
   ]
  },
  {
   "cell_type": "code",
   "execution_count": 37,
   "metadata": {},
   "outputs": [
    {
     "name": "stdout",
     "output_type": "stream",
     "text": [
      "Iteration 1, loss = 1.13526940\n",
      "Iteration 2, loss = 1.11874339\n",
      "Iteration 3, loss = 1.11349540\n",
      "Iteration 4, loss = 1.10668544\n",
      "Iteration 5, loss = 1.10218332\n",
      "Iteration 6, loss = 1.09669038\n",
      "Iteration 7, loss = 1.09178688\n",
      "Iteration 8, loss = 1.08562653\n",
      "Iteration 9, loss = 1.07716457\n",
      "Iteration 10, loss = 1.06652301\n",
      "Iteration 11, loss = 1.05288547\n",
      "Iteration 12, loss = 1.03629770\n",
      "Iteration 13, loss = 1.01894444\n",
      "Iteration 14, loss = 0.99447241\n",
      "Iteration 15, loss = 0.97172335\n",
      "Iteration 16, loss = 0.94898943\n",
      "Iteration 17, loss = 0.92543567\n",
      "Iteration 18, loss = 0.90357545\n",
      "Iteration 19, loss = 0.88221812\n",
      "Iteration 20, loss = 0.86234971\n",
      "Iteration 21, loss = 0.84338668\n",
      "Iteration 22, loss = 0.82487588\n",
      "Iteration 23, loss = 0.80707676\n",
      "Iteration 24, loss = 0.78959985\n",
      "Iteration 25, loss = 0.77311112\n",
      "Iteration 26, loss = 0.75668129\n",
      "Iteration 27, loss = 0.74152740\n",
      "Iteration 28, loss = 0.72651599\n",
      "Iteration 29, loss = 0.71267955\n",
      "Iteration 30, loss = 0.69927078\n",
      "Iteration 31, loss = 0.68666574\n",
      "Iteration 32, loss = 0.67464482\n",
      "Iteration 33, loss = 0.66310649\n",
      "Iteration 34, loss = 0.65211922\n",
      "Iteration 35, loss = 0.64159189\n",
      "Iteration 36, loss = 0.63144552\n",
      "Iteration 37, loss = 0.62164174\n",
      "Iteration 38, loss = 0.61221842\n",
      "Iteration 39, loss = 0.60309649\n",
      "Iteration 40, loss = 0.59430036\n",
      "Iteration 41, loss = 0.58571334\n",
      "Iteration 42, loss = 0.57742657\n",
      "Iteration 43, loss = 0.56948882\n",
      "Iteration 44, loss = 0.56163262\n",
      "Iteration 45, loss = 0.55409495\n",
      "Iteration 46, loss = 0.54678484\n",
      "Iteration 47, loss = 0.53959141\n",
      "Iteration 48, loss = 0.53265125\n",
      "Iteration 49, loss = 0.52580130\n",
      "Iteration 50, loss = 0.51915029\n",
      "Iteration 51, loss = 0.51263425\n",
      "Iteration 52, loss = 0.50624250\n",
      "Iteration 53, loss = 0.49995598\n",
      "Iteration 54, loss = 0.49377539\n",
      "Iteration 55, loss = 0.48768399\n",
      "Iteration 56, loss = 0.48174363\n",
      "Iteration 57, loss = 0.47587822\n",
      "Iteration 58, loss = 0.47009930\n",
      "Iteration 59, loss = 0.46440978\n",
      "Iteration 60, loss = 0.45888211\n",
      "Iteration 61, loss = 0.45339082\n",
      "Iteration 62, loss = 0.44801563\n",
      "Iteration 63, loss = 0.44271061\n",
      "Iteration 64, loss = 0.43750887\n",
      "Iteration 65, loss = 0.43234682\n",
      "Iteration 66, loss = 0.42732393\n",
      "Iteration 67, loss = 0.42234623\n",
      "Iteration 68, loss = 0.41745315\n",
      "Iteration 69, loss = 0.41268427\n",
      "Iteration 70, loss = 0.40788875\n",
      "Iteration 71, loss = 0.40327516\n",
      "Iteration 72, loss = 0.39873333\n",
      "Iteration 73, loss = 0.39420964\n",
      "Iteration 74, loss = 0.38979623\n",
      "Iteration 75, loss = 0.38542630\n",
      "Iteration 76, loss = 0.38120012\n",
      "Iteration 77, loss = 0.37694664\n",
      "Iteration 78, loss = 0.37282466\n",
      "Iteration 79, loss = 0.36872501\n",
      "Iteration 80, loss = 0.36469629\n",
      "Iteration 81, loss = 0.36069613\n",
      "Iteration 82, loss = 0.35676248\n",
      "Iteration 83, loss = 0.35283673\n",
      "Iteration 84, loss = 0.34902932\n",
      "Iteration 85, loss = 0.34522073\n",
      "Iteration 86, loss = 0.34150225\n",
      "Iteration 87, loss = 0.33775116\n",
      "Iteration 88, loss = 0.33413330\n",
      "Iteration 89, loss = 0.33052517\n",
      "Iteration 90, loss = 0.32698505\n",
      "Iteration 91, loss = 0.32347770\n",
      "Iteration 92, loss = 0.32001248\n",
      "Iteration 93, loss = 0.31657860\n",
      "Iteration 94, loss = 0.31319800\n",
      "Iteration 95, loss = 0.30984213\n",
      "Iteration 96, loss = 0.30657155\n",
      "Iteration 97, loss = 0.30328966\n",
      "Iteration 98, loss = 0.30009585\n",
      "Iteration 99, loss = 0.29689361\n",
      "Iteration 100, loss = 0.29379715\n",
      "Iteration 101, loss = 0.29072086\n",
      "Iteration 102, loss = 0.28765659\n",
      "Iteration 103, loss = 0.28468518\n",
      "Iteration 104, loss = 0.28174267\n",
      "Iteration 105, loss = 0.27881750\n",
      "Iteration 106, loss = 0.27595989\n",
      "Iteration 107, loss = 0.27315388\n",
      "Iteration 108, loss = 0.27038955\n",
      "Iteration 109, loss = 0.26763500\n",
      "Iteration 110, loss = 0.26494484\n",
      "Iteration 111, loss = 0.26230184\n",
      "Iteration 112, loss = 0.25969401\n",
      "Iteration 113, loss = 0.25711694\n",
      "Iteration 114, loss = 0.25457872\n",
      "Iteration 115, loss = 0.25206131\n",
      "Iteration 116, loss = 0.24958604\n",
      "Iteration 117, loss = 0.24714098\n",
      "Iteration 118, loss = 0.24474398\n",
      "Iteration 119, loss = 0.24235087\n",
      "Iteration 120, loss = 0.23999685\n",
      "Iteration 121, loss = 0.23767285\n",
      "Iteration 122, loss = 0.23537426\n",
      "Iteration 123, loss = 0.23314003\n",
      "Iteration 124, loss = 0.23091168\n",
      "Iteration 125, loss = 0.22872770\n",
      "Iteration 126, loss = 0.22658121\n",
      "Iteration 127, loss = 0.22445132\n",
      "Iteration 128, loss = 0.22236086\n",
      "Iteration 129, loss = 0.22031939\n",
      "Iteration 130, loss = 0.21828514\n",
      "Iteration 131, loss = 0.21629305\n",
      "Iteration 132, loss = 0.21431993\n",
      "Iteration 133, loss = 0.21237515\n",
      "Iteration 134, loss = 0.21047826\n",
      "Iteration 135, loss = 0.20856527\n",
      "Iteration 136, loss = 0.20669417\n",
      "Iteration 137, loss = 0.20485156\n",
      "Iteration 138, loss = 0.20302783\n",
      "Iteration 139, loss = 0.20122377\n",
      "Iteration 140, loss = 0.19943666\n",
      "Iteration 141, loss = 0.19768200\n",
      "Iteration 142, loss = 0.19594875\n",
      "Iteration 143, loss = 0.19422493\n",
      "Iteration 144, loss = 0.19251885\n",
      "Iteration 145, loss = 0.19082889\n",
      "Iteration 146, loss = 0.18914423\n",
      "Iteration 147, loss = 0.18747601\n",
      "Iteration 148, loss = 0.18584295\n",
      "Iteration 149, loss = 0.18419348\n",
      "Iteration 150, loss = 0.18258055\n",
      "Iteration 151, loss = 0.18098723\n",
      "Iteration 152, loss = 0.17940783\n",
      "Iteration 153, loss = 0.17785433\n",
      "Iteration 154, loss = 0.17632492\n",
      "Iteration 155, loss = 0.17481988\n",
      "Iteration 156, loss = 0.17332168\n",
      "Iteration 157, loss = 0.17183805\n",
      "Iteration 158, loss = 0.17038772\n",
      "Iteration 159, loss = 0.16895359\n",
      "Iteration 160, loss = 0.16753783\n",
      "Iteration 161, loss = 0.16612765\n",
      "Iteration 162, loss = 0.16473529\n",
      "Iteration 163, loss = 0.16336772\n",
      "Iteration 164, loss = 0.16202241\n",
      "Iteration 165, loss = 0.16067352\n",
      "Iteration 166, loss = 0.15934761\n",
      "Iteration 167, loss = 0.15804088\n",
      "Iteration 168, loss = 0.15674560\n",
      "Iteration 169, loss = 0.15546726\n",
      "Iteration 170, loss = 0.15419975\n",
      "Iteration 171, loss = 0.15294510\n",
      "Iteration 172, loss = 0.15170080\n",
      "Iteration 173, loss = 0.15046074\n",
      "Iteration 174, loss = 0.14924017\n",
      "Iteration 175, loss = 0.14805049\n",
      "Iteration 176, loss = 0.14684017\n",
      "Iteration 177, loss = 0.14565468\n",
      "Iteration 178, loss = 0.14449458\n",
      "Iteration 179, loss = 0.14333991\n",
      "Iteration 180, loss = 0.14219146\n",
      "Iteration 181, loss = 0.14107941\n",
      "Iteration 182, loss = 0.13994929\n",
      "Iteration 183, loss = 0.13884495\n",
      "Iteration 184, loss = 0.13775210\n",
      "Iteration 185, loss = 0.13666241\n",
      "Iteration 186, loss = 0.13559383\n",
      "Iteration 187, loss = 0.13452443\n",
      "Iteration 188, loss = 0.13346618\n",
      "Iteration 189, loss = 0.13243151\n",
      "Iteration 190, loss = 0.13139391\n",
      "Iteration 191, loss = 0.13037083\n",
      "Iteration 192, loss = 0.12936075\n",
      "Iteration 193, loss = 0.12835854\n",
      "Iteration 194, loss = 0.12736842\n",
      "Iteration 195, loss = 0.12638894\n",
      "Iteration 196, loss = 0.12541685\n",
      "Iteration 197, loss = 0.12445636\n",
      "Iteration 198, loss = 0.12350367\n",
      "Iteration 199, loss = 0.12255942\n",
      "Iteration 200, loss = 0.12162645\n"
     ]
    },
    {
     "name": "stderr",
     "output_type": "stream",
     "text": [
      "C:\\Python310\\lib\\site-packages\\sklearn\\neural_network\\_multilayer_perceptron.py:692: ConvergenceWarning: Stochastic Optimizer: Maximum iterations (200) reached and the optimization hasn't converged yet.\n",
      "  warnings.warn(\n"
     ]
    },
    {
     "data": {
      "text/plain": [
       "MLPClassifier(activation='logistic', hidden_layer_sizes=(784, 228, 64, 10),\n",
       "              verbose=2)"
      ]
     },
     "execution_count": 37,
     "metadata": {},
     "output_type": "execute_result"
    }
   ],
   "source": [
    "nn = MLPClassifier(activation='logistic',hidden_layer_sizes=(784, 228, 64,10 ),verbose=2)\n",
    "nn.fit(train_images, train_labels)"
   ]
  },
  {
   "cell_type": "code",
   "execution_count": 38,
   "metadata": {},
   "outputs": [
    {
     "data": {
      "text/plain": [
       "0.7411764705882353"
      ]
     },
     "execution_count": 38,
     "metadata": {},
     "output_type": "execute_result"
    }
   ],
   "source": [
    "ypred = nn.predict(test_images).astype(np.float64)\n",
    "accuracy_score(test_labels, ypred)"
   ]
  },
  {
   "cell_type": "code",
   "execution_count": 39,
   "metadata": {},
   "outputs": [
    {
     "data": {
      "text/plain": [
       "0.9333333333333333"
      ]
     },
     "execution_count": 39,
     "metadata": {},
     "output_type": "execute_result"
    }
   ],
   "source": [
    "ypred = nn.predict(feature_vectors_test).astype(np.float64)\n",
    "accuracy_score(labels_test, ypred)"
   ]
  },
  {
   "cell_type": "code",
   "execution_count": 40,
   "metadata": {},
   "outputs": [
    {
     "data": {
      "text/plain": [
       "['CropDiseaseClassifier_nn_784_228_64_10_93']"
      ]
     },
     "execution_count": 40,
     "metadata": {},
     "output_type": "execute_result"
    }
   ],
   "source": [
    "dump(nn, 'CropDiseaseClassifier_nn_784_228_64_10_93')"
   ]
  }
 ],
 "metadata": {
  "interpreter": {
   "hash": "2be5faf79681da6f2a61fdfdd5405d65d042280f7fba6178067603e3a2925119"
  },
  "kernelspec": {
   "display_name": "Python 3.10.1 64-bit",
   "language": "python",
   "name": "python3"
  },
  "language_info": {
   "codemirror_mode": {
    "name": "ipython",
    "version": 3
   },
   "file_extension": ".py",
   "mimetype": "text/x-python",
   "name": "python",
   "nbconvert_exporter": "python",
   "pygments_lexer": "ipython3",
   "version": "3.10.2"
  },
  "orig_nbformat": 4
 },
 "nbformat": 4,
 "nbformat_minor": 2
}
