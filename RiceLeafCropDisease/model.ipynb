{
 "cells": [
  {
   "cell_type": "code",
   "execution_count": 1,
   "metadata": {},
   "outputs": [],
   "source": [
    "import numpy as np\n",
    "import matplotlib.pyplot as plt\n",
    "from skimage import io\n",
    "%matplotlib inline"
   ]
  },
  {
   "cell_type": "code",
   "execution_count": 2,
   "metadata": {},
   "outputs": [],
   "source": [
    "np.random.seed(42)"
   ]
  },
  {
   "cell_type": "code",
   "execution_count": 3,
   "metadata": {},
   "outputs": [],
   "source": [
    "import os\n",
    "from skimage.transform import rescale, resize\n",
    "from skimage.feature import hog"
   ]
  },
  {
   "cell_type": "code",
   "execution_count": 4,
   "metadata": {},
   "outputs": [],
   "source": [
    "class ImagePreProcessor:\n",
    "    def __init__(self, path:str):\n",
    "        self.path = path\n",
    "    \n",
    "    def transform(self):\n",
    "        image = io.imread(self.path, as_gray=True)\n",
    "        rescaled_image = rescale(image, 1/3)\n",
    "        resized_image = resize(rescaled_image, (228,228))\n",
    "        hog_feature = hog(resized_image)\n",
    "        return np.array([hog_feature])\n"
   ]
  },
  {
   "cell_type": "code",
   "execution_count": 5,
   "metadata": {},
   "outputs": [
    {
     "data": {
      "text/plain": [
       "(1, 54756)"
      ]
     },
     "execution_count": 5,
     "metadata": {},
     "output_type": "execute_result"
    }
   ],
   "source": [
    "p_image = ImagePreProcessor(r'data\\Brown_spot\\DSC_0301.JPG')\n",
    "p_image.transform().shape"
   ]
  },
  {
   "cell_type": "code",
   "execution_count": 6,
   "metadata": {},
   "outputs": [],
   "source": [
    "folders = ['Bacterial_leaf_blight', 'Brown_spot', 'Leaf_smut']\n",
    "image_vectors = []\n",
    "Labels = []\n",
    "for d in folders:\n",
    "    label = folders.index(d)\n",
    "    for file in os.listdir(f'data\\\\{d}'):\n",
    "        image = io.imread(f'data\\\\{d}\\\\{file}', as_gray=True)\n",
    "        for scaler in [1/2, 1/3]:\n",
    "            rescaled_image = rescale(image, scaler)\n",
    "            resized_image = resize(rescaled_image, (228,228))\n",
    "            hog_feature = hog(resized_image)\n",
    "            image_vectors.append(hog_feature)\n",
    "            Labels.append(label)"
   ]
  },
  {
   "cell_type": "code",
   "execution_count": 7,
   "metadata": {},
   "outputs": [],
   "source": [
    "feature_vectors = np.array(image_vectors)\n",
    "labels = np.array(Labels)"
   ]
  },
  {
   "cell_type": "code",
   "execution_count": 9,
   "metadata": {},
   "outputs": [
    {
     "data": {
      "text/plain": [
       "(240, 54756)"
      ]
     },
     "execution_count": 9,
     "metadata": {},
     "output_type": "execute_result"
    }
   ],
   "source": [
    "feature_vectors.shape"
   ]
  },
  {
   "cell_type": "code",
   "execution_count": 10,
   "metadata": {},
   "outputs": [],
   "source": [
    "# Spliting in Train, Test Set\n",
    "from sklearn.model_selection import train_test_split\n",
    "train_images, test_images, train_labels, test_labels = train_test_split(\n",
    "    feature_vectors, labels, test_size=0.25\n",
    ")"
   ]
  },
  {
   "cell_type": "code",
   "execution_count": 11,
   "metadata": {},
   "outputs": [
    {
     "data": {
      "text/plain": [
       "((180, 54756), (180,))"
      ]
     },
     "execution_count": 11,
     "metadata": {},
     "output_type": "execute_result"
    }
   ],
   "source": [
    "train_images.shape, train_labels.shape"
   ]
  },
  {
   "cell_type": "code",
   "execution_count": 12,
   "metadata": {},
   "outputs": [
    {
     "data": {
      "text/plain": [
       "(54756,)"
      ]
     },
     "execution_count": 12,
     "metadata": {},
     "output_type": "execute_result"
    }
   ],
   "source": [
    "train_images[0].shape"
   ]
  },
  {
   "cell_type": "markdown",
   "metadata": {},
   "source": [
    "# Logistic Regression"
   ]
  },
  {
   "cell_type": "code",
   "execution_count": 13,
   "metadata": {},
   "outputs": [
    {
     "data": {
      "text/plain": [
       "LogisticRegression(max_iter=5000)"
      ]
     },
     "execution_count": 13,
     "metadata": {},
     "output_type": "execute_result"
    }
   ],
   "source": [
    "from sklearn.linear_model import LogisticRegression\n",
    "model = LogisticRegression(max_iter=5000)\n",
    "model.fit(train_images, train_labels)"
   ]
  },
  {
   "cell_type": "code",
   "execution_count": 14,
   "metadata": {},
   "outputs": [
    {
     "name": "stderr",
     "output_type": "stream",
     "text": [
      "d:\\skhapijulhossen\\deep-learning\\RiceLeafCropDisease\\venv\\lib\\site-packages\\sklearn\\utils\\deprecation.py:87: FutureWarning: Function plot_confusion_matrix is deprecated; Function `plot_confusion_matrix` is deprecated in 1.0 and will be removed in 1.2. Use one of the class methods: ConfusionMatrixDisplay.from_predictions or ConfusionMatrixDisplay.from_estimator.\n",
      "  warnings.warn(msg, category=FutureWarning)\n"
     ]
    },
    {
     "data": {
      "text/plain": [
       "<sklearn.metrics._plot.confusion_matrix.ConfusionMatrixDisplay at 0x20591354e50>"
      ]
     },
     "execution_count": 14,
     "metadata": {},
     "output_type": "execute_result"
    },
    {
     "data": {
      "image/png": "[encoded data removed]",
      "text/plain": [
       "<Figure size 432x288 with 2 Axes>"
      ]
     },
     "metadata": {
      "needs_background": "light"
     },
     "output_type": "display_data"
    }
   ],
   "source": [
    "from sklearn.metrics import accuracy_score, plot_confusion_matrix\n",
    "plot_confusion_matrix(model, test_images, test_labels)"
   ]
  },
  {
   "cell_type": "code",
   "execution_count": 16,
   "metadata": {},
   "outputs": [
    {
     "data": {
      "text/plain": [
       "93.33333333333333"
      ]
     },
     "execution_count": 16,
     "metadata": {},
     "output_type": "execute_result"
    }
   ],
   "source": [
    "ypred = model.predict(test_images).astype(np.float64)\n",
    "accuracy_score(test_labels, ypred)*100"
   ]
  },
  {
   "cell_type": "markdown",
   "metadata": {},
   "source": [
    "# SVM"
   ]
  },
  {
   "cell_type": "code",
   "execution_count": 17,
   "metadata": {},
   "outputs": [
    {
     "data": {
      "text/plain": [
       "SVC()"
      ]
     },
     "execution_count": 17,
     "metadata": {},
     "output_type": "execute_result"
    }
   ],
   "source": [
    "from sklearn import svm\n",
    "svc = svm.SVC()\n",
    "svc.fit(train_images, train_labels)"
   ]
  },
  {
   "cell_type": "code",
   "execution_count": 18,
   "metadata": {},
   "outputs": [
    {
     "name": "stderr",
     "output_type": "stream",
     "text": [
      "d:\\skhapijulhossen\\deep-learning\\RiceLeafCropDisease\\venv\\lib\\site-packages\\sklearn\\utils\\deprecation.py:87: FutureWarning: Function plot_confusion_matrix is deprecated; Function `plot_confusion_matrix` is deprecated in 1.0 and will be removed in 1.2. Use one of the class methods: ConfusionMatrixDisplay.from_predictions or ConfusionMatrixDisplay.from_estimator.\n",
      "  warnings.warn(msg, category=FutureWarning)\n"
     ]
    },
    {
     "data": {
      "text/plain": [
       "<sklearn.metrics._plot.confusion_matrix.ConfusionMatrixDisplay at 0x205913dfdf0>"
      ]
     },
     "execution_count": 18,
     "metadata": {},
     "output_type": "execute_result"
    },
    {
     "data": {
      "image/png": "[encoded data removed]",
      "text/plain": [
       "<Figure size 432x288 with 2 Axes>"
      ]
     },
     "metadata": {
      "needs_background": "light"
     },
     "output_type": "display_data"
    }
   ],
   "source": [
    "from sklearn.metrics import accuracy_score, plot_confusion_matrix\n",
    "plot_confusion_matrix(svc, test_images, test_labels)"
   ]
  },
  {
   "cell_type": "code",
   "execution_count": 19,
   "metadata": {},
   "outputs": [
    {
     "data": {
      "text/plain": [
       "0.9833333333333333"
      ]
     },
     "execution_count": 19,
     "metadata": {},
     "output_type": "execute_result"
    }
   ],
   "source": [
    "ypred = svc.predict(test_images).astype(np.float64)\n",
    "accuracy_score(test_labels, ypred)"
   ]
  },
  {
   "cell_type": "markdown",
   "metadata": {},
   "source": [
    "# Neural Network"
   ]
  },
  {
   "cell_type": "code",
   "execution_count": 27,
   "metadata": {},
   "outputs": [
    {
     "name": "stdout",
     "output_type": "stream",
     "text": [
      "Iteration 1, loss = 1.13321765\n",
      "Iteration 2, loss = 1.11666506\n",
      "Iteration 3, loss = 1.11157466\n",
      "Iteration 4, loss = 1.10691491\n",
      "Iteration 5, loss = 1.10252003\n",
      "Iteration 6, loss = 1.09889827\n",
      "Iteration 7, loss = 1.09535422\n",
      "Iteration 8, loss = 1.09199388\n",
      "Iteration 9, loss = 1.08905720\n",
      "Iteration 10, loss = 1.08635847\n",
      "Iteration 11, loss = 1.08351380\n",
      "Iteration 12, loss = 1.08078538\n",
      "Iteration 13, loss = 1.07843870\n",
      "Iteration 14, loss = 1.07599175\n",
      "Iteration 15, loss = 1.07330338\n",
      "Iteration 16, loss = 1.07057383\n",
      "Iteration 17, loss = 1.06783130\n",
      "Iteration 18, loss = 1.06492252\n",
      "Iteration 19, loss = 1.06183710\n",
      "Iteration 20, loss = 1.05858035\n",
      "Iteration 21, loss = 1.05493365\n",
      "Iteration 22, loss = 1.05064041\n",
      "Iteration 23, loss = 1.04600501\n",
      "Iteration 24, loss = 1.04192957\n",
      "Iteration 25, loss = 1.03793495\n",
      "Iteration 26, loss = 1.03340443\n",
      "Iteration 27, loss = 1.02849775\n",
      "Iteration 28, loss = 1.02370270\n",
      "Iteration 29, loss = 1.01856784\n",
      "Iteration 30, loss = 1.01325150\n",
      "Iteration 31, loss = 1.00791244\n",
      "Iteration 32, loss = 1.00219556\n",
      "Iteration 33, loss = 0.99623906\n",
      "Iteration 34, loss = 0.99012796\n",
      "Iteration 35, loss = 0.98397496\n",
      "Iteration 36, loss = 0.97754158\n",
      "Iteration 37, loss = 0.97059312\n",
      "Iteration 38, loss = 0.96344921\n",
      "Iteration 39, loss = 0.95655418\n",
      "Iteration 40, loss = 0.94962266\n",
      "Iteration 41, loss = 0.94264971\n",
      "Iteration 42, loss = 0.93537130\n",
      "Iteration 43, loss = 0.92772603\n",
      "Iteration 44, loss = 0.92008209\n",
      "Iteration 45, loss = 0.91257250\n",
      "Iteration 46, loss = 0.90503281\n",
      "Iteration 47, loss = 0.89727431\n",
      "Iteration 48, loss = 0.88953287\n",
      "Iteration 49, loss = 0.88186997\n",
      "Iteration 50, loss = 0.87411491\n",
      "Iteration 51, loss = 0.86631426\n",
      "Iteration 52, loss = 0.85852896\n",
      "Iteration 53, loss = 0.85085665\n",
      "Iteration 54, loss = 0.84333800\n",
      "Iteration 55, loss = 0.83576697\n",
      "Iteration 56, loss = 0.82804557\n",
      "Iteration 57, loss = 0.82055174\n",
      "Iteration 58, loss = 0.81327783\n",
      "Iteration 59, loss = 0.80610637\n",
      "Iteration 60, loss = 0.79896507\n",
      "Iteration 61, loss = 0.79195180\n",
      "Iteration 62, loss = 0.78494900\n",
      "Iteration 63, loss = 0.77810202\n",
      "Iteration 64, loss = 0.77130719\n",
      "Iteration 65, loss = 0.76462661\n",
      "Iteration 66, loss = 0.75778982\n",
      "Iteration 67, loss = 0.75125361\n",
      "Iteration 68, loss = 0.74541626\n",
      "Iteration 69, loss = 0.73938273\n",
      "Iteration 70, loss = 0.73307979\n",
      "Iteration 71, loss = 0.72699563\n",
      "Iteration 72, loss = 0.72097659\n",
      "Iteration 73, loss = 0.71540640\n",
      "Iteration 74, loss = 0.70990965\n",
      "Iteration 75, loss = 0.70438943\n",
      "Iteration 76, loss = 0.69880770\n",
      "Iteration 77, loss = 0.69317242\n",
      "Iteration 78, loss = 0.68783148\n",
      "Iteration 79, loss = 0.68277494\n",
      "Iteration 80, loss = 0.67742656\n",
      "Iteration 81, loss = 0.67223907\n",
      "Iteration 82, loss = 0.66728177\n",
      "Iteration 83, loss = 0.66222432\n",
      "Iteration 84, loss = 0.65711175\n",
      "Iteration 85, loss = 0.65217937\n",
      "Iteration 86, loss = 0.64730483\n",
      "Iteration 87, loss = 0.64235084\n",
      "Iteration 88, loss = 0.63745492\n",
      "Iteration 89, loss = 0.63268429\n",
      "Iteration 90, loss = 0.62781789\n",
      "Iteration 91, loss = 0.62287070\n",
      "Iteration 92, loss = 0.61795273\n",
      "Iteration 93, loss = 0.61315719\n",
      "Iteration 94, loss = 0.60804099\n",
      "Iteration 95, loss = 0.60311078\n",
      "Iteration 96, loss = 0.59812912\n",
      "Iteration 97, loss = 0.59313866\n",
      "Iteration 98, loss = 0.58827253\n",
      "Iteration 99, loss = 0.58313026\n",
      "Iteration 100, loss = 0.57819221\n",
      "Iteration 101, loss = 0.57307848\n",
      "Iteration 102, loss = 0.56807590\n",
      "Iteration 103, loss = 0.56300938\n",
      "Iteration 104, loss = 0.55788678\n",
      "Iteration 105, loss = 0.55280986\n",
      "Iteration 106, loss = 0.54753815\n",
      "Iteration 107, loss = 0.54225753\n",
      "Iteration 108, loss = 0.53697382\n",
      "Iteration 109, loss = 0.53155090\n",
      "Iteration 110, loss = 0.52618705\n",
      "Iteration 111, loss = 0.52081287\n",
      "Iteration 112, loss = 0.51546914\n",
      "Iteration 113, loss = 0.51020946\n",
      "Iteration 114, loss = 0.50496436\n",
      "Iteration 115, loss = 0.49979273\n",
      "Iteration 116, loss = 0.49466111\n",
      "Iteration 117, loss = 0.48959055\n",
      "Iteration 118, loss = 0.48454486\n",
      "Iteration 119, loss = 0.47946842\n",
      "Iteration 120, loss = 0.47432835\n",
      "Iteration 121, loss = 0.46897102\n",
      "Iteration 122, loss = 0.46408251\n",
      "Iteration 123, loss = 0.45890262\n",
      "Iteration 124, loss = 0.45353987\n",
      "Iteration 125, loss = 0.44869763\n",
      "Iteration 126, loss = 0.44331238\n",
      "Iteration 127, loss = 0.43756697\n",
      "Iteration 128, loss = 0.43289308\n",
      "Iteration 129, loss = 0.42741052\n",
      "Iteration 130, loss = 0.42238176\n",
      "Iteration 131, loss = 0.41703763\n",
      "Iteration 132, loss = 0.41231689\n",
      "Iteration 133, loss = 0.40737192\n",
      "Iteration 134, loss = 0.40273854\n",
      "Iteration 135, loss = 0.39790567\n",
      "Iteration 136, loss = 0.39344538\n",
      "Iteration 137, loss = 0.38904339\n",
      "Iteration 138, loss = 0.38448847\n",
      "Iteration 139, loss = 0.38018434\n",
      "Iteration 140, loss = 0.37608605\n",
      "Iteration 141, loss = 0.37183345\n",
      "Iteration 142, loss = 0.36767614\n",
      "Iteration 143, loss = 0.36334693\n",
      "Iteration 144, loss = 0.35963866\n",
      "Iteration 145, loss = 0.35590428\n",
      "Iteration 146, loss = 0.35204015\n",
      "Iteration 147, loss = 0.34816123\n",
      "Iteration 148, loss = 0.34456851\n",
      "Iteration 149, loss = 0.34098598\n",
      "Iteration 150, loss = 0.33720879\n",
      "Iteration 151, loss = 0.33333211\n",
      "Iteration 152, loss = 0.33015260\n",
      "Iteration 153, loss = 0.32681070\n",
      "Iteration 154, loss = 0.32329506\n",
      "Iteration 155, loss = 0.31981632\n",
      "Iteration 156, loss = 0.31677894\n",
      "Iteration 157, loss = 0.31370234\n",
      "Iteration 158, loss = 0.31047446\n",
      "Iteration 159, loss = 0.30736181\n",
      "Iteration 160, loss = 0.30447118\n",
      "Iteration 161, loss = 0.30157914\n",
      "Iteration 162, loss = 0.29860509\n",
      "Iteration 163, loss = 0.29570525\n",
      "Iteration 164, loss = 0.29291863\n",
      "Iteration 165, loss = 0.29015893\n",
      "Iteration 166, loss = 0.28738730\n",
      "Iteration 167, loss = 0.28453751\n",
      "Iteration 168, loss = 0.28187597\n",
      "Iteration 169, loss = 0.27930638\n",
      "Iteration 170, loss = 0.27664148\n",
      "Iteration 171, loss = 0.27411100\n",
      "Iteration 172, loss = 0.27160589\n",
      "Iteration 173, loss = 0.26915043\n",
      "Iteration 174, loss = 0.26668438\n",
      "Iteration 175, loss = 0.26427763\n",
      "Iteration 176, loss = 0.26195620\n",
      "Iteration 177, loss = 0.25963352\n",
      "Iteration 178, loss = 0.25731350\n",
      "Iteration 179, loss = 0.25505974\n",
      "Iteration 180, loss = 0.25286351\n",
      "Iteration 181, loss = 0.25069019\n",
      "Iteration 182, loss = 0.24854351\n",
      "Iteration 183, loss = 0.24642826\n",
      "Iteration 184, loss = 0.24435349\n",
      "Iteration 185, loss = 0.24231574\n",
      "Iteration 186, loss = 0.24031034\n",
      "Iteration 187, loss = 0.23833543\n",
      "Iteration 188, loss = 0.23638798\n",
      "Iteration 189, loss = 0.23446897\n",
      "Iteration 190, loss = 0.23257954\n",
      "Iteration 191, loss = 0.23071794\n",
      "Iteration 192, loss = 0.22888195\n",
      "Iteration 193, loss = 0.22707031\n",
      "Iteration 194, loss = 0.22528277\n",
      "Iteration 195, loss = 0.22351960\n",
      "Iteration 196, loss = 0.22178102\n",
      "Iteration 197, loss = 0.22006682\n",
      "Iteration 198, loss = 0.21837609\n",
      "Iteration 199, loss = 0.21670741\n",
      "Iteration 200, loss = 0.21505984\n",
      "Iteration 201, loss = 0.21343547\n",
      "Iteration 202, loss = 0.21183598\n",
      "Iteration 203, loss = 0.21025877\n",
      "Iteration 204, loss = 0.20870214\n",
      "Iteration 205, loss = 0.20716595\n",
      "Iteration 206, loss = 0.20564996\n",
      "Iteration 207, loss = 0.20415399\n",
      "Iteration 208, loss = 0.20267799\n",
      "Iteration 209, loss = 0.20122171\n",
      "Iteration 210, loss = 0.19978474\n",
      "Iteration 211, loss = 0.19836661\n",
      "Iteration 212, loss = 0.19696690\n",
      "Iteration 213, loss = 0.19558524\n",
      "Iteration 214, loss = 0.19422125\n",
      "Iteration 215, loss = 0.19287460\n",
      "Iteration 216, loss = 0.19154498\n",
      "Iteration 217, loss = 0.19023218\n",
      "Iteration 218, loss = 0.18893605\n",
      "Iteration 219, loss = 0.18765637\n",
      "Iteration 220, loss = 0.18639279\n",
      "Iteration 221, loss = 0.18514490\n",
      "Iteration 222, loss = 0.18391232\n",
      "Iteration 223, loss = 0.18269461\n",
      "Iteration 224, loss = 0.18149132\n",
      "Iteration 225, loss = 0.18030206\n",
      "Iteration 226, loss = 0.17912714\n",
      "Iteration 227, loss = 0.17796726\n",
      "Iteration 228, loss = 0.17682114\n",
      "Iteration 229, loss = 0.17568734\n",
      "Iteration 230, loss = 0.17456710\n",
      "Iteration 231, loss = 0.17346100\n",
      "Iteration 232, loss = 0.17236829\n",
      "Iteration 233, loss = 0.17128827\n",
      "Iteration 234, loss = 0.17022051\n",
      "Iteration 235, loss = 0.16916482\n",
      "Iteration 236, loss = 0.16812121\n",
      "Iteration 237, loss = 0.16709009\n",
      "Iteration 238, loss = 0.16607139\n",
      "Iteration 239, loss = 0.16506394\n",
      "Iteration 240, loss = 0.16406744\n",
      "Iteration 241, loss = 0.16308246\n",
      "Iteration 242, loss = 0.16210907\n",
      "Iteration 243, loss = 0.16114685\n",
      "Iteration 244, loss = 0.16019533\n",
      "Iteration 245, loss = 0.15925421\n",
      "Iteration 246, loss = 0.15832327\n",
      "Iteration 247, loss = 0.15740229\n",
      "Iteration 248, loss = 0.15649097\n",
      "Iteration 249, loss = 0.15558895\n",
      "Iteration 250, loss = 0.15469584\n",
      "Iteration 251, loss = 0.15381095\n",
      "Iteration 252, loss = 0.15293273\n",
      "Iteration 253, loss = 0.15205948\n",
      "Iteration 254, loss = 0.15119919\n",
      "Iteration 255, loss = 0.15035555\n",
      "Iteration 256, loss = 0.14950446\n",
      "Iteration 257, loss = 0.14867749\n",
      "Iteration 258, loss = 0.14785250\n",
      "Iteration 259, loss = 0.14703178\n",
      "Iteration 260, loss = 0.14622671\n",
      "Iteration 261, loss = 0.14543691\n",
      "Iteration 262, loss = 0.14463952\n",
      "Iteration 263, loss = 0.14384493\n",
      "Iteration 264, loss = 0.14307336\n",
      "Iteration 265, loss = 0.14231349\n",
      "Iteration 266, loss = 0.14154899\n",
      "Iteration 267, loss = 0.14079134\n",
      "Iteration 268, loss = 0.14004725\n",
      "Iteration 269, loss = 0.13931138\n",
      "Iteration 270, loss = 0.13858017\n",
      "Iteration 271, loss = 0.13785518\n",
      "Iteration 272, loss = 0.13713898\n",
      "Iteration 273, loss = 0.13643021\n",
      "Iteration 274, loss = 0.13572520\n",
      "Iteration 275, loss = 0.13502721\n",
      "Iteration 276, loss = 0.13433771\n",
      "Iteration 277, loss = 0.13365449\n",
      "Iteration 278, loss = 0.13297644\n",
      "Iteration 279, loss = 0.13230319\n",
      "Iteration 280, loss = 0.13163644\n",
      "Iteration 281, loss = 0.13097614\n",
      "Iteration 282, loss = 0.13032272\n",
      "Iteration 283, loss = 0.12967473\n",
      "Iteration 284, loss = 0.12903185\n",
      "Iteration 285, loss = 0.12839432\n",
      "Iteration 286, loss = 0.12776328\n",
      "Iteration 287, loss = 0.12713815\n",
      "Iteration 288, loss = 0.12651847\n",
      "Iteration 289, loss = 0.12590367\n",
      "Iteration 290, loss = 0.12529406\n",
      "Iteration 291, loss = 0.12469026\n",
      "Iteration 292, loss = 0.12409193\n",
      "Iteration 293, loss = 0.12349850\n",
      "Iteration 294, loss = 0.12291015\n",
      "Iteration 295, loss = 0.12232712\n",
      "Iteration 296, loss = 0.12174919\n",
      "Iteration 297, loss = 0.12117609\n",
      "Iteration 298, loss = 0.12060790\n",
      "Iteration 299, loss = 0.12004471\n",
      "Iteration 300, loss = 0.11948633\n",
      "Iteration 301, loss = 0.11893259\n",
      "Iteration 302, loss = 0.11838354\n",
      "Iteration 303, loss = 0.11783923\n",
      "Iteration 304, loss = 0.11729953\n",
      "Iteration 305, loss = 0.11676429\n",
      "Iteration 306, loss = 0.11623344\n",
      "Iteration 307, loss = 0.11570701\n",
      "Iteration 308, loss = 0.11518498\n",
      "Iteration 309, loss = 0.11466726\n",
      "Iteration 310, loss = 0.11415372\n",
      "Iteration 311, loss = 0.11364431\n",
      "Iteration 312, loss = 0.11313902\n",
      "Iteration 313, loss = 0.11263782\n",
      "Iteration 314, loss = 0.11214063\n",
      "Iteration 315, loss = 0.11164737\n",
      "Iteration 316, loss = 0.11115797\n",
      "Iteration 317, loss = 0.11067241\n",
      "Iteration 318, loss = 0.11019066\n",
      "Iteration 319, loss = 0.10971265\n",
      "Iteration 320, loss = 0.10923833\n",
      "Iteration 321, loss = 0.10876762\n",
      "Iteration 322, loss = 0.10830045\n",
      "Iteration 323, loss = 0.10783675\n",
      "Iteration 324, loss = 0.10737644\n",
      "Iteration 325, loss = 0.10691954\n",
      "Iteration 326, loss = 0.10646609\n",
      "Iteration 327, loss = 0.10601609\n",
      "Iteration 328, loss = 0.10556953\n",
      "Iteration 329, loss = 0.10512638\n",
      "Iteration 330, loss = 0.10468652\n",
      "Iteration 331, loss = 0.10424985\n",
      "Iteration 332, loss = 0.10381637\n",
      "Iteration 333, loss = 0.10338607\n"
     ]
    },
    {
     "name": "stderr",
     "output_type": "stream",
     "text": [
      "d:\\skhapijulhossen\\deep-learning\\RiceLeafCropDisease\\venv\\lib\\site-packages\\sklearn\\neural_network\\_multilayer_perceptron.py:692: ConvergenceWarning: Stochastic Optimizer: Maximum iterations (333) reached and the optimization hasn't converged yet.\n",
      "  warnings.warn(\n"
     ]
    },
    {
     "data": {
      "text/plain": [
       "MLPClassifier(activation='logistic', hidden_layer_sizes=(100, 64, 10),\n",
       "              max_iter=333, random_state=42, verbose=2)"
      ]
     },
     "execution_count": 27,
     "metadata": {},
     "output_type": "execute_result"
    }
   ],
   "source": [
    "from sklearn.neural_network import MLPClassifier\n",
    "\n",
    "nn = MLPClassifier(\n",
    "    activation='logistic',\n",
    "    hidden_layer_sizes=(100, 64, 10),\n",
    "    random_state=42, verbose=2, max_iter=333)\n",
    "nn.fit(train_images, train_labels)"
   ]
  },
  {
   "cell_type": "code",
   "execution_count": 28,
   "metadata": {},
   "outputs": [
    {
     "name": "stderr",
     "output_type": "stream",
     "text": [
      "d:\\skhapijulhossen\\deep-learning\\RiceLeafCropDisease\\venv\\lib\\site-packages\\sklearn\\utils\\deprecation.py:87: FutureWarning: Function plot_confusion_matrix is deprecated; Function `plot_confusion_matrix` is deprecated in 1.0 and will be removed in 1.2. Use one of the class methods: ConfusionMatrixDisplay.from_predictions or ConfusionMatrixDisplay.from_estimator.\n",
      "  warnings.warn(msg, category=FutureWarning)\n"
     ]
    },
    {
     "data": {
      "text/plain": [
       "<sklearn.metrics._plot.confusion_matrix.ConfusionMatrixDisplay at 0x205a10d8370>"
      ]
     },
     "execution_count": 28,
     "metadata": {},
     "output_type": "execute_result"
    },
    {
     "data": {
      "image/png": "[encoded data removed]",
      "text/plain": [
       "<Figure size 432x288 with 2 Axes>"
      ]
     },
     "metadata": {
      "needs_background": "light"
     },
     "output_type": "display_data"
    }
   ],
   "source": [
    "from sklearn.metrics import accuracy_score, plot_confusion_matrix\n",
    "plot_confusion_matrix(nn, test_images, test_labels)"
   ]
  },
  {
   "cell_type": "code",
   "execution_count": 29,
   "metadata": {},
   "outputs": [
    {
     "data": {
      "text/plain": [
       "0.9333333333333333"
      ]
     },
     "execution_count": 29,
     "metadata": {},
     "output_type": "execute_result"
    }
   ],
   "source": [
    "ypred = nn.predict(test_images).astype(np.float64)\n",
    "accuracy_score(test_labels, ypred)"
   ]
  },
  {
   "cell_type": "code",
   "execution_count": 31,
   "metadata": {},
   "outputs": [
    {
     "data": {
      "text/plain": [
       "['CropDiseaseClassifier']"
      ]
     },
     "execution_count": 31,
     "metadata": {},
     "output_type": "execute_result"
    }
   ],
   "source": [
    "from joblib import dump\n",
    "dump(nn, 'CropDiseaseClassifier')"
   ]
  }
 ],
 "metadata": {
  "interpreter": {
   "hash": "2be5faf79681da6f2a61fdfdd5405d65d042280f7fba6178067603e3a2925119"
  },
  "kernelspec": {
   "display_name": "Python 3.10.1 64-bit",
   "language": "python",
   "name": "python3"
  },
  "language_info": {
   "codemirror_mode": {
    "name": "ipython",
    "version": 3
   },
   "file_extension": ".py",
   "mimetype": "text/x-python",
   "name": "python",
   "nbconvert_exporter": "python",
   "pygments_lexer": "ipython3",
   "version": "3.10.2"
  },
  "orig_nbformat": 4
 },
 "nbformat": 4,
 "nbformat_minor": 2
}
