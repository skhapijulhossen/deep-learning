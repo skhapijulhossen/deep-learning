{
 "cells": [
  {
   "cell_type": "markdown",
   "metadata": {},
   "source": [
    "# Single Layer Neural Network"
   ]
  },
  {
   "cell_type": "markdown",
   "metadata": {},
   "source": [
    "## Steps:\n",
    " - Define Structure\n",
    " - initialize parameters\n",
    " - Forward Propagation\n",
    "   $$Z^{[1]} =  W^{[1]} X + b^{[1]} $$ \n",
    "   $$A^{[1]} = \\tanh(Z^{[1]}) $$\n",
    "   $$Z^{[2]} = W^{[2]} A^{[1]} + b^{[2]} $$\n",
    "   $$\\hat{Y} = A^{[2]} = \\sigma(Z^{[2]}) $$\n",
    "\n",
    "\n",
    " - compute cost\n",
    "    - $$J = - \\frac{1}{m} \\sum\\limits_{i = 1}^{m} \\large{(} \\small y^{(i)}\\log\\left(\\hat{y}^{[2] (i)}\\right) + (1-y^{(i)})\\log\\left(1- \\hat{y}^{[2] (i)}\\right) \\large{)} \\small $$\n",
    " - Backward Propagation\n",
    "  ---------------------------------------------------------------------\n",
    "  $$dZ^{[2]} =  A^{[2]} - Y  $$ \n",
    "  $$dW^{[2]} = \\frac {1} {m} dZ^{[2]} A^{[1]T}  $$\n",
    "  $$db^{[2]} = \\frac {1} {m} \\sum\\limits_{i = 1}^{m} dZ^{[2]}  $$\n",
    "  ---------------------------------------------------------------------\n",
    "  $$dW^{[2]} = \\frac {1} {m} dZ^{[2]} A^{[1]T}  $$\n",
    "  $$dZ^{[2]} = W^{[2]} A^{[1]} + b^{[2]} $$\n",
    "  $$\\hat{Y} = A^{[2]} = \\sigma(Z^{[2]}) $$\n",
    " - update weights"
   ]
  },
  {
   "cell_type": "code",
   "execution_count": null,
   "metadata": {},
   "outputs": [],
   "source": [
    "import numpy as np\n",
    "import tensorflow as tf\n",
    "import matplotlib.pyplot as plt\n"
   ]
  },
  {
   "cell_type": "code",
   "execution_count": null,
   "metadata": {},
   "outputs": [],
   "source": [
    "tf.random.set_seed(33)\n"
   ]
  },
  {
   "cell_type": "markdown",
   "metadata": {},
   "source": [
    "## Defining Structure and initializing parameters"
   ]
  },
  {
   "cell_type": "code",
   "execution_count": null,
   "metadata": {},
   "outputs": [],
   "source": [
    "def parameters_initializer(input_dim: int, hidden_dim: int, output_dim: int):\n",
    "    W1 = tf.random.normal([hidden_dim, input_dim], dtype=tf.float64)\n",
    "    b1 = tf.zeros([hidden_dim, 1], dtype=tf.float64)\n",
    "    W2 = tf.random.normal([output_dim, hidden_dim], dtype=tf.float64)\n",
    "    b2 = tf.zeros([output_dim, 1], dtype=tf.float64)\n",
    "    parameters = {\n",
    "        'W1': W1, 'b1': b1, 'W2': W2, 'b2': b2\n",
    "    }\n",
    "    return parameters\n"
   ]
  },
  {
   "cell_type": "code",
   "execution_count": null,
   "metadata": {},
   "outputs": [],
   "source": [
    "params = parameters_initializer(2, 4, 1)\n",
    "params\n"
   ]
  },
  {
   "cell_type": "markdown",
   "metadata": {},
   "source": [
    "## forward propagation\n",
    "---------------------------------------\n",
    "   $$Z^{[1]} =  W^{[1]} X + b^{[1]} $$ \n",
    "   $$A^{[1]} = \\tanh(Z^{[1]}) $$\n",
    "   $$Z^{[2]} = W^{[2]} A^{[1]} + b^{[2]} $$\n",
    "   $$\\hat{Y} = A^{[2]} = \\sigma(Z^{[2]}) $$\n"
   ]
  },
  {
   "cell_type": "code",
   "execution_count": null,
   "metadata": {},
   "outputs": [],
   "source": [
    "def forward_propagation(X: tf.Tensor, params: dict[str, tf.Tensor]):\n",
    "    W1, b1, W2, b2 = params.values()\n",
    "    Z1 = tf.tensordot(W1, X, axes=1) + b1\n",
    "    A1 = tf.nn.tanh(Z1)\n",
    "    Z2 = tf.tensordot(W2, A1, axes=1) + b2\n",
    "    A2 = tf.nn.sigmoid(Z2)\n",
    "    state = {\n",
    "        'Z1': Z1, 'A1': A1, 'Z2': Z2, 'A2': A2\n",
    "    }\n",
    "    return state, A2\n"
   ]
  },
  {
   "cell_type": "code",
   "execution_count": null,
   "metadata": {},
   "outputs": [],
   "source": [
    "X = np.array([[1., -2., -1.], [3., 0.5, -3.2]])\n",
    "Y = np.array([[1, 1, 0]])\n",
    "outs, A2 = forward_propagation(X, params)\n",
    "outs\n"
   ]
  },
  {
   "cell_type": "markdown",
   "metadata": {},
   "source": [
    "## Back Propagation"
   ]
  },
  {
   "cell_type": "code",
   "execution_count": null,
   "metadata": {},
   "outputs": [],
   "source": [
    "def back_propagation(parameters: dict, state: dict, X: tf.Tensor, Y: tf.Tensor):\n",
    "    W1, b1, W2, b2 = parameters.values()\n",
    "    Z1, A1, Z2, A2 = state.values()\n",
    "    m = X.shape[1]\n",
    "    # Gradients\n",
    "    dZ2 = A2 - Y\n",
    "    dW2 = (1/m) * tf.tensordot(dZ2, tf.transpose(A1), axes=1)\n",
    "    db2 = (1/m) * tf.reduce_sum(dZ2, axis=1, keepdims=True)\n",
    "    dZ1 = tf.tensordot(tf.transpose(W2), dZ2, axes=1) * (1 - tf.pow(A1, 2))\n",
    "    dW1 = (1/m) * tf.tensordot(dZ1, tf.transpose(X), axes=1)\n",
    "    db1 = (1/m) * tf.reduce_sum(dZ1, axis=1, keepdims=True)\n",
    "    grads = {\n",
    "        'dW1': dW1, 'db1': db1, 'dW2': dW2, 'db2': db2\n",
    "    }\n",
    "    return grads\n"
   ]
  },
  {
   "cell_type": "code",
   "execution_count": null,
   "metadata": {},
   "outputs": [],
   "source": [
    "state, A2 = forward_propagation(X, params)\n",
    "back_propagation(params, state, X, Y)"
   ]
  },
  {
   "cell_type": "markdown",
   "metadata": {},
   "source": [
    "## Update Parameters:\n",
    "$$ w1 = w1 - {\\alpha} * \\frac{\\partial J}{\\partial w1} $$\n",
    "$$ b1 = b1- {\\alpha}  * \\frac{\\partial J}{\\partial b1} $$\n",
    "$$ w2 = w2 - {\\alpha} * \\frac{\\partial J}{\\partial w2} $$\n",
    "$$ b2 = b2- {\\alpha}  * \\frac{\\partial J}{\\partial b2} $$"
   ]
  },
  {
   "cell_type": "code",
   "execution_count": null,
   "metadata": {},
   "outputs": [],
   "source": [
    "def state_update(parameters: dict, grads: dict, learning_rate=0.9):\n",
    "    W1, b1, W2, b2 = parameters.values()\n",
    "    dW1, db1, dW2, db2 = grads.values()\n",
    "    W1 = W1 - learning_rate * dW1\n",
    "    b1 = b1 - learning_rate * db1\n",
    "    W2 = W2 - learning_rate * dW2\n",
    "    b2 = b2 - learning_rate * db2\n",
    "    return dict(W1=W1, b1=b1, W2=W2, b2=b2)\n"
   ]
  },
  {
   "cell_type": "code",
   "execution_count": null,
   "metadata": {},
   "outputs": [],
   "source": [
    "state, A2 = forward_propagation(X, params)\n",
    "grads = back_propagation(params, state, X, Y)\n",
    "state_update(params, grads)"
   ]
  },
  {
   "cell_type": "markdown",
   "metadata": {},
   "source": [
    "## Merging All"
   ]
  },
  {
   "cell_type": "code",
   "execution_count": 56,
   "metadata": {},
   "outputs": [],
   "source": [
    "class SingleLayerNN:\n",
    "    def __init__(self, input_dim: int, hidden_dim: int, output_dim: int, learning_rate=0.09):\n",
    "        self.params = parameters_initializer(input_dim, hidden_dim, output_dim)\n",
    "        self.state = dict()\n",
    "        self.grads = dict()\n",
    "        self.costs = []\n",
    "        self.learning_rate = learning_rate\n",
    "        self.performace = []\n",
    "\n",
    "    def parameters_initializer(input_dim: int, hidden_dim: int, output_dim: int):\n",
    "        W1 = tf.random.normal([hidden_dim, input_dim], dtYpe=tf.float64)\n",
    "        b1 = tf.zeros([hidden_dim, 1], dtYpe=tf.float64)\n",
    "        W2 = tf.random.normal([output_dim, hidden_dim], dtYpe=tf.float64)\n",
    "        b2 = tf.zeros([output_dim, 1], dtYpe=tf.float64)\n",
    "        params = {\n",
    "            'W1': W1, 'b1': b1, 'W2': W2, 'b2': b2\n",
    "        }\n",
    "        return params\n",
    "\n",
    "    def forward_propagation(self, X: tf.Tensor):\n",
    "        W1, b1, W2, b2 = self.params.values()\n",
    "        Z1 = tf.tensordot(W1, X, axes=1) + b1\n",
    "        A1 = tf.nn.tanh(Z1)\n",
    "        Z2 = tf.tensordot(W2, A1, axes=1) + b2\n",
    "        A2 = tf.nn.sigmoid(Z2)\n",
    "        state = {\n",
    "            'Z1': Z1, 'A1': A1, 'Z2': Z2, 'A2': A2\n",
    "        }\n",
    "        return state, A2\n",
    "\n",
    "    def back_propagation(self, X: tf.Tensor, Y: tf.Tensor):\n",
    "        W1, b1, W2, b2 = self.params.values()\n",
    "        Z1, A1, Z2, A2 = self.state.values()\n",
    "        m = X.shape[1]\n",
    "        # Gradients\n",
    "        dZ2 = A2 - Y\n",
    "        dW2 = (1/m) * tf.tensordot(dZ2, tf.transpose(A1), axes=1)\n",
    "        db2 = (1/m) * tf.reduce_sum(dZ2, axis=1, keepdims=True)\n",
    "        dZ1 = tf.tensordot(tf.transpose(W2), dZ2, axes=1) * (1 - tf.pow(A1, 2))\n",
    "        dW1 = (1/m) * tf.tensordot(dZ1, tf.transpose(X), axes=1)\n",
    "        db1 = (1/m) * tf.reduce_sum(dZ1, axis=1, keepdims=True)\n",
    "        grads = {\n",
    "            'dW1': dW1, 'db1': db1, 'dW2': dW2, 'db2': db2\n",
    "        }\n",
    "        return grads\n",
    "\n",
    "    def state_update(self):\n",
    "        W1, b1, W2, b2 = self.params.values()\n",
    "        dW1, db1, dW2, db2 = self.grads.values()\n",
    "        W1 = W1 - self.learning_rate * dW1\n",
    "        b1 = b1 - self.learning_rate * db1\n",
    "        W2 = W2 - self.learning_rate * dW2\n",
    "        b2 = b2 - self.learning_rate * db2\n",
    "        return dict(W1=W1, b1=b1, W2=W2, b2=b2)\n",
    "\n",
    "    def compute_cost(self, Y: tf.Tensor, Yhat: tf.Tensor):\n",
    "        loss = tf.reduce_sum((Y * tf.math.log(Yhat)) +\n",
    "                             ((1-Y) * tf.math.log(1-Yhat)))\n",
    "        cost = (-1/Y.shape[0]) * loss\n",
    "        return float(tf.squeeze(cost))\n",
    "\n",
    "    def optimize(self, X: tf.Tensor, Y: tf.Tensor, validation: tuple, epochs=100):\n",
    "        m = X.shape[1]\n",
    "        for epoch in range(epochs):\n",
    "            self.state, A2 = self.forward_propagation(X)\n",
    "            self.grads = self.back_propagation(X, Y)\n",
    "            self.params = self.state_update()\n",
    "            cost = self.compute_cost(Y, A2)\n",
    "            self.costs.append(cost)\n",
    "            if epoch % 10 == 0:\n",
    "                y_train_pred = self.predict(X)\n",
    "                y_test_pred = self.predict(validation[0])\n",
    "                train_acc = 100 - np.mean(np.abs(y_train_pred - Y)) * 100\n",
    "                test_acc = 100 - \\\n",
    "                    np.mean(np.abs(y_test_pred - validation[1])) * 100\n",
    "                self.performace.append([train_acc, test_acc])\n",
    "                print(\n",
    "                    f\"epoch: {epoch} || Cost: {cost: .5f} || Train Accuracy: {train_acc: .2f}% || Test Accuracy: {test_acc:.2f}%\")\n",
    "        return np.array(self.performace)\n",
    "\n",
    "    def predict(self, X: tf.Tensor):\n",
    "        _, A2 = self.forward_propagation(X)\n",
    "        return tf.round(A2)\n"
   ]
  },
  {
   "cell_type": "code",
   "execution_count": 57,
   "metadata": {},
   "outputs": [
    {
     "name": "stdout",
     "output_type": "stream",
     "text": [
      "epoch: 0 || Cost:  2.17551 || Train Accuracy:  66.67% || Test Accuracy: 100.00%\n",
      "epoch: 10 || Cost:  0.24836 || Train Accuracy:  100.00% || Test Accuracy: 100.00%\n",
      "epoch: 20 || Cost:  0.16112 || Train Accuracy:  100.00% || Test Accuracy: 100.00%\n",
      "epoch: 30 || Cost:  0.12418 || Train Accuracy:  100.00% || Test Accuracy: 100.00%\n",
      "epoch: 40 || Cost:  0.10342 || Train Accuracy:  100.00% || Test Accuracy: 100.00%\n",
      "epoch: 50 || Cost:  0.08990 || Train Accuracy:  100.00% || Test Accuracy: 100.00%\n",
      "epoch: 60 || Cost:  0.08024 || Train Accuracy:  100.00% || Test Accuracy: 100.00%\n",
      "epoch: 70 || Cost:  0.07290 || Train Accuracy:  100.00% || Test Accuracy: 100.00%\n",
      "epoch: 80 || Cost:  0.06708 || Train Accuracy:  100.00% || Test Accuracy: 100.00%\n",
      "epoch: 90 || Cost:  0.06232 || Train Accuracy:  100.00% || Test Accuracy: 100.00%\n"
     ]
    },
    {
     "data": {
      "text/plain": [
       "array([[ 66.66666667, 100.        ],\n",
       "       [100.        , 100.        ],\n",
       "       [100.        , 100.        ],\n",
       "       [100.        , 100.        ],\n",
       "       [100.        , 100.        ],\n",
       "       [100.        , 100.        ],\n",
       "       [100.        , 100.        ],\n",
       "       [100.        , 100.        ],\n",
       "       [100.        , 100.        ],\n",
       "       [100.        , 100.        ]])"
      ]
     },
     "execution_count": 57,
     "metadata": {},
     "output_type": "execute_result"
    }
   ],
   "source": [
    "Xv = np.array([[1., -1.8, -1.5], [3.1, 1.5, -3.2]])\n",
    "Yv = np.array([[1, 1, 0]])\n",
    "nn = SingleLayerNN(2, 4, 1)\n",
    "nn.optimize(X, Y,validation=(Xv,Yv), epochs=100)"
   ]
  },
  {
   "cell_type": "code",
   "execution_count": 58,
   "metadata": {},
   "outputs": [],
   "source": [
    "from sklearn import datasets\n",
    "from sklearn.preprocessing import StandardScaler\n",
    "x, y = datasets.load_breast_cancer(return_X_y=True)\n",
    "x = StandardScaler().fit_transform(x)"
   ]
  },
  {
   "cell_type": "code",
   "execution_count": 59,
   "metadata": {},
   "outputs": [],
   "source": [
    "from sklearn.model_selection import train_test_split\n",
    "xtrain, xtest, ytrain, ytest = train_test_split(\n",
    "    x, y, random_state=33, test_size=0.3\n",
    ")\n",
    "xtrain = tf.Variable(xtrain.T, dtype=tf.float64)\n",
    "xtest = tf.Variable(xtest.T, dtype=tf.float64)\n"
   ]
  },
  {
   "cell_type": "code",
   "execution_count": 68,
   "metadata": {},
   "outputs": [
    {
     "name": "stdout",
     "output_type": "stream",
     "text": [
      "epoch: 0 || Cost:  1.48300 || Train Accuracy:  22.11% || Test Accuracy: 19.88%\n",
      "epoch: 10 || Cost:  0.95314 || Train Accuracy:  61.56% || Test Accuracy: 64.33%\n",
      "epoch: 20 || Cost:  0.68582 || Train Accuracy:  68.84% || Test Accuracy: 74.85%\n",
      "epoch: 30 || Cost:  0.53996 || Train Accuracy:  73.62% || Test Accuracy: 74.85%\n",
      "epoch: 40 || Cost:  0.44934 || Train Accuracy:  76.38% || Test Accuracy: 77.78%\n",
      "epoch: 50 || Cost:  0.38827 || Train Accuracy:  79.90% || Test Accuracy: 83.04%\n",
      "epoch: 60 || Cost:  0.34442 || Train Accuracy:  85.43% || Test Accuracy: 87.13%\n",
      "epoch: 70 || Cost:  0.31139 || Train Accuracy:  86.43% || Test Accuracy: 87.72%\n",
      "epoch: 80 || Cost:  0.28564 || Train Accuracy:  87.19% || Test Accuracy: 87.72%\n",
      "epoch: 90 || Cost:  0.26483 || Train Accuracy:  88.94% || Test Accuracy: 89.47%\n",
      "epoch: 100 || Cost:  0.24732 || Train Accuracy:  89.70% || Test Accuracy: 90.64%\n",
      "epoch: 110 || Cost:  0.23176 || Train Accuracy:  90.70% || Test Accuracy: 91.23%\n",
      "epoch: 120 || Cost:  0.21712 || Train Accuracy:  91.71% || Test Accuracy: 92.40%\n",
      "epoch: 130 || Cost:  0.20299 || Train Accuracy:  92.96% || Test Accuracy: 92.40%\n",
      "epoch: 140 || Cost:  0.19022 || Train Accuracy:  93.22% || Test Accuracy: 92.40%\n",
      "epoch: 150 || Cost:  0.17931 || Train Accuracy:  93.72% || Test Accuracy: 92.40%\n",
      "epoch: 160 || Cost:  0.16993 || Train Accuracy:  93.72% || Test Accuracy: 92.40%\n",
      "epoch: 170 || Cost:  0.16175 || Train Accuracy:  94.22% || Test Accuracy: 92.40%\n",
      "epoch: 180 || Cost:  0.15455 || Train Accuracy:  94.72% || Test Accuracy: 92.40%\n",
      "epoch: 190 || Cost:  0.14816 || Train Accuracy:  95.23% || Test Accuracy: 92.98%\n",
      "epoch: 200 || Cost:  0.14245 || Train Accuracy:  95.23% || Test Accuracy: 93.57%\n",
      "epoch: 210 || Cost:  0.13734 || Train Accuracy:  95.98% || Test Accuracy: 94.15%\n",
      "epoch: 220 || Cost:  0.13275 || Train Accuracy:  96.23% || Test Accuracy: 94.15%\n",
      "epoch: 230 || Cost:  0.12859 || Train Accuracy:  96.23% || Test Accuracy: 94.15%\n",
      "epoch: 240 || Cost:  0.12480 || Train Accuracy:  96.23% || Test Accuracy: 94.15%\n",
      "epoch: 250 || Cost:  0.12131 || Train Accuracy:  96.23% || Test Accuracy: 94.74%\n",
      "epoch: 260 || Cost:  0.11807 || Train Accuracy:  96.48% || Test Accuracy: 95.32%\n",
      "epoch: 270 || Cost:  0.11503 || Train Accuracy:  96.73% || Test Accuracy: 95.32%\n",
      "epoch: 280 || Cost:  0.11217 || Train Accuracy:  96.98% || Test Accuracy: 95.32%\n",
      "epoch: 290 || Cost:  0.10947 || Train Accuracy:  97.49% || Test Accuracy: 95.32%\n",
      "epoch: 300 || Cost:  0.10693 || Train Accuracy:  97.49% || Test Accuracy: 95.32%\n",
      "epoch: 310 || Cost:  0.10457 || Train Accuracy:  97.49% || Test Accuracy: 95.32%\n",
      "epoch: 320 || Cost:  0.10240 || Train Accuracy:  97.49% || Test Accuracy: 95.32%\n",
      "epoch: 330 || Cost:  0.10041 || Train Accuracy:  97.49% || Test Accuracy: 95.32%\n",
      "epoch: 340 || Cost:  0.09857 || Train Accuracy:  97.74% || Test Accuracy: 95.91%\n",
      "epoch: 350 || Cost:  0.09687 || Train Accuracy:  97.49% || Test Accuracy: 95.91%\n",
      "epoch: 360 || Cost:  0.09527 || Train Accuracy:  97.49% || Test Accuracy: 95.91%\n",
      "epoch: 370 || Cost:  0.09378 || Train Accuracy:  97.49% || Test Accuracy: 95.91%\n",
      "epoch: 380 || Cost:  0.09236 || Train Accuracy:  97.49% || Test Accuracy: 95.91%\n",
      "epoch: 390 || Cost:  0.09101 || Train Accuracy:  97.49% || Test Accuracy: 95.91%\n",
      "epoch: 400 || Cost:  0.08972 || Train Accuracy:  97.49% || Test Accuracy: 95.91%\n",
      "epoch: 410 || Cost:  0.08848 || Train Accuracy:  97.49% || Test Accuracy: 95.91%\n",
      "epoch: 420 || Cost:  0.08729 || Train Accuracy:  97.49% || Test Accuracy: 95.91%\n",
      "epoch: 430 || Cost:  0.08613 || Train Accuracy:  97.49% || Test Accuracy: 95.91%\n",
      "epoch: 440 || Cost:  0.08500 || Train Accuracy:  97.49% || Test Accuracy: 95.91%\n",
      "epoch: 450 || Cost:  0.08389 || Train Accuracy:  97.49% || Test Accuracy: 95.91%\n",
      "epoch: 460 || Cost:  0.08281 || Train Accuracy:  97.49% || Test Accuracy: 95.91%\n",
      "epoch: 470 || Cost:  0.08175 || Train Accuracy:  97.49% || Test Accuracy: 95.91%\n",
      "epoch: 480 || Cost:  0.08073 || Train Accuracy:  97.49% || Test Accuracy: 95.91%\n",
      "epoch: 490 || Cost:  0.07973 || Train Accuracy:  97.49% || Test Accuracy: 95.91%\n",
      "epoch: 500 || Cost:  0.07877 || Train Accuracy:  97.49% || Test Accuracy: 95.91%\n",
      "epoch: 510 || Cost:  0.07783 || Train Accuracy:  97.49% || Test Accuracy: 95.91%\n",
      "epoch: 520 || Cost:  0.07693 || Train Accuracy:  97.49% || Test Accuracy: 95.91%\n",
      "epoch: 530 || Cost:  0.07605 || Train Accuracy:  97.49% || Test Accuracy: 95.91%\n",
      "epoch: 540 || Cost:  0.07519 || Train Accuracy:  97.74% || Test Accuracy: 95.91%\n",
      "epoch: 550 || Cost:  0.07435 || Train Accuracy:  97.74% || Test Accuracy: 95.91%\n",
      "epoch: 560 || Cost:  0.07353 || Train Accuracy:  97.74% || Test Accuracy: 95.91%\n",
      "epoch: 570 || Cost:  0.07273 || Train Accuracy:  97.74% || Test Accuracy: 95.91%\n",
      "epoch: 580 || Cost:  0.07194 || Train Accuracy:  97.74% || Test Accuracy: 95.91%\n",
      "epoch: 590 || Cost:  0.07118 || Train Accuracy:  97.74% || Test Accuracy: 95.91%\n",
      "epoch: 600 || Cost:  0.07043 || Train Accuracy:  97.99% || Test Accuracy: 95.91%\n",
      "epoch: 610 || Cost:  0.06971 || Train Accuracy:  97.99% || Test Accuracy: 95.91%\n",
      "epoch: 620 || Cost:  0.06900 || Train Accuracy:  97.99% || Test Accuracy: 95.91%\n",
      "epoch: 630 || Cost:  0.06832 || Train Accuracy:  97.99% || Test Accuracy: 95.91%\n",
      "epoch: 640 || Cost:  0.06766 || Train Accuracy:  97.99% || Test Accuracy: 95.91%\n",
      "epoch: 650 || Cost:  0.06701 || Train Accuracy:  97.99% || Test Accuracy: 95.91%\n",
      "epoch: 660 || Cost:  0.06639 || Train Accuracy:  97.99% || Test Accuracy: 95.91%\n",
      "epoch: 670 || Cost:  0.06577 || Train Accuracy:  97.99% || Test Accuracy: 95.91%\n",
      "epoch: 680 || Cost:  0.06517 || Train Accuracy:  97.99% || Test Accuracy: 95.91%\n",
      "epoch: 690 || Cost:  0.06459 || Train Accuracy:  97.99% || Test Accuracy: 95.91%\n",
      "epoch: 700 || Cost:  0.06401 || Train Accuracy:  97.99% || Test Accuracy: 95.91%\n",
      "epoch: 710 || Cost:  0.06345 || Train Accuracy:  97.99% || Test Accuracy: 95.91%\n",
      "epoch: 720 || Cost:  0.06289 || Train Accuracy:  97.99% || Test Accuracy: 95.91%\n",
      "epoch: 730 || Cost:  0.06235 || Train Accuracy:  97.99% || Test Accuracy: 95.91%\n",
      "epoch: 740 || Cost:  0.06183 || Train Accuracy:  97.99% || Test Accuracy: 95.91%\n",
      "epoch: 750 || Cost:  0.06132 || Train Accuracy:  97.99% || Test Accuracy: 95.91%\n",
      "epoch: 760 || Cost:  0.06083 || Train Accuracy:  97.99% || Test Accuracy: 95.91%\n",
      "epoch: 770 || Cost:  0.06036 || Train Accuracy:  97.99% || Test Accuracy: 95.91%\n",
      "epoch: 780 || Cost:  0.05991 || Train Accuracy:  97.99% || Test Accuracy: 95.91%\n",
      "epoch: 790 || Cost:  0.05948 || Train Accuracy:  97.99% || Test Accuracy: 95.91%\n",
      "epoch: 800 || Cost:  0.05907 || Train Accuracy:  97.99% || Test Accuracy: 95.91%\n",
      "epoch: 810 || Cost:  0.05867 || Train Accuracy:  97.99% || Test Accuracy: 95.91%\n",
      "epoch: 820 || Cost:  0.05828 || Train Accuracy:  97.99% || Test Accuracy: 95.91%\n",
      "epoch: 830 || Cost:  0.05791 || Train Accuracy:  97.99% || Test Accuracy: 96.49%\n",
      "epoch: 840 || Cost:  0.05755 || Train Accuracy:  97.99% || Test Accuracy: 96.49%\n",
      "epoch: 850 || Cost:  0.05719 || Train Accuracy:  97.99% || Test Accuracy: 96.49%\n",
      "epoch: 860 || Cost:  0.05684 || Train Accuracy:  97.99% || Test Accuracy: 96.49%\n",
      "epoch: 870 || Cost:  0.05649 || Train Accuracy:  97.99% || Test Accuracy: 96.49%\n",
      "epoch: 880 || Cost:  0.05615 || Train Accuracy:  97.99% || Test Accuracy: 96.49%\n",
      "epoch: 890 || Cost:  0.05581 || Train Accuracy:  97.99% || Test Accuracy: 96.49%\n",
      "epoch: 900 || Cost:  0.05547 || Train Accuracy:  98.24% || Test Accuracy: 96.49%\n",
      "epoch: 910 || Cost:  0.05514 || Train Accuracy:  98.24% || Test Accuracy: 96.49%\n",
      "epoch: 920 || Cost:  0.05481 || Train Accuracy:  98.24% || Test Accuracy: 96.49%\n",
      "epoch: 930 || Cost:  0.05450 || Train Accuracy:  98.24% || Test Accuracy: 96.49%\n",
      "epoch: 940 || Cost:  0.05420 || Train Accuracy:  98.49% || Test Accuracy: 96.49%\n",
      "epoch: 950 || Cost:  0.05392 || Train Accuracy:  98.49% || Test Accuracy: 96.49%\n",
      "epoch: 960 || Cost:  0.05365 || Train Accuracy:  98.49% || Test Accuracy: 96.49%\n",
      "epoch: 970 || Cost:  0.05338 || Train Accuracy:  98.49% || Test Accuracy: 96.49%\n",
      "epoch: 980 || Cost:  0.05313 || Train Accuracy:  98.49% || Test Accuracy: 96.49%\n",
      "epoch: 990 || Cost:  0.05288 || Train Accuracy:  98.49% || Test Accuracy: 96.49%\n",
      "epoch: 1000 || Cost:  0.05264 || Train Accuracy:  98.49% || Test Accuracy: 96.49%\n",
      "epoch: 1010 || Cost:  0.05240 || Train Accuracy:  98.49% || Test Accuracy: 96.49%\n",
      "epoch: 1020 || Cost:  0.05217 || Train Accuracy:  98.49% || Test Accuracy: 96.49%\n",
      "epoch: 1030 || Cost:  0.05195 || Train Accuracy:  98.49% || Test Accuracy: 96.49%\n",
      "epoch: 1040 || Cost:  0.05172 || Train Accuracy:  98.49% || Test Accuracy: 96.49%\n",
      "epoch: 1050 || Cost:  0.05151 || Train Accuracy:  98.49% || Test Accuracy: 96.49%\n",
      "epoch: 1060 || Cost:  0.05129 || Train Accuracy:  98.49% || Test Accuracy: 96.49%\n",
      "epoch: 1070 || Cost:  0.05108 || Train Accuracy:  98.49% || Test Accuracy: 96.49%\n",
      "epoch: 1080 || Cost:  0.05087 || Train Accuracy:  98.49% || Test Accuracy: 96.49%\n",
      "epoch: 1090 || Cost:  0.05067 || Train Accuracy:  98.49% || Test Accuracy: 96.49%\n",
      "epoch: 1100 || Cost:  0.05046 || Train Accuracy:  98.49% || Test Accuracy: 96.49%\n",
      "epoch: 1110 || Cost:  0.05026 || Train Accuracy:  98.49% || Test Accuracy: 96.49%\n",
      "epoch: 1120 || Cost:  0.05007 || Train Accuracy:  98.49% || Test Accuracy: 96.49%\n",
      "epoch: 1130 || Cost:  0.04987 || Train Accuracy:  98.49% || Test Accuracy: 96.49%\n",
      "epoch: 1140 || Cost:  0.04968 || Train Accuracy:  98.49% || Test Accuracy: 96.49%\n",
      "epoch: 1150 || Cost:  0.04949 || Train Accuracy:  98.49% || Test Accuracy: 96.49%\n",
      "epoch: 1160 || Cost:  0.04930 || Train Accuracy:  98.49% || Test Accuracy: 96.49%\n",
      "epoch: 1170 || Cost:  0.04911 || Train Accuracy:  98.49% || Test Accuracy: 96.49%\n",
      "epoch: 1180 || Cost:  0.04893 || Train Accuracy:  98.49% || Test Accuracy: 96.49%\n",
      "epoch: 1190 || Cost:  0.04875 || Train Accuracy:  98.49% || Test Accuracy: 96.49%\n",
      "epoch: 1200 || Cost:  0.04857 || Train Accuracy:  98.49% || Test Accuracy: 96.49%\n",
      "epoch: 1210 || Cost:  0.04839 || Train Accuracy:  98.49% || Test Accuracy: 96.49%\n",
      "epoch: 1220 || Cost:  0.04821 || Train Accuracy:  98.49% || Test Accuracy: 96.49%\n",
      "epoch: 1230 || Cost:  0.04804 || Train Accuracy:  98.49% || Test Accuracy: 96.49%\n",
      "epoch: 1240 || Cost:  0.04786 || Train Accuracy:  98.49% || Test Accuracy: 96.49%\n",
      "epoch: 1250 || Cost:  0.04769 || Train Accuracy:  98.49% || Test Accuracy: 96.49%\n",
      "epoch: 1260 || Cost:  0.04752 || Train Accuracy:  98.49% || Test Accuracy: 96.49%\n",
      "epoch: 1270 || Cost:  0.04735 || Train Accuracy:  98.49% || Test Accuracy: 96.49%\n",
      "epoch: 1280 || Cost:  0.04718 || Train Accuracy:  98.49% || Test Accuracy: 96.49%\n",
      "epoch: 1290 || Cost:  0.04701 || Train Accuracy:  98.49% || Test Accuracy: 96.49%\n",
      "epoch: 1300 || Cost:  0.04685 || Train Accuracy:  98.49% || Test Accuracy: 96.49%\n",
      "epoch: 1310 || Cost:  0.04668 || Train Accuracy:  98.49% || Test Accuracy: 96.49%\n",
      "epoch: 1320 || Cost:  0.04652 || Train Accuracy:  98.49% || Test Accuracy: 96.49%\n",
      "epoch: 1330 || Cost:  0.04636 || Train Accuracy:  98.49% || Test Accuracy: 96.49%\n",
      "epoch: 1340 || Cost:  0.04620 || Train Accuracy:  98.49% || Test Accuracy: 96.49%\n",
      "epoch: 1350 || Cost:  0.04604 || Train Accuracy:  98.49% || Test Accuracy: 96.49%\n",
      "epoch: 1360 || Cost:  0.04588 || Train Accuracy:  98.49% || Test Accuracy: 96.49%\n",
      "epoch: 1370 || Cost:  0.04572 || Train Accuracy:  98.49% || Test Accuracy: 96.49%\n",
      "epoch: 1380 || Cost:  0.04557 || Train Accuracy:  98.49% || Test Accuracy: 96.49%\n",
      "epoch: 1390 || Cost:  0.04541 || Train Accuracy:  98.74% || Test Accuracy: 96.49%\n",
      "epoch: 1400 || Cost:  0.04526 || Train Accuracy:  98.74% || Test Accuracy: 96.49%\n",
      "epoch: 1410 || Cost:  0.04510 || Train Accuracy:  98.74% || Test Accuracy: 96.49%\n",
      "epoch: 1420 || Cost:  0.04495 || Train Accuracy:  98.74% || Test Accuracy: 96.49%\n",
      "epoch: 1430 || Cost:  0.04480 || Train Accuracy:  98.74% || Test Accuracy: 96.49%\n",
      "epoch: 1440 || Cost:  0.04464 || Train Accuracy:  98.74% || Test Accuracy: 96.49%\n",
      "epoch: 1450 || Cost:  0.04449 || Train Accuracy:  98.74% || Test Accuracy: 96.49%\n",
      "epoch: 1460 || Cost:  0.04434 || Train Accuracy:  98.74% || Test Accuracy: 96.49%\n",
      "epoch: 1470 || Cost:  0.04419 || Train Accuracy:  98.74% || Test Accuracy: 96.49%\n",
      "epoch: 1480 || Cost:  0.04404 || Train Accuracy:  98.74% || Test Accuracy: 96.49%\n",
      "epoch: 1490 || Cost:  0.04389 || Train Accuracy:  98.74% || Test Accuracy: 96.49%\n",
      "epoch: 1500 || Cost:  0.04375 || Train Accuracy:  98.74% || Test Accuracy: 96.49%\n",
      "epoch: 1510 || Cost:  0.04360 || Train Accuracy:  98.74% || Test Accuracy: 96.49%\n",
      "epoch: 1520 || Cost:  0.04345 || Train Accuracy:  98.74% || Test Accuracy: 96.49%\n",
      "epoch: 1530 || Cost:  0.04330 || Train Accuracy:  98.74% || Test Accuracy: 96.49%\n",
      "epoch: 1540 || Cost:  0.04315 || Train Accuracy:  98.74% || Test Accuracy: 96.49%\n",
      "epoch: 1550 || Cost:  0.04301 || Train Accuracy:  98.74% || Test Accuracy: 96.49%\n",
      "epoch: 1560 || Cost:  0.04286 || Train Accuracy:  98.74% || Test Accuracy: 96.49%\n",
      "epoch: 1570 || Cost:  0.04271 || Train Accuracy:  98.74% || Test Accuracy: 96.49%\n",
      "epoch: 1580 || Cost:  0.04256 || Train Accuracy:  98.74% || Test Accuracy: 96.49%\n",
      "epoch: 1590 || Cost:  0.04241 || Train Accuracy:  98.74% || Test Accuracy: 96.49%\n",
      "epoch: 1600 || Cost:  0.04226 || Train Accuracy:  98.74% || Test Accuracy: 96.49%\n",
      "epoch: 1610 || Cost:  0.04211 || Train Accuracy:  98.74% || Test Accuracy: 96.49%\n",
      "epoch: 1620 || Cost:  0.04196 || Train Accuracy:  98.74% || Test Accuracy: 96.49%\n",
      "epoch: 1630 || Cost:  0.04180 || Train Accuracy:  98.74% || Test Accuracy: 96.49%\n",
      "epoch: 1640 || Cost:  0.04165 || Train Accuracy:  98.74% || Test Accuracy: 96.49%\n",
      "epoch: 1650 || Cost:  0.04149 || Train Accuracy:  98.74% || Test Accuracy: 96.49%\n",
      "epoch: 1660 || Cost:  0.04133 || Train Accuracy:  98.74% || Test Accuracy: 96.49%\n",
      "epoch: 1670 || Cost:  0.04116 || Train Accuracy:  98.74% || Test Accuracy: 96.49%\n",
      "epoch: 1680 || Cost:  0.04099 || Train Accuracy:  98.74% || Test Accuracy: 96.49%\n",
      "epoch: 1690 || Cost:  0.04082 || Train Accuracy:  98.74% || Test Accuracy: 96.49%\n",
      "epoch: 1700 || Cost:  0.04064 || Train Accuracy:  98.74% || Test Accuracy: 96.49%\n",
      "epoch: 1710 || Cost:  0.04045 || Train Accuracy:  98.74% || Test Accuracy: 97.08%\n",
      "epoch: 1720 || Cost:  0.04025 || Train Accuracy:  98.74% || Test Accuracy: 97.08%\n",
      "epoch: 1730 || Cost:  0.04004 || Train Accuracy:  98.74% || Test Accuracy: 97.08%\n",
      "epoch: 1740 || Cost:  0.03982 || Train Accuracy:  98.74% || Test Accuracy: 97.08%\n",
      "epoch: 1750 || Cost:  0.03958 || Train Accuracy:  98.74% || Test Accuracy: 97.08%\n",
      "epoch: 1760 || Cost:  0.03933 || Train Accuracy:  98.74% || Test Accuracy: 97.08%\n",
      "epoch: 1770 || Cost:  0.03908 || Train Accuracy:  98.74% || Test Accuracy: 97.08%\n",
      "epoch: 1780 || Cost:  0.03883 || Train Accuracy:  98.74% || Test Accuracy: 97.08%\n",
      "epoch: 1790 || Cost:  0.03859 || Train Accuracy:  98.74% || Test Accuracy: 97.08%\n",
      "epoch: 1800 || Cost:  0.03836 || Train Accuracy:  98.74% || Test Accuracy: 97.08%\n",
      "epoch: 1810 || Cost:  0.03814 || Train Accuracy:  98.74% || Test Accuracy: 97.08%\n",
      "epoch: 1820 || Cost:  0.03794 || Train Accuracy:  98.74% || Test Accuracy: 97.08%\n",
      "epoch: 1830 || Cost:  0.03774 || Train Accuracy:  98.74% || Test Accuracy: 97.08%\n",
      "epoch: 1840 || Cost:  0.03756 || Train Accuracy:  98.74% || Test Accuracy: 97.08%\n",
      "epoch: 1850 || Cost:  0.03738 || Train Accuracy:  98.74% || Test Accuracy: 97.08%\n",
      "epoch: 1860 || Cost:  0.03720 || Train Accuracy:  98.74% || Test Accuracy: 97.08%\n",
      "epoch: 1870 || Cost:  0.03703 || Train Accuracy:  98.74% || Test Accuracy: 97.08%\n",
      "epoch: 1880 || Cost:  0.03687 || Train Accuracy:  98.74% || Test Accuracy: 97.08%\n",
      "epoch: 1890 || Cost:  0.03671 || Train Accuracy:  98.74% || Test Accuracy: 97.08%\n",
      "epoch: 1900 || Cost:  0.03656 || Train Accuracy:  98.99% || Test Accuracy: 97.66%\n",
      "epoch: 1910 || Cost:  0.03640 || Train Accuracy:  98.99% || Test Accuracy: 97.66%\n",
      "epoch: 1920 || Cost:  0.03625 || Train Accuracy:  98.99% || Test Accuracy: 97.66%\n",
      "epoch: 1930 || Cost:  0.03610 || Train Accuracy:  98.99% || Test Accuracy: 97.66%\n",
      "epoch: 1940 || Cost:  0.03596 || Train Accuracy:  98.99% || Test Accuracy: 97.66%\n",
      "epoch: 1950 || Cost:  0.03582 || Train Accuracy:  98.99% || Test Accuracy: 97.66%\n",
      "epoch: 1960 || Cost:  0.03568 || Train Accuracy:  98.99% || Test Accuracy: 97.66%\n",
      "epoch: 1970 || Cost:  0.03554 || Train Accuracy:  98.99% || Test Accuracy: 97.66%\n",
      "epoch: 1980 || Cost:  0.03540 || Train Accuracy:  98.99% || Test Accuracy: 97.66%\n",
      "epoch: 1990 || Cost:  0.03526 || Train Accuracy:  98.99% || Test Accuracy: 97.66%\n"
     ]
    }
   ],
   "source": [
    "nn2 = SingleLayerNN(30, 4, 1)\n",
    "acc = nn2.optimize(xtrain, ytrain,validation=(xtest, ytest), epochs=2000)"
   ]
  },
  {
   "cell_type": "code",
   "execution_count": 69,
   "metadata": {},
   "outputs": [
    {
     "data": {
      "image/png": "[encoded data removed]",
      "text/plain": [
       "<Figure size 432x288 with 1 Axes>"
      ]
     },
     "metadata": {
      "needs_background": "light"
     },
     "output_type": "display_data"
    }
   ],
   "source": [
    "plt.plot(acc[:, 0], label='Train Accuracy')\n",
    "plt.plot(acc[:, 1], label='Test Accuracy')\n",
    "plt.legend()\n",
    "plt.show()"
   ]
  },
  {
   "cell_type": "code",
   "execution_count": null,
   "metadata": {},
   "outputs": [],
   "source": []
  }
 ],
 "metadata": {
  "interpreter": {
   "hash": "2be5faf79681da6f2a61fdfdd5405d65d042280f7fba6178067603e3a2925119"
  },
  "kernelspec": {
   "display_name": "Python 3.10.1 64-bit",
   "language": "python",
   "name": "python3"
  },
  "language_info": {
   "codemirror_mode": {
    "name": "ipython",
    "version": 3
   },
   "file_extension": ".py",
   "mimetype": "text/x-python",
   "name": "python",
   "nbconvert_exporter": "python",
   "pygments_lexer": "ipython3",
   "version": "3.10.1"
  },
  "orig_nbformat": 4
 },
 "nbformat": 4,
 "nbformat_minor": 2
}
