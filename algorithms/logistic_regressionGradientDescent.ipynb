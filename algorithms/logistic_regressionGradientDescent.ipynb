{
 "cells": [
  {
   "cell_type": "markdown",
   "metadata": {},
   "source": [
    "**Mathematical expression of the algorithm**:\n",
    "\n",
    "For one example $x^{(i)}$:\n",
    "$$z^{(i)} = w^T x^{(i)} + b \\tag{1}$$\n",
    "$$\\hat{y}^{(i)} = a^{(i)} = sigmoid(z^{(i)})\\tag{2}$$ \n",
    "$$ \\mathcal{L}(yhat^{(i)}, y^{(i)}) =  - y^{(i)}  \\log(yhat^{(i)}) + (1-y^{(i)} )  \\log(1-yhat^{(i)})\\tag{3}$$\n",
    "\n",
    "The cost is then computing:\n",
    "$$ J = \\frac{1}{m} \\sum_{i=1}^m \\mathcal{L}(yhat^{(i)}, y^{(i)})\\tag{6}$$\n",
    "\n",
    "Gradient Computing:\n",
    "- $$ \\frac{\\partial J}{\\partial w} = \\frac{1}{m}X(yhat-Y)^T\\tag{7}$$\n",
    "- $$ \\frac{\\partial J}{\\partial b} = \\frac{1}{m} \\sum_{i=1}^m (yhat^{(i)}-y^{(i)})\\tag{8}$$\n"
   ]
  },
  {
   "cell_type": "code",
   "execution_count": 1,
   "metadata": {},
   "outputs": [],
   "source": [
    "import numpy as np\n",
    "import tensorflow as tf\n",
    "import matplotlib.pyplot as plt"
   ]
  },
  {
   "cell_type": "code",
   "execution_count": 2,
   "metadata": {},
   "outputs": [],
   "source": [
    "A = np.random.randn(3,2)\n",
    "\n",
    "B = np.sum(A, axis = 1, keepdims = True) "
   ]
  },
  {
   "cell_type": "code",
   "execution_count": 3,
   "metadata": {},
   "outputs": [
    {
     "data": {
      "text/plain": [
       "(3, 1)"
      ]
     },
     "execution_count": 3,
     "metadata": {},
     "output_type": "execute_result"
    }
   ],
   "source": [
    "B.shape"
   ]
  },
  {
   "cell_type": "markdown",
   "metadata": {},
   "source": [
    "## Weight and bias initializer"
   ]
  },
  {
   "cell_type": "code",
   "execution_count": 4,
   "metadata": {},
   "outputs": [],
   "source": [
    "def w_b_init(dim: int):\n",
    "    w = tf.zeros([dim, 1], dtype=tf.float64)\n",
    "    b = 0.0\n",
    "    return w, b\n"
   ]
  },
  {
   "cell_type": "code",
   "execution_count": 5,
   "metadata": {},
   "outputs": [
    {
     "data": {
      "text/plain": [
       "(<tf.Tensor: shape=(3, 1), dtype=float64, numpy=\n",
       " array([[0.],\n",
       "        [0.],\n",
       "        [0.]])>,\n",
       " 0.0)"
      ]
     },
     "execution_count": 5,
     "metadata": {},
     "output_type": "execute_result"
    }
   ],
   "source": [
    "w, b = w_b_init(3)\n",
    "w, b\n"
   ]
  },
  {
   "cell_type": "markdown",
   "metadata": {},
   "source": [
    "## Calculate $z$ for all $x^{(i)}$:\n",
    "$$z^{(i)} = w^T x^{(i)} + b \\tag{1}$$"
   ]
  },
  {
   "cell_type": "code",
   "execution_count": 6,
   "metadata": {},
   "outputs": [],
   "source": [
    "def z_calc(w: tf.Tensor, b: tf.float64, x: tf.Tensor):\n",
    "    z = tf.tensordot(tf.transpose(w), x, axes=1) + b\n",
    "    return z\n"
   ]
  },
  {
   "cell_type": "code",
   "execution_count": 7,
   "metadata": {},
   "outputs": [
    {
     "data": {
      "text/plain": [
       "<tf.Tensor: shape=(1,), dtype=float64, numpy=array([0.])>"
      ]
     },
     "execution_count": 7,
     "metadata": {},
     "output_type": "execute_result"
    }
   ],
   "source": [
    "w , b = w_b_init(3)\n",
    "x = tf.Variable([3, 2, 4], dtype=tf.float64)\n",
    "z_calc(w, b, x)"
   ]
  },
  {
   "cell_type": "markdown",
   "metadata": {},
   "source": [
    "# Sigmoid Funtion\n",
    "compute $sigmoid(z) = \\frac{1}{1 + e^{-z}}$ for $z = w^T x + b$ to make predictions. Use np.exp() or tf.exp()."
   ]
  },
  {
   "cell_type": "code",
   "execution_count": 8,
   "metadata": {},
   "outputs": [],
   "source": [
    "def sigmoid(z: tf.Tensor) -> tf.Tensor:\n",
    "    s = 1/(1 + tf.exp(-z))\n",
    "    return s"
   ]
  },
  {
   "cell_type": "code",
   "execution_count": 9,
   "metadata": {},
   "outputs": [
    {
     "data": {
      "text/plain": [
       "<tf.Tensor: shape=(1,), dtype=float64, numpy=array([0.5])>"
      ]
     },
     "execution_count": 9,
     "metadata": {},
     "output_type": "execute_result"
    }
   ],
   "source": [
    "z = z_calc(w, b, x)\n",
    "sigmoid(z)"
   ]
  },
  {
   "cell_type": "markdown",
   "metadata": {},
   "source": [
    "## Calculate the Cost :\n",
    " $J = -\\frac{1}{m}\\sum_{i=1}^{m}(y^{(i)}\\log(yhat^{(i)})+(1-y^{(i)})\\log(1-yhat^{(i)}))$"
   ]
  },
  {
   "cell_type": "code",
   "execution_count": 10,
   "metadata": {},
   "outputs": [],
   "source": [
    "def cost(yhat:tf.Tensor, y:tf.Tensor):\n",
    "    loss = tf.reduce_sum((y * tf.math.log(yhat)) + ((1-y) * tf.math.log(1-yhat)))\n",
    "    c = (-1/yhat.shape[0]) * loss\n",
    "    return c"
   ]
  },
  {
   "cell_type": "markdown",
   "metadata": {},
   "source": [
    "## Forward Propagation:\n",
    "- You get X\n",
    "- You compute $yhat = \\sigma(w^T X + b) $\n",
    "- You calculate the cost function: $J = -\\frac{1}{m}\\sum_{i=1}^{m}(y^{(i)}\\log(yhat^{(i)})+(1-y^{(i)})\\log(1-yhat^{(i)}))$"
   ]
  },
  {
   "cell_type": "code",
   "execution_count": 11,
   "metadata": {},
   "outputs": [],
   "source": [
    "def forward_propagation(w: tf.Tensor, b: tf.float64, x: tf.Tensor, y: tf.Tensor):\n",
    "    z = z_calc(w, b, x)\n",
    "    yhat = sigmoid(z)\n",
    "    c = cost(yhat, y)\n",
    "    return yhat, tf.squeeze(c)\n"
   ]
  },
  {
   "cell_type": "markdown",
   "metadata": {},
   "source": [
    "## Back Propagation: \n",
    "\n",
    "- $$ \\frac{\\partial J}{\\partial w} = \\frac{1}{m}X(yhat-y)^T\\tag{7}$$\n",
    "- $$ \\frac{\\partial J}{\\partial b} = \\frac{1}{m} \\sum_{i=1}^m (yhat^{(i)}-y^{(i)})\\tag{8}$$"
   ]
  },
  {
   "cell_type": "code",
   "execution_count": 12,
   "metadata": {},
   "outputs": [],
   "source": [
    "def back_propagation(x: tf.Tensor, y: tf.Tensor, yhat: tf.Tensor):\n",
    "    m = y.shape[0]\n",
    "    dw = (1/m) * tf.tensordot(x, tf.transpose(yhat - y), axes=1)\n",
    "    db = (1/m) * tf.reduce_sum(yhat - y)\n",
    "    return {'dw': dw, 'db': db}\n"
   ]
  },
  {
   "cell_type": "markdown",
   "metadata": {},
   "source": [
    "# Optimizer"
   ]
  },
  {
   "cell_type": "code",
   "execution_count": 13,
   "metadata": {},
   "outputs": [],
   "source": [
    "def optimize(w, b, x, y, num_iterations=100, learning_rate=0.009):\n",
    "\n",
    "    for epoch in range(num_iterations):\n",
    "        yhat, loss = forward_propagation(w, b, x, y)\n",
    "        grads = back_propagation(x, y, yhat)\n",
    "        w = w - learning_rate * grads['dw']\n",
    "        b = b - learning_rate * grads['db']\n",
    "        if epoch % 10 == 0:\n",
    "            print(f\"Epoch: {epoch} => Loss: {loss}\")\n",
    "    return w, b, grads, loss\n"
   ]
  },
  {
   "cell_type": "code",
   "execution_count": 14,
   "metadata": {},
   "outputs": [
    {
     "name": "stdout",
     "output_type": "stream",
     "text": [
      "Epoch: 0 => Loss: 0.47701613123077213\n",
      "Epoch: 10 => Loss: 0.4164531274535226\n",
      "Epoch: 20 => Loss: 0.367523498948689\n",
      "Epoch: 30 => Loss: 0.3275456740982752\n",
      "Epoch: 40 => Loss: 0.2945102061378818\n",
      "Epoch: 50 => Loss: 0.26691094275228944\n",
      "Epoch: 60 => Loss: 0.24361332072642702\n",
      "Epoch: 70 => Loss: 0.2237560544308519\n",
      "Epoch: 80 => Loss: 0.20667926683465648\n",
      "Epoch: 90 => Loss: 0.19187237397489834\n",
      "Epoch: 100 => Loss: 0.17893631895908704\n",
      "Epoch: 110 => Loss: 0.167556102524381\n",
      "Epoch: 120 => Loss: 0.15748067635971635\n",
      "Epoch: 130 => Loss: 0.14850811044843798\n",
      "Epoch: 140 => Loss: 0.14047455659043903\n",
      "Epoch: 150 => Loss: 0.13324596273006736\n",
      "Epoch: 160 => Loss: 0.12671179611607164\n",
      "Epoch: 170 => Loss: 0.12078024571170254\n",
      "Epoch: 180 => Loss: 0.1153745232473739\n",
      "Epoch: 190 => Loss: 0.11042998727123679\n",
      "Epoch: 200 => Loss: 0.10589188895569433\n",
      "Epoch: 210 => Loss: 0.10171359152781864\n",
      "Epoch: 220 => Loss: 0.09785515338863691\n",
      "Epoch: 230 => Loss: 0.09428219267242786\n",
      "Epoch: 240 => Loss: 0.0909649712233753\n",
      "Epoch: 250 => Loss: 0.08787765085935872\n",
      "Epoch: 260 => Loss: 0.08499768584279371\n",
      "Epoch: 270 => Loss: 0.08230532373964133\n",
      "Epoch: 280 => Loss: 0.07978319306936461\n",
      "Epoch: 290 => Loss: 0.07741596086766094\n",
      "Epoch: 300 => Loss: 0.07519004688783387\n",
      "Epoch: 310 => Loss: 0.07309338393745153\n",
      "Epoch: 320 => Loss: 0.07111521599074429\n",
      "Epoch: 330 => Loss: 0.06924592738615201\n",
      "Epoch: 340 => Loss: 0.06747689772540502\n",
      "Epoch: 350 => Loss: 0.06580037811986968\n",
      "Epoch: 360 => Loss: 0.06420938524502097\n",
      "Epoch: 370 => Loss: 0.0626976103128104\n",
      "Epoch: 380 => Loss: 0.06125934059089404\n",
      "Epoch: 390 => Loss: 0.05988939151509914\n"
     ]
    },
    {
     "data": {
      "text/plain": [
       "(<tf.Tensor: shape=(2, 1), dtype=float64, numpy=\n",
       " array([[0.0966967 ],\n",
       "        [2.27572291]])>,\n",
       " <tf.Tensor: shape=(), dtype=float64, numpy=1.9455882442473833>,\n",
       " {'dw': <tf.Tensor: shape=(2, 1), dtype=float64, numpy=\n",
       "  array([[ 0.10104914],\n",
       "         [-0.04072141]])>,\n",
       "  'db': <tf.Tensor: shape=(), dtype=float64, numpy=-0.04856141334469418>},\n",
       " <tf.Tensor: shape=(), dtype=float64, numpy=0.058710945448840236>)"
      ]
     },
     "execution_count": 14,
     "metadata": {},
     "output_type": "execute_result"
    }
   ],
   "source": [
    "w =  np.array([[1.], [2]])\n",
    "b = 1.5\n",
    "X = np.array([[1., -2., -1.], [3., 0.5, -3.2]])\n",
    "Y = np.array([[1, 1, 0]])\n",
    "optimize(w, b, X, Y, num_iterations=400, learning_rate = 0.009)"
   ]
  },
  {
   "cell_type": "markdown",
   "metadata": {},
   "source": [
    "# Model\n",
    "- Initialize $$ w,b $$\n",
    "- Forward Propagation:\n",
    "    - You get X\n",
    "    - You compute $yhat = \\sigma(w^T X + b) $\n",
    "    - You calculate the cost function: $J = -\\frac{1}{m}\\sum_{i=1}^{m}(y^{(i)}\\log(yhat^{(i)})+(1-y^{(i)})\\log(1-yhat^{(i)}))$\n",
    "- Back Propagation: \n",
    "    - $$ \\frac{\\partial J}{\\partial w} = \\frac{1}{m}X(yhat-y)^T\\tag{7}$$\n",
    "    - $$ \\frac{\\partial J}{\\partial b} = \\frac{1}{m} \\sum_{i=1}^m (yhat^{(i)}-y^{(i)})\\tag{8}$$\n",
    "- Update weights:\n",
    "    - $$ w = w - {\\alpha} * \\frac{\\partial J}{\\partial w} $$\n",
    "    - $$ b = b- {\\alpha}  * \\frac{\\partial J}{\\partial b} $$"
   ]
  },
  {
   "cell_type": "code",
   "execution_count": 1,
   "metadata": {},
   "outputs": [
    {
     "ename": "NameError",
     "evalue": "name 'tf' is not defined",
     "output_type": "error",
     "traceback": [
      "\u001b[1;31m---------------------------------------------------------------------------\u001b[0m",
      "\u001b[1;31mNameError\u001b[0m                                 Traceback (most recent call last)",
      "\u001b[1;32m~\\AppData\\Local\\Temp/ipykernel_12184/414277640.py\u001b[0m in \u001b[0;36m<module>\u001b[1;34m\u001b[0m\n\u001b[1;32m----> 1\u001b[1;33m \u001b[1;32mclass\u001b[0m \u001b[0mModel\u001b[0m\u001b[1;33m:\u001b[0m\u001b[1;33m\u001b[0m\u001b[1;33m\u001b[0m\u001b[0m\n\u001b[0m\u001b[0;32m      2\u001b[0m     \u001b[1;32mdef\u001b[0m \u001b[0m__init__\u001b[0m\u001b[1;33m(\u001b[0m\u001b[0mself\u001b[0m\u001b[1;33m,\u001b[0m \u001b[0mdim\u001b[0m\u001b[1;33m:\u001b[0m \u001b[0mint\u001b[0m\u001b[1;33m)\u001b[0m\u001b[1;33m:\u001b[0m\u001b[1;33m\u001b[0m\u001b[1;33m\u001b[0m\u001b[0m\n\u001b[0;32m      3\u001b[0m         self.w, self.b = tf.random.normal(\n\u001b[0;32m      4\u001b[0m             [dim, 1], dtype=tf.float64, seed=42), 0.0\n\u001b[0;32m      5\u001b[0m         \u001b[0mself\u001b[0m\u001b[1;33m.\u001b[0m\u001b[0mparams\u001b[0m \u001b[1;33m=\u001b[0m \u001b[0mdict\u001b[0m\u001b[1;33m(\u001b[0m\u001b[1;33m)\u001b[0m\u001b[1;33m\u001b[0m\u001b[1;33m\u001b[0m\u001b[0m\n",
      "\u001b[1;32m~\\AppData\\Local\\Temp/ipykernel_12184/414277640.py\u001b[0m in \u001b[0;36mModel\u001b[1;34m()\u001b[0m\n\u001b[0;32m      8\u001b[0m         \u001b[0mself\u001b[0m\u001b[1;33m.\u001b[0m\u001b[0mmetric\u001b[0m \u001b[1;33m=\u001b[0m \u001b[1;33m[\u001b[0m\u001b[1;33m[\u001b[0m\u001b[1;36m0.0\u001b[0m\u001b[1;33m,\u001b[0m \u001b[1;33m]\u001b[0m\u001b[1;33m,\u001b[0m \u001b[1;33m[\u001b[0m\u001b[1;36m0.0\u001b[0m\u001b[1;33m,\u001b[0m \u001b[1;33m]\u001b[0m\u001b[1;33m]\u001b[0m\u001b[1;33m\u001b[0m\u001b[1;33m\u001b[0m\u001b[0m\n\u001b[0;32m      9\u001b[0m \u001b[1;33m\u001b[0m\u001b[0m\n\u001b[1;32m---> 10\u001b[1;33m     \u001b[1;32mdef\u001b[0m \u001b[0mforward\u001b[0m\u001b[1;33m(\u001b[0m\u001b[0mself\u001b[0m\u001b[1;33m,\u001b[0m \u001b[0mx\u001b[0m\u001b[1;33m:\u001b[0m \u001b[0mtf\u001b[0m\u001b[1;33m.\u001b[0m\u001b[0mTensor\u001b[0m\u001b[1;33m)\u001b[0m\u001b[1;33m:\u001b[0m\u001b[1;33m\u001b[0m\u001b[1;33m\u001b[0m\u001b[0m\n\u001b[0m\u001b[0;32m     11\u001b[0m         \u001b[0mz\u001b[0m \u001b[1;33m=\u001b[0m \u001b[0mtf\u001b[0m\u001b[1;33m.\u001b[0m\u001b[0mtensordot\u001b[0m\u001b[1;33m(\u001b[0m\u001b[0mtf\u001b[0m\u001b[1;33m.\u001b[0m\u001b[0mtranspose\u001b[0m\u001b[1;33m(\u001b[0m\u001b[0mself\u001b[0m\u001b[1;33m.\u001b[0m\u001b[0mw\u001b[0m\u001b[1;33m)\u001b[0m\u001b[1;33m,\u001b[0m \u001b[0mx\u001b[0m\u001b[1;33m,\u001b[0m \u001b[0maxes\u001b[0m\u001b[1;33m=\u001b[0m\u001b[1;36m1\u001b[0m\u001b[1;33m)\u001b[0m \u001b[1;33m+\u001b[0m \u001b[0mself\u001b[0m\u001b[1;33m.\u001b[0m\u001b[0mb\u001b[0m\u001b[1;33m\u001b[0m\u001b[1;33m\u001b[0m\u001b[0m\n\u001b[0;32m     12\u001b[0m         \u001b[1;32mreturn\u001b[0m \u001b[1;36m1\u001b[0m\u001b[1;33m/\u001b[0m\u001b[1;33m(\u001b[0m\u001b[1;36m1\u001b[0m \u001b[1;33m+\u001b[0m \u001b[0mtf\u001b[0m\u001b[1;33m.\u001b[0m\u001b[0mexp\u001b[0m\u001b[1;33m(\u001b[0m\u001b[1;33m-\u001b[0m\u001b[0mz\u001b[0m\u001b[1;33m)\u001b[0m\u001b[1;33m)\u001b[0m\u001b[1;33m\u001b[0m\u001b[1;33m\u001b[0m\u001b[0m\n",
      "\u001b[1;31mNameError\u001b[0m: name 'tf' is not defined"
     ]
    }
   ],
   "source": [
    "class Model:\n",
    "    def __init__(self, dim: int):\n",
    "        self.w, self.b = tf.random.normal(\n",
    "            [dim, 1], dtype=tf.float64, seed=42), 0.0\n",
    "        self.params = dict()\n",
    "        self.cost = None\n",
    "        self.losses = list()\n",
    "        self.metric = [[0.0, ], [0.0, ]]\n",
    "\n",
    "    def forward(self, x: tf.Tensor):\n",
    "        z = tf.tensordot(tf.transpose(self.w), x, axes=1) + self.b\n",
    "        return 1/(1 + tf.exp(-z))\n",
    "\n",
    "    def forward_propagation(self, w: tf.Tensor, b: tf.float64, x: tf.Tensor, y: tf.Tensor):\n",
    "        yhat = self.forward(x)\n",
    "        loss = tf.reduce_sum((y * tf.math.log(yhat)) +\n",
    "                             ((1-y) * tf.math.log(1-yhat)))\n",
    "        cost = (-1/y.shape[0]) * loss\n",
    "        return yhat, tf.squeeze(cost)\n",
    "\n",
    "    def back_propagation(self, x: tf.Tensor, y: tf.Tensor, yhat: tf.Tensor):\n",
    "        m = y.shape[0]\n",
    "        dw = (1/m) * tf.tensordot(x, tf.transpose(yhat - y), axes=1)\n",
    "        db = (1/m) * tf.reduce_sum(yhat - y)\n",
    "        return {'dw': dw, 'db': db}\n",
    "\n",
    "    def evaluate(self, ytrain, ytrain_pred, ytest, ytest_pred):\n",
    "        train_acc = 100 - np.mean(np.abs(ytrain_pred - ytrain)) * 100\n",
    "        test_acc = 100 - np.mean(np.abs(ytest_pred - ytest)) * 100\n",
    "        return train_acc, test_acc\n",
    "\n",
    "    def optimize(self, x, y, validation=None, num_iterations=100, learning_rate=0.009):\n",
    "        for epoch in range(num_iterations):\n",
    "            yhat, self.cost = self.forward_propagation(\n",
    "                self.w, self.b, x, y)\n",
    "            grads = self.back_propagation(x, y, yhat)\n",
    "            self.w = self.w - learning_rate * grads['dw']\n",
    "            self.b = self.b - learning_rate * grads['db']\n",
    "            self.losses.append(self.cost)\n",
    "            if epoch % 10 == 0:\n",
    "                ytest_pred = self.predict(validation[0])\n",
    "                train_acc, test_acc = self.evaluate(\n",
    "                    y, tf.round(yhat), validation[1], ytest_pred)\n",
    "                print(\n",
    "                    f\"Epoch: {epoch} => Train Accuraccy: {train_acc:.2f}% || Test Accuracy:{test_acc:.2f}% || Loss: {self.cost}\")\n",
    "                self.metric[0].append(train_acc)\n",
    "                self.metric[1].append(test_acc)\n",
    "        self.params['w'] = self.w\n",
    "        self.params['b'] = self.b\n",
    "        return self.w, self.b, grads, self.cost\n",
    "\n",
    "    def predict(self, x: tf.Tensor):\n",
    "        return tf.round(self.forward(x)['A2'])\n"
   ]
  },
  {
   "cell_type": "code",
   "execution_count": 16,
   "metadata": {},
   "outputs": [
    {
     "name": "stdout",
     "output_type": "stream",
     "text": [
      "Epoch: 0 => Train Accuraccy: 25.00% || Test Accuracy:50.00% || Loss: 1.315912193032579\n",
      "Epoch: 10 => Train Accuraccy: 25.00% || Test Accuracy:50.00% || Loss: 1.130260498619716\n",
      "Epoch: 20 => Train Accuraccy: 25.00% || Test Accuracy:50.00% || Loss: 0.9856022946926002\n",
      "Epoch: 30 => Train Accuraccy: 25.00% || Test Accuracy:50.00% || Loss: 0.8726790689316903\n",
      "Epoch: 40 => Train Accuraccy: 50.00% || Test Accuracy:100.00% || Loss: 0.7836236894709461\n",
      "Epoch: 50 => Train Accuraccy: 75.00% || Test Accuracy:100.00% || Loss: 0.7122113259589877\n",
      "Epoch: 60 => Train Accuraccy: 75.00% || Test Accuracy:100.00% || Loss: 0.653783792902152\n",
      "Epoch: 70 => Train Accuraccy: 75.00% || Test Accuracy:100.00% || Loss: 0.6049739804328483\n",
      "Epoch: 80 => Train Accuraccy: 75.00% || Test Accuracy:100.00% || Loss: 0.5633875293801394\n",
      "Epoch: 90 => Train Accuraccy: 75.00% || Test Accuracy:100.00% || Loss: 0.5273272263749174\n"
     ]
    },
    {
     "data": {
      "text/plain": [
       "(<tf.Tensor: shape=(2, 1), dtype=float64, numpy=\n",
       " array([[0.67251638],\n",
       "        [0.15194723]])>,\n",
       " <tf.Tensor: shape=(), dtype=float64, numpy=0.19555566275624162>,\n",
       " {'dw': <tf.Tensor: shape=(2, 1), dtype=float64, numpy=\n",
       "  array([[ 0.20437155],\n",
       "         [-0.50945549]])>,\n",
       "  'db': <tf.Tensor: shape=(), dtype=float64, numpy=-0.18376851092327232>},\n",
       " <tf.Tensor: shape=(), dtype=float64, numpy=0.4985905148418581>)"
      ]
     },
     "execution_count": 16,
     "metadata": {},
     "output_type": "execute_result"
    }
   ],
   "source": [
    "X = tf.Variable([\n",
    "    [1., -2., -1., 3.4],\n",
    "    [3., 0.5, -3.2, 2.5]\n",
    "], dtype=tf.float64)\n",
    "Y = np.array([1, 1, 0, 1])\n",
    "xv = tf.Variable([\n",
    "    [-1.3, 3.1],\n",
    "    [-3.6, 2.1]\n",
    "], dtype=tf.float64)\n",
    "yv = np.array([0, 1])\n",
    "model = Model(2)\n",
    "model.optimize(X, Y, validation=(xv, yv), num_iterations=100)"
   ]
  },
  {
   "cell_type": "code",
   "execution_count": 17,
   "metadata": {},
   "outputs": [
    {
     "data": {
      "text/plain": [
       "[<matplotlib.lines.Line2D at 0x168e5a2ab30>]"
      ]
     },
     "execution_count": 17,
     "metadata": {},
     "output_type": "execute_result"
    },
    {
     "data": {
      "image/png": "[encoded data removed]",
      "text/plain": [
       "<Figure size 432x288 with 1 Axes>"
      ]
     },
     "metadata": {
      "needs_background": "light"
     },
     "output_type": "display_data"
    }
   ],
   "source": [
    "plt.plot(model.losses)"
   ]
  },
  {
   "cell_type": "markdown",
   "metadata": {},
   "source": [
    "# Test Model"
   ]
  },
  {
   "cell_type": "code",
   "execution_count": 18,
   "metadata": {},
   "outputs": [],
   "source": [
    "from sklearn import datasets\n",
    "from sklearn.preprocessing import StandardScaler\n",
    "x, y = datasets.load_breast_cancer(return_X_y=True)\n",
    "x = StandardScaler().fit_transform(x)"
   ]
  },
  {
   "cell_type": "code",
   "execution_count": 19,
   "metadata": {},
   "outputs": [],
   "source": [
    "from sklearn.model_selection import train_test_split\n",
    "xtrain, xtest, ytrain, ytest = train_test_split(\n",
    "    x, y, random_state=33, test_size=0.3\n",
    ")\n"
   ]
  },
  {
   "cell_type": "code",
   "execution_count": 20,
   "metadata": {},
   "outputs": [],
   "source": [
    "xtrain = tf.Variable(xtrain.T, dtype=tf.float64)\n",
    "xtest = tf.Variable(xtest.T, dtype=tf.float64)\n"
   ]
  },
  {
   "cell_type": "code",
   "execution_count": 21,
   "metadata": {},
   "outputs": [
    {
     "name": "stdout",
     "output_type": "stream",
     "text": [
      "Epoch: 0 => Train Accuraccy: 20.35% || Test Accuracy:23.39% || Loss: 4.673907349138036\n",
      "Epoch: 10 => Train Accuraccy: 22.86% || Test Accuracy:26.32% || Loss: 4.063799169424005\n",
      "Epoch: 20 => Train Accuraccy: 26.88% || Test Accuracy:30.99% || Loss: 3.506552407958166\n",
      "Epoch: 30 => Train Accuraccy: 31.66% || Test Accuracy:36.26% || Loss: 3.0072342778657655\n",
      "Epoch: 40 => Train Accuraccy: 36.18% || Test Accuracy:42.69% || Loss: 2.5699018216869467\n",
      "Epoch: 50 => Train Accuraccy: 41.71% || Test Accuracy:46.78% || Loss: 2.199415067361854\n",
      "Epoch: 60 => Train Accuraccy: 46.98% || Test Accuracy:54.97% || Loss: 1.894998914351612\n",
      "Epoch: 70 => Train Accuraccy: 50.75% || Test Accuracy:58.48% || Loss: 1.6492518872434194\n",
      "Epoch: 80 => Train Accuraccy: 54.52% || Test Accuracy:63.16% || Loss: 1.4536080360137926\n",
      "Epoch: 90 => Train Accuraccy: 59.55% || Test Accuracy:65.50% || Loss: 1.2996838418950163\n",
      "Epoch: 100 => Train Accuraccy: 63.82% || Test Accuracy:67.84% || Loss: 1.1788923677520282\n",
      "Epoch: 110 => Train Accuraccy: 65.58% || Test Accuracy:70.76% || Loss: 1.0832943591703144\n",
      "Epoch: 120 => Train Accuraccy: 68.34% || Test Accuracy:74.85% || Loss: 1.0059294199798408\n",
      "Epoch: 130 => Train Accuraccy: 69.60% || Test Accuracy:75.44% || Loss: 0.941084663223761\n",
      "Epoch: 140 => Train Accuraccy: 71.36% || Test Accuracy:76.02% || Loss: 0.8853165320504045\n",
      "Epoch: 150 => Train Accuraccy: 73.37% || Test Accuracy:77.19% || Loss: 0.8366839057547574\n",
      "Epoch: 160 => Train Accuraccy: 74.87% || Test Accuracy:78.36% || Loss: 0.7939330783079485\n",
      "Epoch: 170 => Train Accuraccy: 75.38% || Test Accuracy:78.36% || Loss: 0.7561548022562898\n",
      "Epoch: 180 => Train Accuraccy: 76.38% || Test Accuracy:80.70% || Loss: 0.7226513398283297\n",
      "Epoch: 190 => Train Accuraccy: 77.64% || Test Accuracy:81.29% || Loss: 0.6928679910444755\n",
      "Epoch: 200 => Train Accuraccy: 79.65% || Test Accuracy:83.04% || Loss: 0.6663361731145238\n",
      "Epoch: 210 => Train Accuraccy: 81.66% || Test Accuracy:84.21% || Loss: 0.6426239111891524\n",
      "Epoch: 220 => Train Accuraccy: 82.16% || Test Accuracy:84.21% || Loss: 0.6213154172297872\n",
      "Epoch: 230 => Train Accuraccy: 83.42% || Test Accuracy:84.80% || Loss: 0.6020247252287039\n",
      "Epoch: 240 => Train Accuraccy: 84.17% || Test Accuracy:84.80% || Loss: 0.5844180325064604\n",
      "Epoch: 250 => Train Accuraccy: 84.17% || Test Accuracy:84.80% || Loss: 0.5682228770529327\n",
      "Epoch: 260 => Train Accuraccy: 84.67% || Test Accuracy:85.38% || Loss: 0.5532233336259016\n",
      "Epoch: 270 => Train Accuraccy: 84.67% || Test Accuracy:85.38% || Loss: 0.5392492545882652\n",
      "Epoch: 280 => Train Accuraccy: 85.18% || Test Accuracy:85.96% || Loss: 0.5261653993945373\n",
      "Epoch: 290 => Train Accuraccy: 86.43% || Test Accuracy:85.96% || Loss: 0.5138626250158141\n",
      "Epoch: 300 => Train Accuraccy: 86.68% || Test Accuracy:86.55% || Loss: 0.5022513523273752\n",
      "Epoch: 310 => Train Accuraccy: 87.19% || Test Accuracy:86.55% || Loss: 0.4912568860729904\n",
      "Epoch: 320 => Train Accuraccy: 87.19% || Test Accuracy:87.13% || Loss: 0.4808160905512252\n",
      "Epoch: 330 => Train Accuraccy: 87.19% || Test Accuracy:87.13% || Loss: 0.4708750126866306\n",
      "Epoch: 340 => Train Accuraccy: 87.19% || Test Accuracy:87.72% || Loss: 0.4613871541032895\n",
      "Epoch: 350 => Train Accuraccy: 87.19% || Test Accuracy:87.72% || Loss: 0.45231218504346465\n",
      "Epoch: 360 => Train Accuraccy: 87.19% || Test Accuracy:88.89% || Loss: 0.44361496047885834\n",
      "Epoch: 370 => Train Accuraccy: 87.19% || Test Accuracy:89.47% || Loss: 0.4352647461746677\n",
      "Epoch: 380 => Train Accuraccy: 87.19% || Test Accuracy:90.06% || Loss: 0.4272345945737579\n",
      "Epoch: 390 => Train Accuraccy: 87.69% || Test Accuracy:90.64% || Loss: 0.4195008313881126\n",
      "Epoch: 400 => Train Accuraccy: 87.94% || Test Accuracy:90.64% || Loss: 0.41204262710517925\n",
      "Epoch: 410 => Train Accuraccy: 88.19% || Test Accuracy:90.64% || Loss: 0.4048416358254628\n",
      "Epoch: 420 => Train Accuraccy: 88.69% || Test Accuracy:90.64% || Loss: 0.39788168882000063\n",
      "Epoch: 430 => Train Accuraccy: 88.69% || Test Accuracy:90.64% || Loss: 0.39114853321220366\n",
      "Epoch: 440 => Train Accuraccy: 88.94% || Test Accuracy:90.64% || Loss: 0.38462960806605717\n",
      "Epoch: 450 => Train Accuraccy: 88.94% || Test Accuracy:90.64% || Loss: 0.3783138513888456\n",
      "Epoch: 460 => Train Accuraccy: 89.20% || Test Accuracy:90.64% || Loss: 0.3721915324012507\n",
      "Epoch: 470 => Train Accuraccy: 89.70% || Test Accuracy:90.64% || Loss: 0.36625410403275727\n",
      "Epoch: 480 => Train Accuraccy: 89.70% || Test Accuracy:91.23% || Loss: 0.3604940710454489\n",
      "Epoch: 490 => Train Accuraccy: 89.70% || Test Accuracy:91.23% || Loss: 0.3549048695366759\n",
      "Epoch: 500 => Train Accuraccy: 89.70% || Test Accuracy:91.23% || Loss: 0.34948075389365524\n",
      "Epoch: 510 => Train Accuraccy: 89.70% || Test Accuracy:91.23% || Loss: 0.34421668766738733\n",
      "Epoch: 520 => Train Accuraccy: 89.70% || Test Accuracy:91.23% || Loss: 0.3391082354158661\n",
      "Epoch: 530 => Train Accuraccy: 89.70% || Test Accuracy:91.23% || Loss: 0.33415145345241315\n",
      "Epoch: 540 => Train Accuraccy: 89.70% || Test Accuracy:91.23% || Loss: 0.32934277869629786\n",
      "Epoch: 550 => Train Accuraccy: 89.70% || Test Accuracy:91.23% || Loss: 0.3246789164371063\n",
      "Epoch: 560 => Train Accuraccy: 89.95% || Test Accuracy:91.23% || Loss: 0.320156729628686\n",
      "Epoch: 570 => Train Accuraccy: 89.95% || Test Accuracy:91.23% || Loss: 0.31577313400934587\n",
      "Epoch: 580 => Train Accuraccy: 89.95% || Test Accuracy:91.23% || Loss: 0.311525004490246\n",
      "Epoch: 590 => Train Accuraccy: 89.95% || Test Accuracy:91.23% || Loss: 0.3074090984731932\n",
      "Epoch: 600 => Train Accuraccy: 89.95% || Test Accuracy:91.81% || Loss: 0.30342200083895465\n",
      "Epoch: 610 => Train Accuraccy: 90.20% || Test Accuracy:91.81% || Loss: 0.2995600933730043\n",
      "Epoch: 620 => Train Accuraccy: 90.20% || Test Accuracy:91.81% || Loss: 0.29581954876806443\n",
      "Epoch: 630 => Train Accuraccy: 90.45% || Test Accuracy:91.81% || Loss: 0.2921963466631016\n",
      "Epoch: 640 => Train Accuraccy: 90.20% || Test Accuracy:91.81% || Loss: 0.2886863070454141\n",
      "Epoch: 650 => Train Accuraccy: 90.20% || Test Accuracy:92.40% || Loss: 0.2852851351566869\n",
      "Epoch: 660 => Train Accuraccy: 90.45% || Test Accuracy:92.40% || Loss: 0.2819884719058263\n",
      "Epoch: 670 => Train Accuraccy: 90.45% || Test Accuracy:92.40% || Loss: 0.2787919445253312\n",
      "Epoch: 680 => Train Accuraccy: 90.45% || Test Accuracy:92.40% || Loss: 0.2756912134759297\n",
      "Epoch: 690 => Train Accuraccy: 90.70% || Test Accuracy:92.40% || Loss: 0.2726820130429814\n",
      "Epoch: 700 => Train Accuraccy: 90.70% || Test Accuracy:92.40% || Loss: 0.2697601843913473\n",
      "Epoch: 710 => Train Accuraccy: 90.70% || Test Accuracy:92.40% || Loss: 0.26692170088680983\n",
      "Epoch: 720 => Train Accuraccy: 90.70% || Test Accuracy:92.40% || Loss: 0.26416268619930366\n",
      "Epoch: 730 => Train Accuraccy: 90.70% || Test Accuracy:92.40% || Loss: 0.26147942610306535\n",
      "Epoch: 740 => Train Accuraccy: 90.70% || Test Accuracy:92.40% || Loss: 0.25886837504876525\n",
      "Epoch: 750 => Train Accuraccy: 90.70% || Test Accuracy:92.40% || Loss: 0.25632615857970104\n",
      "Epoch: 760 => Train Accuraccy: 90.70% || Test Accuracy:92.40% || Loss: 0.2538495725660515\n",
      "Epoch: 770 => Train Accuraccy: 91.21% || Test Accuracy:92.40% || Loss: 0.2514355800891851\n",
      "Epoch: 780 => Train Accuraccy: 91.46% || Test Accuracy:92.40% || Loss: 0.24908130665599928\n",
      "Epoch: 790 => Train Accuraccy: 91.46% || Test Accuracy:92.98% || Loss: 0.24678403428080742\n",
      "Epoch: 800 => Train Accuraccy: 91.46% || Test Accuracy:92.98% || Loss: 0.24454119484868736\n",
      "Epoch: 810 => Train Accuraccy: 91.46% || Test Accuracy:92.98% || Loss: 0.2423503630722866\n",
      "Epoch: 820 => Train Accuraccy: 91.46% || Test Accuracy:92.98% || Loss: 0.24020924927285375\n",
      "Epoch: 830 => Train Accuraccy: 91.46% || Test Accuracy:92.98% || Loss: 0.23811569215320355\n",
      "Epoch: 840 => Train Accuraccy: 91.46% || Test Accuracy:92.98% || Loss: 0.2360676516821228\n",
      "Epoch: 850 => Train Accuraccy: 91.46% || Test Accuracy:92.98% || Loss: 0.23406320217341786\n",
      "Epoch: 860 => Train Accuraccy: 91.46% || Test Accuracy:92.98% || Loss: 0.23210052561564898\n",
      "Epoch: 870 => Train Accuraccy: 91.46% || Test Accuracy:92.98% || Loss: 0.23017790528844184\n",
      "Epoch: 880 => Train Accuraccy: 91.71% || Test Accuracy:92.98% || Loss: 0.22829371968636253\n",
      "Epoch: 890 => Train Accuraccy: 91.96% || Test Accuracy:92.98% || Loss: 0.2264464367604001\n",
      "Epoch: 900 => Train Accuraccy: 91.96% || Test Accuracy:92.98% || Loss: 0.22463460847913727\n",
      "Epoch: 910 => Train Accuraccy: 91.96% || Test Accuracy:93.57% || Loss: 0.22285686570589353\n",
      "Epoch: 920 => Train Accuraccy: 92.21% || Test Accuracy:93.57% || Loss: 0.22111191338405609\n",
      "Epoch: 930 => Train Accuraccy: 92.71% || Test Accuracy:93.57% || Loss: 0.21939852601995738\n",
      "Epoch: 940 => Train Accuraccy: 92.71% || Test Accuracy:93.57% || Loss: 0.21771554345077757\n",
      "Epoch: 950 => Train Accuraccy: 92.71% || Test Accuracy:93.57% || Loss: 0.2160618668837606\n",
      "Epoch: 960 => Train Accuraccy: 92.71% || Test Accuracy:93.57% || Loss: 0.21443645519241336\n",
      "Epoch: 970 => Train Accuraccy: 92.71% || Test Accuracy:93.57% || Loss: 0.21283832145511988\n",
      "Epoch: 980 => Train Accuraccy: 92.71% || Test Accuracy:94.15% || Loss: 0.2112665297216656\n",
      "Epoch: 990 => Train Accuraccy: 92.71% || Test Accuracy:94.15% || Loss: 0.2097201919934766\n"
     ]
    },
    {
     "data": {
      "text/plain": [
       "(<tf.Tensor: shape=(30, 1), dtype=float64, numpy=\n",
       " array([[-0.12113846],\n",
       "        [-0.08578507],\n",
       "        [-2.70153131],\n",
       "        [ 0.79906941],\n",
       "        [-0.15496253],\n",
       "        [-0.06563128],\n",
       "        [-0.57845672],\n",
       "        [ 0.27902399],\n",
       "        [ 0.06640168],\n",
       "        [ 0.71361649],\n",
       "        [-0.37160711],\n",
       "        [-0.71665007],\n",
       "        [ 0.37958917],\n",
       "        [-0.07339077],\n",
       "        [ 1.2232992 ],\n",
       "        [-1.34550852],\n",
       "        [ 0.37824697],\n",
       "        [ 0.95300196],\n",
       "        [-0.75431282],\n",
       "        [-0.03231322],\n",
       "        [-0.43579806],\n",
       "        [-0.95924001],\n",
       "        [-1.75479686],\n",
       "        [-1.84726195],\n",
       "        [-0.45546086],\n",
       "        [ 1.84486309],\n",
       "        [-0.46323464],\n",
       "        [-0.209828  ],\n",
       "        [ 0.64249136],\n",
       "        [-3.47029986]])>,\n",
       " <tf.Tensor: shape=(), dtype=float64, numpy=0.4462589375572441>,\n",
       " {'dw': <tf.Tensor: shape=(30, 1), dtype=float64, numpy=\n",
       "  array([[ 0.01623266],\n",
       "         [-0.00196918],\n",
       "         [ 0.01532433],\n",
       "         [ 0.01646813],\n",
       "         [ 0.02617006],\n",
       "         [-0.00502235],\n",
       "         [ 0.00876571],\n",
       "         [ 0.02410336],\n",
       "         [ 0.01873366],\n",
       "         [-0.02960484],\n",
       "         [ 0.01197424],\n",
       "         [-0.02787767],\n",
       "         [ 0.00887475],\n",
       "         [ 0.0121784 ],\n",
       "         [ 0.04147852],\n",
       "         [-0.02788929],\n",
       "         [-0.01301559],\n",
       "         [ 0.01959011],\n",
       "         [ 0.00460382],\n",
       "         [-0.04710792],\n",
       "         [ 0.01949365],\n",
       "         [ 0.00022516],\n",
       "         [ 0.01719653],\n",
       "         [ 0.01831105],\n",
       "         [ 0.04177109],\n",
       "         [-0.00886059],\n",
       "         [-0.0006524 ],\n",
       "         [ 0.02611217],\n",
       "         [ 0.02469596],\n",
       "         [-0.03289952]])>,\n",
       "  'db': <tf.Tensor: shape=(), dtype=float64, numpy=-0.009884483624811171>},\n",
       " <tf.Tensor: shape=(), dtype=float64, numpy=0.20834955369365799>)"
      ]
     },
     "execution_count": 21,
     "metadata": {},
     "output_type": "execute_result"
    }
   ],
   "source": [
    "model = Model(xtrain.shape[0])\n",
    "model.optimize(xtrain, ytrain, validation=(xtest, ytest),\n",
    "               num_iterations=1000, learning_rate=0.01)\n"
   ]
  },
  {
   "cell_type": "code",
   "execution_count": 22,
   "metadata": {},
   "outputs": [
    {
     "data": {
      "image/png": "[encoded data removed]",
      "text/plain": [
       "<Figure size 432x288 with 1 Axes>"
      ]
     },
     "metadata": {
      "needs_background": "light"
     },
     "output_type": "display_data"
    }
   ],
   "source": [
    "plt.figure()\n",
    "plt.plot(model.metric[0], color='darkorange')\n",
    "plt.plot(model.metric[1], color='lightgreen')\n",
    "plt.show()"
   ]
  },
  {
   "cell_type": "code",
   "execution_count": 23,
   "metadata": {},
   "outputs": [
    {
     "data": {
      "text/plain": [
       "{'w': <tf.Tensor: shape=(30, 1), dtype=float64, numpy=\n",
       " array([[-0.12113846],\n",
       "        [-0.08578507],\n",
       "        [-2.70153131],\n",
       "        [ 0.79906941],\n",
       "        [-0.15496253],\n",
       "        [-0.06563128],\n",
       "        [-0.57845672],\n",
       "        [ 0.27902399],\n",
       "        [ 0.06640168],\n",
       "        [ 0.71361649],\n",
       "        [-0.37160711],\n",
       "        [-0.71665007],\n",
       "        [ 0.37958917],\n",
       "        [-0.07339077],\n",
       "        [ 1.2232992 ],\n",
       "        [-1.34550852],\n",
       "        [ 0.37824697],\n",
       "        [ 0.95300196],\n",
       "        [-0.75431282],\n",
       "        [-0.03231322],\n",
       "        [-0.43579806],\n",
       "        [-0.95924001],\n",
       "        [-1.75479686],\n",
       "        [-1.84726195],\n",
       "        [-0.45546086],\n",
       "        [ 1.84486309],\n",
       "        [-0.46323464],\n",
       "        [-0.209828  ],\n",
       "        [ 0.64249136],\n",
       "        [-3.47029986]])>,\n",
       " 'b': <tf.Tensor: shape=(), dtype=float64, numpy=0.4462589375572441>}"
      ]
     },
     "execution_count": 23,
     "metadata": {},
     "output_type": "execute_result"
    }
   ],
   "source": [
    "model.params\n"
   ]
  },
  {
   "cell_type": "code",
   "execution_count": 24,
   "metadata": {},
   "outputs": [
    {
     "data": {
      "text/plain": [
       "<tf.Tensor: shape=(171,), dtype=bool, numpy=\n",
       "array([ True,  True,  True,  True,  True,  True,  True,  True,  True,\n",
       "        True,  True,  True,  True, False,  True,  True,  True,  True,\n",
       "        True, False,  True,  True,  True,  True,  True,  True,  True,\n",
       "        True, False,  True,  True,  True,  True,  True,  True,  True,\n",
       "        True,  True,  True,  True,  True,  True,  True,  True,  True,\n",
       "        True,  True,  True,  True,  True,  True,  True,  True,  True,\n",
       "        True,  True,  True,  True,  True,  True,  True,  True,  True,\n",
       "        True,  True,  True,  True,  True, False,  True,  True,  True,\n",
       "        True,  True,  True,  True,  True,  True,  True,  True,  True,\n",
       "        True,  True,  True,  True,  True, False,  True,  True,  True,\n",
       "        True,  True,  True,  True,  True,  True,  True,  True,  True,\n",
       "        True,  True,  True, False,  True,  True,  True,  True,  True,\n",
       "        True,  True,  True,  True,  True,  True,  True,  True,  True,\n",
       "        True,  True,  True,  True,  True, False, False, False,  True,\n",
       "        True,  True,  True,  True,  True,  True,  True,  True,  True,\n",
       "        True,  True,  True,  True,  True,  True,  True,  True,  True,\n",
       "        True,  True,  True,  True,  True,  True,  True,  True,  True,\n",
       "        True,  True,  True,  True,  True, False,  True,  True,  True,\n",
       "        True,  True,  True,  True,  True,  True,  True,  True,  True])>"
      ]
     },
     "execution_count": 24,
     "metadata": {},
     "output_type": "execute_result"
    }
   ],
   "source": [
    "ypred = model.predict(xtest)[0]\n",
    "ypred == ytest"
   ]
  },
  {
   "cell_type": "code",
   "execution_count": 25,
   "metadata": {},
   "outputs": [
    {
     "data": {
      "text/plain": [
       "[[0.0,\n",
       "  20.35175879396985,\n",
       "  22.8643216080402,\n",
       "  26.884422110552762,\n",
       "  31.65829145728644,\n",
       "  36.18090452261307,\n",
       "  41.708542713567844,\n",
       "  46.984924623115575,\n",
       "  50.753768844221106,\n",
       "  54.52261306532663,\n",
       "  59.54773869346734,\n",
       "  63.81909547738693,\n",
       "  65.57788944723617,\n",
       "  68.34170854271358,\n",
       "  69.59798994974875,\n",
       "  71.35678391959799,\n",
       "  73.36683417085428,\n",
       "  74.87437185929649,\n",
       "  75.37688442211055,\n",
       "  76.3819095477387,\n",
       "  77.63819095477388,\n",
       "  79.64824120603015,\n",
       "  81.65829145728644,\n",
       "  82.1608040201005,\n",
       "  83.41708542713567,\n",
       "  84.17085427135679,\n",
       "  84.17085427135679,\n",
       "  84.67336683417085,\n",
       "  84.67336683417085,\n",
       "  85.17587939698493,\n",
       "  86.4321608040201,\n",
       "  86.68341708542714,\n",
       "  87.1859296482412,\n",
       "  87.1859296482412,\n",
       "  87.1859296482412,\n",
       "  87.1859296482412,\n",
       "  87.1859296482412,\n",
       "  87.1859296482412,\n",
       "  87.1859296482412,\n",
       "  87.1859296482412,\n",
       "  87.68844221105527,\n",
       "  87.93969849246231,\n",
       "  88.19095477386935,\n",
       "  88.69346733668341,\n",
       "  88.69346733668341,\n",
       "  88.94472361809045,\n",
       "  88.94472361809045,\n",
       "  89.19597989949749,\n",
       "  89.69849246231156,\n",
       "  89.69849246231156,\n",
       "  89.69849246231156,\n",
       "  89.69849246231156,\n",
       "  89.69849246231156,\n",
       "  89.69849246231156,\n",
       "  89.69849246231156,\n",
       "  89.69849246231156,\n",
       "  89.69849246231156,\n",
       "  89.94974874371859,\n",
       "  89.94974874371859,\n",
       "  89.94974874371859,\n",
       "  89.94974874371859,\n",
       "  89.94974874371859,\n",
       "  90.20100502512562,\n",
       "  90.20100502512562,\n",
       "  90.45226130653266,\n",
       "  90.20100502512562,\n",
       "  90.20100502512562,\n",
       "  90.45226130653266,\n",
       "  90.45226130653266,\n",
       "  90.45226130653266,\n",
       "  90.7035175879397,\n",
       "  90.7035175879397,\n",
       "  90.7035175879397,\n",
       "  90.7035175879397,\n",
       "  90.7035175879397,\n",
       "  90.7035175879397,\n",
       "  90.7035175879397,\n",
       "  90.7035175879397,\n",
       "  91.20603015075378,\n",
       "  91.4572864321608,\n",
       "  91.4572864321608,\n",
       "  91.4572864321608,\n",
       "  91.4572864321608,\n",
       "  91.4572864321608,\n",
       "  91.4572864321608,\n",
       "  91.4572864321608,\n",
       "  91.4572864321608,\n",
       "  91.4572864321608,\n",
       "  91.4572864321608,\n",
       "  91.70854271356784,\n",
       "  91.95979899497488,\n",
       "  91.95979899497488,\n",
       "  91.95979899497488,\n",
       "  92.21105527638191,\n",
       "  92.71356783919597,\n",
       "  92.71356783919597,\n",
       "  92.71356783919597,\n",
       "  92.71356783919597,\n",
       "  92.71356783919597,\n",
       "  92.71356783919597,\n",
       "  92.71356783919597],\n",
       " [0.0,\n",
       "  23.391812865497073,\n",
       "  26.31578947368422,\n",
       "  30.994152046783626,\n",
       "  36.25730994152047,\n",
       "  42.69005847953217,\n",
       "  46.783625730994146,\n",
       "  54.97076023391813,\n",
       "  58.47953216374269,\n",
       "  63.15789473684211,\n",
       "  65.49707602339181,\n",
       "  67.83625730994152,\n",
       "  70.76023391812865,\n",
       "  74.85380116959064,\n",
       "  75.43859649122807,\n",
       "  76.0233918128655,\n",
       "  77.19298245614036,\n",
       "  78.3625730994152,\n",
       "  78.3625730994152,\n",
       "  80.70175438596492,\n",
       "  81.28654970760235,\n",
       "  83.04093567251462,\n",
       "  84.21052631578948,\n",
       "  84.21052631578948,\n",
       "  84.7953216374269,\n",
       "  84.7953216374269,\n",
       "  84.7953216374269,\n",
       "  85.38011695906432,\n",
       "  85.38011695906432,\n",
       "  85.96491228070175,\n",
       "  85.96491228070175,\n",
       "  86.54970760233918,\n",
       "  86.54970760233918,\n",
       "  87.13450292397661,\n",
       "  87.13450292397661,\n",
       "  87.71929824561404,\n",
       "  87.71929824561404,\n",
       "  88.88888888888889,\n",
       "  89.47368421052632,\n",
       "  90.05847953216374,\n",
       "  90.64327485380117,\n",
       "  90.64327485380117,\n",
       "  90.64327485380117,\n",
       "  90.64327485380117,\n",
       "  90.64327485380117,\n",
       "  90.64327485380117,\n",
       "  90.64327485380117,\n",
       "  90.64327485380117,\n",
       "  90.64327485380117,\n",
       "  91.2280701754386,\n",
       "  91.2280701754386,\n",
       "  91.2280701754386,\n",
       "  91.2280701754386,\n",
       "  91.2280701754386,\n",
       "  91.2280701754386,\n",
       "  91.2280701754386,\n",
       "  91.2280701754386,\n",
       "  91.2280701754386,\n",
       "  91.2280701754386,\n",
       "  91.2280701754386,\n",
       "  91.2280701754386,\n",
       "  91.81286549707602,\n",
       "  91.81286549707602,\n",
       "  91.81286549707602,\n",
       "  91.81286549707602,\n",
       "  91.81286549707602,\n",
       "  92.39766081871345,\n",
       "  92.39766081871345,\n",
       "  92.39766081871345,\n",
       "  92.39766081871345,\n",
       "  92.39766081871345,\n",
       "  92.39766081871345,\n",
       "  92.39766081871345,\n",
       "  92.39766081871345,\n",
       "  92.39766081871345,\n",
       "  92.39766081871345,\n",
       "  92.39766081871345,\n",
       "  92.39766081871345,\n",
       "  92.39766081871345,\n",
       "  92.39766081871345,\n",
       "  92.98245614035088,\n",
       "  92.98245614035088,\n",
       "  92.98245614035088,\n",
       "  92.98245614035088,\n",
       "  92.98245614035088,\n",
       "  92.98245614035088,\n",
       "  92.98245614035088,\n",
       "  92.98245614035088,\n",
       "  92.98245614035088,\n",
       "  92.98245614035088,\n",
       "  92.98245614035088,\n",
       "  92.98245614035088,\n",
       "  93.5672514619883,\n",
       "  93.5672514619883,\n",
       "  93.5672514619883,\n",
       "  93.5672514619883,\n",
       "  93.5672514619883,\n",
       "  93.5672514619883,\n",
       "  93.5672514619883,\n",
       "  94.15204678362574,\n",
       "  94.15204678362574]]"
      ]
     },
     "execution_count": 25,
     "metadata": {},
     "output_type": "execute_result"
    }
   ],
   "source": [
    "model.metric"
   ]
  },
  {
   "cell_type": "code",
   "execution_count": 26,
   "metadata": {},
   "outputs": [
    {
     "data": {
      "text/plain": [
       "0.9415204678362573"
      ]
     },
     "execution_count": 26,
     "metadata": {},
     "output_type": "execute_result"
    }
   ],
   "source": [
    "from sklearn.metrics import accuracy_score\n",
    "accuracy_score(y_true=ytest, y_pred=ypred)"
   ]
  },
  {
   "cell_type": "code",
   "execution_count": null,
   "metadata": {},
   "outputs": [],
   "source": []
  }
 ],
 "metadata": {
  "interpreter": {
   "hash": "2be5faf79681da6f2a61fdfdd5405d65d042280f7fba6178067603e3a2925119"
  },
  "kernelspec": {
   "display_name": "Python 3.10.1 64-bit",
   "language": "python",
   "name": "python3"
  },
  "language_info": {
   "codemirror_mode": {
    "name": "ipython",
    "version": 3
   },
   "file_extension": ".py",
   "mimetype": "text/x-python",
   "name": "python",
   "nbconvert_exporter": "python",
   "pygments_lexer": "ipython3",
   "version": "3.10.1"
  },
  "orig_nbformat": 4
 },
 "nbformat": 4,
 "nbformat_minor": 2
}
