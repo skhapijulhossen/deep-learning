{
 "cells": [
  {
   "cell_type": "code",
   "execution_count": 1,
   "metadata": {},
   "outputs": [],
   "source": [
    "import numpy as np\n",
    "import tensorflow as tf"
   ]
  },
  {
   "cell_type": "code",
   "execution_count": 8,
   "metadata": {},
   "outputs": [],
   "source": [
    "class DeepNN:\n",
    "    def __init__(self, layers_dim: tuple[int], learning_rate: float = 0.09):\n",
    "        self.params = self.init_params(layers_dim)\n",
    "        self.layers_dim = layers_dim\n",
    "\n",
    "    def init_params(self, layers_dim):\n",
    "        tf.random.set_seed(42)\n",
    "        params = dict()\n",
    "        for l in range(1, len(layers_dim)):\n",
    "            params['W' + str(l)] = tf.random.normal([layers_dim[l],\n",
    "                                                     layers_dim[l-1]]) * 0.01\n",
    "            params['b' + str(l)] = tf.random.normal([layers_dim[l], 1])\n",
    "        return params\n",
    "\n",
    "    def forward(self, A: tf.Tensor, W: tf.Tensor, b: tf.Tendor):\n",
    "        Z = tf.tensordot(tf.transpose(W), A) + b\n",
    "        state = (A, W, b)\n",
    "        return Z, state\n",
    "\n",
    "    def Layer_forward(self, A: tf.Tensor):\n",
    "        activation = \"relu\"\n",
    "        states = []\n",
    "        for l in range(1, len(self.layers_dim)):\n",
    "            if activation == \"sigmoid\":\n",
    "                Z, state = self.forward(A, self.params['W'+str(l)], self.params['W'+str(l)])\n",
    "                A = tf.nn.sigmoid(Z)\n",
    "            if activation == 'relu':\n",
    "                Z, state = self.forward(A, self.params['W'+str(l)], self.params['W'+str(l)])\n",
    "                A = tf.nn.relu(Z)\n",
    "        return \n"
   ]
  },
  {
   "cell_type": "code",
   "execution_count": 17,
   "metadata": {},
   "outputs": [
    {
     "data": {
      "text/plain": [
       "{'W1': <tf.Tensor: shape=(5, 4), dtype=float32, numpy=\n",
       " array([[ 0.00327469, -0.00842626,  0.00319434, -0.01407552],\n",
       "        [-0.0238806 , -0.01039248, -0.00557323,  0.00539707],\n",
       "        [ 0.01699432,  0.00288937, -0.01506612, -0.00264547],\n",
       "        [-0.00597224, -0.01917113, -0.00620441,  0.00850402],\n",
       "        [-0.00406048, -0.03025841,  0.00905846,  0.0029856 ]],\n",
       "       dtype=float32)>,\n",
       " 'b1': <tf.Tensor: shape=(5, 1), dtype=float32, numpy=\n",
       " array([[ 0.08422458],\n",
       "        [-0.86090374],\n",
       "        [ 0.37812304],\n",
       "        [-0.00519627],\n",
       "        [-0.49453196]], dtype=float32)>,\n",
       " 'W2': <tf.Tensor: shape=(3, 5), dtype=float32, numpy=\n",
       " array([[-0.00559097, -0.00534721,  0.02373033, -0.01572593,  0.00805506],\n",
       "        [-0.00833877,  0.00306112,  0.02266049,  0.00285641, -0.01553616],\n",
       "        [ 0.00379755,  0.00766463,  0.00361148,  0.00096533,  0.00216956]],\n",
       "       dtype=float32)>,\n",
       " 'b2': <tf.Tensor: shape=(3, 1), dtype=float32, numpy=\n",
       " array([[ 0.65648675],\n",
       "        [-0.4130517 ],\n",
       "        [ 0.33997506]], dtype=float32)>,\n",
       " 'W3': <tf.Tensor: shape=(1, 3), dtype=float32, numpy=array([[ 9.2464936e-05, -6.6206274e-03, -7.4102688e-03]], dtype=float32)>,\n",
       " 'b3': <tf.Tensor: shape=(1, 1), dtype=float32, numpy=array([[0.0307604]], dtype=float32)>}"
      ]
     },
     "execution_count": 17,
     "metadata": {},
     "output_type": "execute_result"
    }
   ],
   "source": [
    "nn = DeepNN(layers_dim=(4,5,3,1))\n",
    "nn.params"
   ]
  },
  {
   "cell_type": "code",
   "execution_count": null,
   "metadata": {},
   "outputs": [],
   "source": []
  }
 ],
 "metadata": {
  "interpreter": {
   "hash": "2be5faf79681da6f2a61fdfdd5405d65d042280f7fba6178067603e3a2925119"
  },
  "kernelspec": {
   "display_name": "Python 3.10.1 64-bit",
   "language": "python",
   "name": "python3"
  },
  "language_info": {
   "codemirror_mode": {
    "name": "ipython",
    "version": 3
   },
   "file_extension": ".py",
   "mimetype": "text/x-python",
   "name": "python",
   "nbconvert_exporter": "python",
   "pygments_lexer": "ipython3",
   "version": "3.10.1"
  },
  "orig_nbformat": 4
 },
 "nbformat": 4,
 "nbformat_minor": 2
}
