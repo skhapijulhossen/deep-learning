{
 "cells": [
  {
   "cell_type": "markdown",
   "metadata": {},
   "source": [
    "# Single Layer Neural Network"
   ]
  },
  {
   "cell_type": "markdown",
   "metadata": {},
   "source": [
    "## Steps:\n",
    " - Define Structure\n",
    " - initialize parameters\n",
    " - Forward Propagation\n",
    "   $$Z^{[1]} =  W^{[1]} X + b^{[1]} $$ \n",
    "   $$A^{[1]} = \\tanh(Z^{[1]}) $$\n",
    "   $$Z^{[2]} = W^{[2]} A^{[1]} + b^{[2]} $$\n",
    "   $$\\hat{Y} = A^{[2]} = \\sigma(Z^{[2]}) $$\n",
    "\n",
    "\n",
    " - compute cost\n",
    "    - $$J = - \\frac{1}{m} \\sum\\limits_{i = 1}^{m} \\large{(} \\small y^{(i)}\\log\\left(\\hat{y}^{[2] (i)}\\right) + (1-y^{(i)})\\log\\left(1- \\hat{y}^{[2] (i)}\\right) \\large{)} \\small $$\n",
    " - Backward Propagation\n",
    "  ---------------------------------------------------------------------\n",
    "  $$dZ^{[2]} =  A^{[2]} - Y  $$ \n",
    "  $$dW^{[2]} = \\frac {1} {m} dZ^{[2]} A^{[1]T}  $$\n",
    "  $$db^{[2]} = \\frac {1} {m} \\sum\\limits_{i = 1}^{m} dZ^{[2]}  $$\n",
    "  ---------------------------------------------------------------------\n",
    "  $$dW^{[2]} = \\frac {1} {m} dZ^{[2]} A^{[1]T}  $$\n",
    "  $$dZ^{[2]} = W^{[2]} A^{[1]} + b^{[2]} $$\n",
    "  $$\\hat{Y} = A^{[2]} = \\sigma(Z^{[2]}) $$\n",
    " - update weights"
   ]
  },
  {
   "cell_type": "code",
   "execution_count": 1,
   "metadata": {},
   "outputs": [],
   "source": [
    "import numpy as np\n",
    "import tensorflow as tf\n",
    "import matplotlib.pyplot as plt\n"
   ]
  },
  {
   "cell_type": "code",
   "execution_count": 2,
   "metadata": {},
   "outputs": [],
   "source": [
    "tf.random.set_seed(33)\n"
   ]
  },
  {
   "cell_type": "markdown",
   "metadata": {},
   "source": [
    "## Defining Structure and initializing parameters"
   ]
  },
  {
   "cell_type": "code",
   "execution_count": 3,
   "metadata": {},
   "outputs": [],
   "source": [
    "def parameters_initializer(input_dim: int, hidden_dim: int, output_dim: int):\n",
    "    W1 = tf.random.normal([hidden_dim, input_dim], dtype=tf.float64)\n",
    "    b1 = tf.zeros([hidden_dim, 1], dtype=tf.float64)\n",
    "    W2 = tf.random.normal([output_dim, hidden_dim], dtype=tf.float64)\n",
    "    b2 = tf.zeros([output_dim, 1], dtype=tf.float64)\n",
    "    parameters = {\n",
    "        'W1': W1, 'b1': b1, 'W2': W2, 'b2': b2\n",
    "    }\n",
    "    return parameters\n"
   ]
  },
  {
   "cell_type": "code",
   "execution_count": 4,
   "metadata": {},
   "outputs": [
    {
     "data": {
      "text/plain": [
       "{'W1': <tf.Tensor: shape=(4, 2), dtype=float64, numpy=\n",
       " array([[ 0.66724593,  0.6416387 ],\n",
       "        [ 1.10669007,  0.842583  ],\n",
       "        [ 1.7161246 , -2.81539924],\n",
       "        [-0.49222419, -0.53460197]])>,\n",
       " 'b1': <tf.Tensor: shape=(4, 1), dtype=float64, numpy=\n",
       " array([[0.],\n",
       "        [0.],\n",
       "        [0.],\n",
       "        [0.]])>,\n",
       " 'W2': <tf.Tensor: shape=(1, 4), dtype=float64, numpy=array([[-0.97562285,  1.54872505,  1.79938454, -0.41321412]])>,\n",
       " 'b2': <tf.Tensor: shape=(1, 1), dtype=float64, numpy=array([[0.]])>}"
      ]
     },
     "execution_count": 4,
     "metadata": {},
     "output_type": "execute_result"
    }
   ],
   "source": [
    "params = parameters_initializer(2, 4, 1)\n",
    "params\n"
   ]
  },
  {
   "cell_type": "markdown",
   "metadata": {},
   "source": [
    "## forward propagation\n",
    "---------------------------------------\n",
    "   $$Z^{[1]} =  W^{[1]} X + b^{[1]} $$ \n",
    "   $$A^{[1]} = \\tanh(Z^{[1]}) $$\n",
    "   $$Z^{[2]} = W^{[2]} A^{[1]} + b^{[2]} $$\n",
    "   $$\\hat{Y} = A^{[2]} = \\sigma(Z^{[2]}) $$\n"
   ]
  },
  {
   "cell_type": "code",
   "execution_count": 5,
   "metadata": {},
   "outputs": [],
   "source": [
    "def forward_propagation(X: tf.Tensor, params: dict[str, tf.Tensor]):\n",
    "    W1, b1, W2, b2 = params.values()\n",
    "    Z1 = tf.tensordot(W1, X, axes=1) + b1\n",
    "    A1 = tf.nn.tanh(Z1)\n",
    "    Z2 = tf.tensordot(W2, A1, axes=1) + b2\n",
    "    A2 = tf.nn.sigmoid(Z2)\n",
    "    state = {\n",
    "        'Z1': Z1, 'A1': A1, 'Z2': Z2, 'A2': A2\n",
    "    }\n",
    "    return state, A2\n"
   ]
  },
  {
   "cell_type": "code",
   "execution_count": 6,
   "metadata": {},
   "outputs": [
    {
     "data": {
      "text/plain": [
       "{'Z1': <tf.Tensor: shape=(4, 3), dtype=float64, numpy=\n",
       " array([[ 2.59216203, -1.01367251, -2.72048977],\n",
       "        [ 3.63443905, -1.79208863, -3.80295565],\n",
       "        [-6.73007312, -4.83994881,  7.29315297],\n",
       "        [-2.09603009,  0.7171474 ,  2.20295048]])>,\n",
       " 'A1': <tf.Tensor: shape=(4, 3), dtype=float64, numpy=\n",
       " array([[ 0.98885501, -0.76727673, -0.99136696],\n",
       "        [ 0.99860718, -0.94598056, -0.99900549],\n",
       "        [-0.99999715, -0.99987495,  0.99999907],\n",
       "        [-0.9702199 ,  0.61513923,  0.97588413]])>,\n",
       " 'Z2': <tf.Tensor: shape=(1, 3), dtype=float64, numpy=array([[-0.81665242, -2.76983482,  0.8161492 ]])>,\n",
       " 'A2': <tf.Tensor: shape=(1, 3), dtype=float64, numpy=array([[0.30647472, 0.05897618, 0.69341831]])>}"
      ]
     },
     "execution_count": 6,
     "metadata": {},
     "output_type": "execute_result"
    }
   ],
   "source": [
    "X = np.array([[1., -2., -1.], [3., 0.5, -3.2]])\n",
    "Y = np.array([[1, 1, 0]])\n",
    "outs, A2 = forward_propagation(X, params)\n",
    "outs\n"
   ]
  },
  {
   "cell_type": "markdown",
   "metadata": {},
   "source": [
    "## Back Propagation"
   ]
  },
  {
   "cell_type": "code",
   "execution_count": 7,
   "metadata": {},
   "outputs": [],
   "source": [
    "def back_propagation(parameters: dict, state: dict, X: tf.Tensor, Y: tf.Tensor):\n",
    "    W1, b1, W2, b2 = parameters.values()\n",
    "    Z1, A1, Z2, A2 = state.values()\n",
    "    m = X.shape[1]\n",
    "    # Gradients\n",
    "    dZ2 = A2 - Y\n",
    "    dW2 = (1/m) * tf.tensordot(dZ2, tf.transpose(A1), axes=1)\n",
    "    db2 = (1/m) * tf.reduce_sum(dZ2, axis=1, keepdims=True)\n",
    "    dZ1 = tf.tensordot(tf.transpose(W2), dZ2, axes=1) * (1 - tf.pow(A1, 2))\n",
    "    dW1 = (1/m) * tf.tensordot(dZ1, tf.transpose(X), axes=1)\n",
    "    db1 = (1/m) * tf.reduce_sum(dZ1, axis=1, keepdims=True)\n",
    "    grads = {\n",
    "        'dW1': dW1, 'db1': db1, 'dW2': dW2, 'db2': db2\n",
    "    }\n",
    "    return grads\n"
   ]
  },
  {
   "cell_type": "code",
   "execution_count": 8,
   "metadata": {},
   "outputs": [
    {
     "data": {
      "text/plain": [
       "{'dW1': <tf.Tensor: shape=(4, 2), dtype=float64, numpy=\n",
       " array([[-2.42854369e-01,  9.03360873e-02],\n",
       "        [ 1.00426159e-01, -3.08008253e-02],\n",
       "        [ 2.79157775e-04, -8.01598812e-05],\n",
       "        [-1.50982225e-01,  7.16622224e-02]])>,\n",
       " 'db1': <tf.Tensor: shape=(4, 1), dtype=float64, numpy=\n",
       " array([[ 0.12698769],\n",
       "        [-0.0513522 ],\n",
       "        [-0.00014275],\n",
       "        [ 0.08162272]])>,\n",
       " 'dW2': <tf.Tensor: shape=(1, 4), dtype=float64, numpy=array([[-0.21706742, -0.1650326 ,  0.77594904,  0.25690243]])>,\n",
       " 'db2': <tf.Tensor: shape=(1, 1), dtype=float64, numpy=array([[-0.31371026]])>}"
      ]
     },
     "execution_count": 8,
     "metadata": {},
     "output_type": "execute_result"
    }
   ],
   "source": [
    "state, A2 = forward_propagation(X, params)\n",
    "back_propagation(params, state, X, Y)"
   ]
  },
  {
   "cell_type": "markdown",
   "metadata": {},
   "source": [
    "## Update Parameters:\n",
    "$$ w1 = w1 - {\\alpha} * \\frac{\\partial J}{\\partial w1} $$\n",
    "$$ b1 = b1- {\\alpha}  * \\frac{\\partial J}{\\partial b1} $$\n",
    "$$ w2 = w2 - {\\alpha} * \\frac{\\partial J}{\\partial w2} $$\n",
    "$$ b2 = b2- {\\alpha}  * \\frac{\\partial J}{\\partial b2} $$"
   ]
  },
  {
   "cell_type": "code",
   "execution_count": 9,
   "metadata": {},
   "outputs": [],
   "source": [
    "def state_update(parameters: dict, grads: dict, learning_rate=0.9):\n",
    "    W1, b1, W2, b2 = parameters.values()\n",
    "    dW1, db1, dW2, db2 = grads.values()\n",
    "    W1 = W1 - learning_rate * dW1\n",
    "    b1 = b1 - learning_rate * db1\n",
    "    W2 = W2 - learning_rate * dW2\n",
    "    b2 = b2 - learning_rate * db2\n",
    "    return dict(W1=W1, b1=b1, W2=W2, b2=b2)\n"
   ]
  },
  {
   "cell_type": "code",
   "execution_count": 10,
   "metadata": {},
   "outputs": [
    {
     "data": {
      "text/plain": [
       "{'W1': <tf.Tensor: shape=(4, 2), dtype=float64, numpy=\n",
       " array([[ 0.88581486,  0.56033622],\n",
       "        [ 1.01630652,  0.87030374],\n",
       "        [ 1.71587335, -2.8153271 ],\n",
       "        [-0.35634019, -0.59909797]])>,\n",
       " 'b1': <tf.Tensor: shape=(4, 1), dtype=float64, numpy=\n",
       " array([[-0.11428892],\n",
       "        [ 0.04621698],\n",
       "        [ 0.00012848],\n",
       "        [-0.07346044]])>,\n",
       " 'W2': <tf.Tensor: shape=(1, 4), dtype=float64, numpy=array([[-0.78026217,  1.69725438,  1.1010304 , -0.6444263 ]])>,\n",
       " 'b2': <tf.Tensor: shape=(1, 1), dtype=float64, numpy=array([[0.28233924]])>}"
      ]
     },
     "execution_count": 10,
     "metadata": {},
     "output_type": "execute_result"
    }
   ],
   "source": [
    "state, A2 = forward_propagation(X, params)\n",
    "grads = back_propagation(params, state, X, Y)\n",
    "state_update(params, grads)"
   ]
  },
  {
   "cell_type": "markdown",
   "metadata": {},
   "source": [
    "## Merging All"
   ]
  },
  {
   "cell_type": "code",
   "execution_count": 11,
   "metadata": {},
   "outputs": [],
   "source": [
    "class SingleLayerNN:\n",
    "    def __init__(self, input_dim: int, hidden_dim: int, output_dim: int, learning_rate=0.09):\n",
    "        self.params = parameters_initializer(input_dim, hidden_dim, output_dim)\n",
    "        self.state = dict()\n",
    "        self.grads = dict()\n",
    "        self.costs = []\n",
    "        self.learning_rate = learning_rate\n",
    "        self.performace = []\n",
    "\n",
    "    def parameters_initializer(input_dim: int, hidden_dim: int, output_dim: int):\n",
    "        W1 = tf.random.normal([hidden_dim, input_dim], dtYpe=tf.float64)\n",
    "        b1 = tf.zeros([hidden_dim, 1], dtYpe=tf.float64)\n",
    "        W2 = tf.random.normal([output_dim, hidden_dim], dtYpe=tf.float64)\n",
    "        b2 = tf.zeros([output_dim, 1], dtYpe=tf.float64)\n",
    "        params = {\n",
    "            'W1': W1, 'b1': b1, 'W2': W2, 'b2': b2\n",
    "        }\n",
    "        return params\n",
    "\n",
    "    def forward_propagation(self, X: tf.Tensor):\n",
    "        W1, b1, W2, b2 = self.params.values()\n",
    "        Z1 = tf.tensordot(W1, X, axes=1) + b1\n",
    "        A1 = tf.nn.tanh(Z1)\n",
    "        Z2 = tf.tensordot(W2, A1, axes=1) + b2\n",
    "        A2 = tf.nn.sigmoid(Z2)\n",
    "        state = {\n",
    "            'Z1': Z1, 'A1': A1, 'Z2': Z2, 'A2': A2\n",
    "        }\n",
    "        return state, A2\n",
    "\n",
    "    def back_propagation(self, X: tf.Tensor, Y: tf.Tensor):\n",
    "        W1, b1, W2, b2 = self.params.values()\n",
    "        Z1, A1, Z2, A2 = self.state.values()\n",
    "        m = X.shape[1]\n",
    "        # Gradients\n",
    "        dZ2 = A2 - Y\n",
    "        dW2 = (1/m) * tf.tensordot(dZ2, tf.transpose(A1), axes=1)\n",
    "        db2 = (1/m) * tf.reduce_sum(dZ2, axis=1, keepdims=True)\n",
    "        dZ1 = tf.tensordot(tf.transpose(W2), dZ2, axes=1) * (1 - tf.pow(A1, 2))\n",
    "        dW1 = (1/m) * tf.tensordot(dZ1, tf.transpose(X), axes=1)\n",
    "        db1 = (1/m) * tf.reduce_sum(dZ1, axis=1, keepdims=True)\n",
    "        grads = {\n",
    "            'dW1': dW1, 'db1': db1, 'dW2': dW2, 'db2': db2\n",
    "        }\n",
    "        return grads\n",
    "\n",
    "    def state_update(self):\n",
    "        W1, b1, W2, b2 = self.params.values()\n",
    "        dW1, db1, dW2, db2 = self.grads.values()\n",
    "        W1 = W1 - self.learning_rate * dW1\n",
    "        b1 = b1 - self.learning_rate * db1\n",
    "        W2 = W2 - self.learning_rate * dW2\n",
    "        b2 = b2 - self.learning_rate * db2\n",
    "        return dict(W1=W1, b1=b1, W2=W2, b2=b2)\n",
    "\n",
    "    def compute_cost(self, Y: tf.Tensor, Yhat: tf.Tensor):\n",
    "        loss = tf.reduce_sum((Y * tf.math.log(Yhat)) +\n",
    "                             ((1-Y) * tf.math.log(1-Yhat)))\n",
    "        cost = (-1/Y.shape[0]) * loss\n",
    "        return float(tf.squeeze(cost))\n",
    "\n",
    "    def optimize(self, X: tf.Tensor, Y: tf.Tensor, validation: tuple, epochs=100):\n",
    "        m = X.shape[1]\n",
    "        for epoch in range(epochs):\n",
    "            self.state, A2 = self.forward_propagation(X)\n",
    "            self.grads = self.back_propagation(X, Y)\n",
    "            self.params = self.state_update()\n",
    "            cost = self.compute_cost(Y, A2)\n",
    "            self.costs.append(cost)\n",
    "            if epoch % 10 == 0:\n",
    "                y_train_pred = self.predict(X)\n",
    "                y_test_pred = self.predict(validation[0])\n",
    "                train_acc = 100 - np.mean(np.abs(y_train_pred - Y)) * 100\n",
    "                test_acc = 100 - \\\n",
    "                    np.mean(np.abs(y_test_pred - validation[1])) * 100\n",
    "                self.performace.append([train_acc, test_acc])\n",
    "                print(\n",
    "                    f\"epoch: {epoch} || Cost: {cost: .5f} || Train Accuracy: {train_acc: .2f}% || Test Accuracy: {test_acc:.2f}%\")\n",
    "        return np.array(self.performace)\n",
    "\n",
    "    def predict(self, X: tf.Tensor):\n",
    "        _, A2 = self.forward_propagation(X)\n",
    "        return tf.round(A2)\n"
   ]
  },
  {
   "cell_type": "code",
   "execution_count": 12,
   "metadata": {},
   "outputs": [
    {
     "name": "stdout",
     "output_type": "stream",
     "text": [
      "epoch: 0 || Cost:  2.04711 || Train Accuracy:  33.33% || Test Accuracy: 33.33%\n",
      "epoch: 10 || Cost:  0.77332 || Train Accuracy:  100.00% || Test Accuracy: 100.00%\n",
      "epoch: 20 || Cost:  0.47288 || Train Accuracy:  100.00% || Test Accuracy: 100.00%\n",
      "epoch: 30 || Cost:  0.33659 || Train Accuracy:  100.00% || Test Accuracy: 100.00%\n",
      "epoch: 40 || Cost:  0.25984 || Train Accuracy:  100.00% || Test Accuracy: 100.00%\n",
      "epoch: 50 || Cost:  0.21099 || Train Accuracy:  100.00% || Test Accuracy: 100.00%\n",
      "epoch: 60 || Cost:  0.17731 || Train Accuracy:  100.00% || Test Accuracy: 100.00%\n",
      "epoch: 70 || Cost:  0.15276 || Train Accuracy:  100.00% || Test Accuracy: 100.00%\n",
      "epoch: 80 || Cost:  0.13409 || Train Accuracy:  100.00% || Test Accuracy: 100.00%\n",
      "epoch: 90 || Cost:  0.11943 || Train Accuracy:  100.00% || Test Accuracy: 100.00%\n"
     ]
    },
    {
     "data": {
      "text/plain": [
       "array([[ 33.33333333,  33.33333333],\n",
       "       [100.        , 100.        ],\n",
       "       [100.        , 100.        ],\n",
       "       [100.        , 100.        ],\n",
       "       [100.        , 100.        ],\n",
       "       [100.        , 100.        ],\n",
       "       [100.        , 100.        ],\n",
       "       [100.        , 100.        ],\n",
       "       [100.        , 100.        ],\n",
       "       [100.        , 100.        ]])"
      ]
     },
     "execution_count": 12,
     "metadata": {},
     "output_type": "execute_result"
    }
   ],
   "source": [
    "Xv = np.array([[1., -1.8, -1.5], [3.1, 1.5, -3.2]])\n",
    "Yv = np.array([[1, 1, 0]])\n",
    "nn = SingleLayerNN(2, 4, 1)\n",
    "nn.optimize(X, Y,validation=(Xv,Yv), epochs=100)"
   ]
  },
  {
   "cell_type": "code",
   "execution_count": 13,
   "metadata": {},
   "outputs": [],
   "source": [
    "from sklearn import datasets\n",
    "from sklearn.preprocessing import StandardScaler\n",
    "x, y = datasets.load_breast_cancer(return_X_y=True)\n",
    "x = StandardScaler().fit_transform(x)"
   ]
  },
  {
   "cell_type": "code",
   "execution_count": 14,
   "metadata": {},
   "outputs": [],
   "source": [
    "from sklearn.model_selection import train_test_split\n",
    "xtrain, xtest, ytrain, ytest = train_test_split(\n",
    "    x, y, random_state=33, test_size=0.3\n",
    ")\n",
    "xtrain = tf.Variable(xtrain.T, dtype=tf.float64)\n",
    "xtest = tf.Variable(xtest.T, dtype=tf.float64)\n"
   ]
  },
  {
   "cell_type": "code",
   "execution_count": 15,
   "metadata": {},
   "outputs": [
    {
     "name": "stdout",
     "output_type": "stream",
     "text": [
      "epoch: 0 || Cost:  1.86479 || Train Accuracy:  35.68% || Test Accuracy: 25.73%\n",
      "epoch: 10 || Cost:  0.76683 || Train Accuracy:  63.82% || Test Accuracy: 58.48%\n",
      "epoch: 20 || Cost:  0.40012 || Train Accuracy:  78.89% || Test Accuracy: 77.19%\n",
      "epoch: 30 || Cost:  0.29575 || Train Accuracy:  84.67% || Test Accuracy: 84.21%\n",
      "epoch: 40 || Cost:  0.24896 || Train Accuracy:  87.69% || Test Accuracy: 88.30%\n",
      "epoch: 50 || Cost:  0.21486 || Train Accuracy:  90.20% || Test Accuracy: 89.47%\n",
      "epoch: 60 || Cost:  0.19451 || Train Accuracy:  91.21% || Test Accuracy: 90.64%\n",
      "epoch: 70 || Cost:  0.18173 || Train Accuracy:  91.46% || Test Accuracy: 90.64%\n",
      "epoch: 80 || Cost:  0.17232 || Train Accuracy:  91.96% || Test Accuracy: 90.64%\n",
      "epoch: 90 || Cost:  0.16486 || Train Accuracy:  92.71% || Test Accuracy: 90.64%\n",
      "epoch: 100 || Cost:  0.15859 || Train Accuracy:  92.96% || Test Accuracy: 91.23%\n",
      "epoch: 110 || Cost:  0.15311 || Train Accuracy:  93.72% || Test Accuracy: 91.23%\n",
      "epoch: 120 || Cost:  0.14821 || Train Accuracy:  93.97% || Test Accuracy: 91.81%\n",
      "epoch: 130 || Cost:  0.14382 || Train Accuracy:  94.22% || Test Accuracy: 91.81%\n",
      "epoch: 140 || Cost:  0.13993 || Train Accuracy:  94.47% || Test Accuracy: 91.81%\n",
      "epoch: 150 || Cost:  0.13651 || Train Accuracy:  94.72% || Test Accuracy: 91.81%\n",
      "epoch: 160 || Cost:  0.13349 || Train Accuracy:  94.97% || Test Accuracy: 92.40%\n",
      "epoch: 170 || Cost:  0.13080 || Train Accuracy:  95.23% || Test Accuracy: 92.98%\n",
      "epoch: 180 || Cost:  0.12840 || Train Accuracy:  95.23% || Test Accuracy: 92.98%\n",
      "epoch: 190 || Cost:  0.12623 || Train Accuracy:  95.23% || Test Accuracy: 93.57%\n",
      "epoch: 200 || Cost:  0.12426 || Train Accuracy:  95.23% || Test Accuracy: 93.57%\n",
      "epoch: 210 || Cost:  0.12244 || Train Accuracy:  95.48% || Test Accuracy: 93.57%\n",
      "epoch: 220 || Cost:  0.12076 || Train Accuracy:  95.48% || Test Accuracy: 93.57%\n",
      "epoch: 230 || Cost:  0.11919 || Train Accuracy:  95.48% || Test Accuracy: 93.57%\n",
      "epoch: 240 || Cost:  0.11770 || Train Accuracy:  95.48% || Test Accuracy: 94.15%\n",
      "epoch: 250 || Cost:  0.11628 || Train Accuracy:  95.73% || Test Accuracy: 94.15%\n",
      "epoch: 260 || Cost:  0.11491 || Train Accuracy:  95.73% || Test Accuracy: 94.74%\n",
      "epoch: 270 || Cost:  0.11356 || Train Accuracy:  95.73% || Test Accuracy: 94.74%\n",
      "epoch: 280 || Cost:  0.11223 || Train Accuracy:  95.73% || Test Accuracy: 94.74%\n",
      "epoch: 290 || Cost:  0.11087 || Train Accuracy:  95.73% || Test Accuracy: 94.74%\n",
      "epoch: 300 || Cost:  0.10947 || Train Accuracy:  95.98% || Test Accuracy: 94.74%\n",
      "epoch: 310 || Cost:  0.10797 || Train Accuracy:  95.98% || Test Accuracy: 94.74%\n",
      "epoch: 320 || Cost:  0.10635 || Train Accuracy:  95.98% || Test Accuracy: 94.74%\n",
      "epoch: 330 || Cost:  0.10456 || Train Accuracy:  95.98% || Test Accuracy: 95.32%\n",
      "epoch: 340 || Cost:  0.10265 || Train Accuracy:  95.98% || Test Accuracy: 95.32%\n",
      "epoch: 350 || Cost:  0.10075 || Train Accuracy:  96.23% || Test Accuracy: 94.74%\n",
      "epoch: 360 || Cost:  0.09904 || Train Accuracy:  96.48% || Test Accuracy: 94.74%\n",
      "epoch: 370 || Cost:  0.09756 || Train Accuracy:  96.48% || Test Accuracy: 94.74%\n",
      "epoch: 380 || Cost:  0.09624 || Train Accuracy:  96.48% || Test Accuracy: 94.74%\n",
      "epoch: 390 || Cost:  0.09502 || Train Accuracy:  96.73% || Test Accuracy: 94.15%\n",
      "epoch: 400 || Cost:  0.09381 || Train Accuracy:  96.73% || Test Accuracy: 94.15%\n",
      "epoch: 410 || Cost:  0.09260 || Train Accuracy:  96.73% || Test Accuracy: 94.74%\n",
      "epoch: 420 || Cost:  0.09149 || Train Accuracy:  96.73% || Test Accuracy: 94.74%\n",
      "epoch: 430 || Cost:  0.09051 || Train Accuracy:  96.73% || Test Accuracy: 95.32%\n",
      "epoch: 440 || Cost:  0.08964 || Train Accuracy:  96.73% || Test Accuracy: 95.32%\n",
      "epoch: 450 || Cost:  0.08882 || Train Accuracy:  96.73% || Test Accuracy: 95.32%\n",
      "epoch: 460 || Cost:  0.08805 || Train Accuracy:  96.73% || Test Accuracy: 95.32%\n",
      "epoch: 470 || Cost:  0.08730 || Train Accuracy:  96.73% || Test Accuracy: 95.32%\n",
      "epoch: 480 || Cost:  0.08659 || Train Accuracy:  96.73% || Test Accuracy: 95.32%\n",
      "epoch: 490 || Cost:  0.08589 || Train Accuracy:  96.73% || Test Accuracy: 95.32%\n",
      "epoch: 500 || Cost:  0.08522 || Train Accuracy:  96.73% || Test Accuracy: 95.32%\n",
      "epoch: 510 || Cost:  0.08457 || Train Accuracy:  96.73% || Test Accuracy: 95.32%\n",
      "epoch: 520 || Cost:  0.08393 || Train Accuracy:  96.73% || Test Accuracy: 95.32%\n",
      "epoch: 530 || Cost:  0.08331 || Train Accuracy:  96.73% || Test Accuracy: 95.32%\n",
      "epoch: 540 || Cost:  0.08271 || Train Accuracy:  96.73% || Test Accuracy: 95.32%\n",
      "epoch: 550 || Cost:  0.08213 || Train Accuracy:  96.73% || Test Accuracy: 95.32%\n",
      "epoch: 560 || Cost:  0.08156 || Train Accuracy:  96.73% || Test Accuracy: 95.32%\n",
      "epoch: 570 || Cost:  0.08101 || Train Accuracy:  96.73% || Test Accuracy: 95.32%\n",
      "epoch: 580 || Cost:  0.08047 || Train Accuracy:  96.73% || Test Accuracy: 95.32%\n",
      "epoch: 590 || Cost:  0.07995 || Train Accuracy:  96.73% || Test Accuracy: 95.32%\n",
      "epoch: 600 || Cost:  0.07944 || Train Accuracy:  96.73% || Test Accuracy: 95.32%\n",
      "epoch: 610 || Cost:  0.07894 || Train Accuracy:  96.73% || Test Accuracy: 95.32%\n",
      "epoch: 620 || Cost:  0.07845 || Train Accuracy:  96.98% || Test Accuracy: 95.32%\n",
      "epoch: 630 || Cost:  0.07797 || Train Accuracy:  96.98% || Test Accuracy: 95.32%\n",
      "epoch: 640 || Cost:  0.07751 || Train Accuracy:  96.98% || Test Accuracy: 95.32%\n",
      "epoch: 650 || Cost:  0.07705 || Train Accuracy:  96.98% || Test Accuracy: 95.32%\n",
      "epoch: 660 || Cost:  0.07660 || Train Accuracy:  96.98% || Test Accuracy: 95.32%\n",
      "epoch: 670 || Cost:  0.07617 || Train Accuracy:  96.98% || Test Accuracy: 95.32%\n",
      "epoch: 680 || Cost:  0.07573 || Train Accuracy:  96.98% || Test Accuracy: 95.32%\n",
      "epoch: 690 || Cost:  0.07531 || Train Accuracy:  97.24% || Test Accuracy: 95.32%\n",
      "epoch: 700 || Cost:  0.07489 || Train Accuracy:  97.49% || Test Accuracy: 95.32%\n",
      "epoch: 710 || Cost:  0.07448 || Train Accuracy:  97.49% || Test Accuracy: 95.32%\n",
      "epoch: 720 || Cost:  0.07408 || Train Accuracy:  97.49% || Test Accuracy: 95.32%\n",
      "epoch: 730 || Cost:  0.07368 || Train Accuracy:  97.49% || Test Accuracy: 95.32%\n",
      "epoch: 740 || Cost:  0.07328 || Train Accuracy:  97.49% || Test Accuracy: 95.32%\n",
      "epoch: 750 || Cost:  0.07289 || Train Accuracy:  97.49% || Test Accuracy: 95.32%\n",
      "epoch: 760 || Cost:  0.07250 || Train Accuracy:  97.49% || Test Accuracy: 95.32%\n",
      "epoch: 770 || Cost:  0.07211 || Train Accuracy:  97.49% || Test Accuracy: 95.32%\n",
      "epoch: 780 || Cost:  0.07172 || Train Accuracy:  97.49% || Test Accuracy: 95.32%\n",
      "epoch: 790 || Cost:  0.07133 || Train Accuracy:  97.49% || Test Accuracy: 95.32%\n",
      "epoch: 800 || Cost:  0.07094 || Train Accuracy:  97.49% || Test Accuracy: 95.32%\n",
      "epoch: 810 || Cost:  0.07055 || Train Accuracy:  97.49% || Test Accuracy: 95.32%\n",
      "epoch: 820 || Cost:  0.07015 || Train Accuracy:  97.49% || Test Accuracy: 95.32%\n",
      "epoch: 830 || Cost:  0.06976 || Train Accuracy:  97.49% || Test Accuracy: 95.32%\n",
      "epoch: 840 || Cost:  0.06936 || Train Accuracy:  97.49% || Test Accuracy: 95.32%\n",
      "epoch: 850 || Cost:  0.06896 || Train Accuracy:  97.49% || Test Accuracy: 95.32%\n",
      "epoch: 860 || Cost:  0.06855 || Train Accuracy:  97.49% || Test Accuracy: 95.32%\n",
      "epoch: 870 || Cost:  0.06815 || Train Accuracy:  97.74% || Test Accuracy: 95.32%\n",
      "epoch: 880 || Cost:  0.06774 || Train Accuracy:  97.74% || Test Accuracy: 95.32%\n",
      "epoch: 890 || Cost:  0.06733 || Train Accuracy:  97.74% || Test Accuracy: 95.32%\n",
      "epoch: 900 || Cost:  0.06693 || Train Accuracy:  97.74% || Test Accuracy: 95.32%\n",
      "epoch: 910 || Cost:  0.06653 || Train Accuracy:  97.74% || Test Accuracy: 95.32%\n",
      "epoch: 920 || Cost:  0.06612 || Train Accuracy:  97.74% || Test Accuracy: 95.32%\n",
      "epoch: 930 || Cost:  0.06573 || Train Accuracy:  97.74% || Test Accuracy: 95.32%\n",
      "epoch: 940 || Cost:  0.06534 || Train Accuracy:  97.74% || Test Accuracy: 95.32%\n",
      "epoch: 950 || Cost:  0.06495 || Train Accuracy:  97.74% || Test Accuracy: 95.32%\n",
      "epoch: 960 || Cost:  0.06458 || Train Accuracy:  97.74% || Test Accuracy: 95.32%\n",
      "epoch: 970 || Cost:  0.06420 || Train Accuracy:  97.74% || Test Accuracy: 95.32%\n",
      "epoch: 980 || Cost:  0.06384 || Train Accuracy:  97.74% || Test Accuracy: 95.32%\n",
      "epoch: 990 || Cost:  0.06348 || Train Accuracy:  97.74% || Test Accuracy: 95.32%\n",
      "epoch: 1000 || Cost:  0.06313 || Train Accuracy:  97.74% || Test Accuracy: 95.32%\n",
      "epoch: 1010 || Cost:  0.06279 || Train Accuracy:  97.74% || Test Accuracy: 95.32%\n",
      "epoch: 1020 || Cost:  0.06246 || Train Accuracy:  97.74% || Test Accuracy: 95.32%\n",
      "epoch: 1030 || Cost:  0.06213 || Train Accuracy:  97.74% || Test Accuracy: 95.32%\n",
      "epoch: 1040 || Cost:  0.06181 || Train Accuracy:  97.74% || Test Accuracy: 95.32%\n",
      "epoch: 1050 || Cost:  0.06150 || Train Accuracy:  97.74% || Test Accuracy: 95.32%\n",
      "epoch: 1060 || Cost:  0.06119 || Train Accuracy:  97.74% || Test Accuracy: 95.32%\n",
      "epoch: 1070 || Cost:  0.06089 || Train Accuracy:  97.74% || Test Accuracy: 95.32%\n",
      "epoch: 1080 || Cost:  0.06060 || Train Accuracy:  97.74% || Test Accuracy: 95.32%\n",
      "epoch: 1090 || Cost:  0.06032 || Train Accuracy:  97.74% || Test Accuracy: 95.32%\n",
      "epoch: 1100 || Cost:  0.06004 || Train Accuracy:  97.74% || Test Accuracy: 95.32%\n",
      "epoch: 1110 || Cost:  0.05976 || Train Accuracy:  97.74% || Test Accuracy: 95.32%\n",
      "epoch: 1120 || Cost:  0.05949 || Train Accuracy:  97.74% || Test Accuracy: 95.32%\n",
      "epoch: 1130 || Cost:  0.05923 || Train Accuracy:  97.74% || Test Accuracy: 95.32%\n",
      "epoch: 1140 || Cost:  0.05897 || Train Accuracy:  97.99% || Test Accuracy: 95.32%\n",
      "epoch: 1150 || Cost:  0.05871 || Train Accuracy:  97.99% || Test Accuracy: 95.32%\n",
      "epoch: 1160 || Cost:  0.05846 || Train Accuracy:  97.99% || Test Accuracy: 95.32%\n",
      "epoch: 1170 || Cost:  0.05821 || Train Accuracy:  97.99% || Test Accuracy: 95.32%\n",
      "epoch: 1180 || Cost:  0.05796 || Train Accuracy:  97.99% || Test Accuracy: 95.32%\n",
      "epoch: 1190 || Cost:  0.05772 || Train Accuracy:  97.99% || Test Accuracy: 95.32%\n",
      "epoch: 1200 || Cost:  0.05747 || Train Accuracy:  97.99% || Test Accuracy: 95.32%\n",
      "epoch: 1210 || Cost:  0.05724 || Train Accuracy:  97.99% || Test Accuracy: 95.91%\n",
      "epoch: 1220 || Cost:  0.05700 || Train Accuracy:  97.99% || Test Accuracy: 95.91%\n",
      "epoch: 1230 || Cost:  0.05676 || Train Accuracy:  97.99% || Test Accuracy: 95.91%\n",
      "epoch: 1240 || Cost:  0.05652 || Train Accuracy:  97.99% || Test Accuracy: 95.91%\n",
      "epoch: 1250 || Cost:  0.05629 || Train Accuracy:  97.99% || Test Accuracy: 95.91%\n",
      "epoch: 1260 || Cost:  0.05605 || Train Accuracy:  97.99% || Test Accuracy: 95.91%\n",
      "epoch: 1270 || Cost:  0.05582 || Train Accuracy:  97.99% || Test Accuracy: 95.91%\n",
      "epoch: 1280 || Cost:  0.05558 || Train Accuracy:  97.99% || Test Accuracy: 95.91%\n",
      "epoch: 1290 || Cost:  0.05534 || Train Accuracy:  97.99% || Test Accuracy: 95.91%\n",
      "epoch: 1300 || Cost:  0.05510 || Train Accuracy:  97.99% || Test Accuracy: 95.91%\n",
      "epoch: 1310 || Cost:  0.05485 || Train Accuracy:  97.74% || Test Accuracy: 95.91%\n",
      "epoch: 1320 || Cost:  0.05461 || Train Accuracy:  97.74% || Test Accuracy: 95.91%\n",
      "epoch: 1330 || Cost:  0.05435 || Train Accuracy:  97.74% || Test Accuracy: 95.91%\n",
      "epoch: 1340 || Cost:  0.05410 || Train Accuracy:  97.99% || Test Accuracy: 95.91%\n",
      "epoch: 1350 || Cost:  0.05384 || Train Accuracy:  97.99% || Test Accuracy: 95.91%\n",
      "epoch: 1360 || Cost:  0.05357 || Train Accuracy:  97.99% || Test Accuracy: 95.91%\n",
      "epoch: 1370 || Cost:  0.05329 || Train Accuracy:  97.99% || Test Accuracy: 95.91%\n",
      "epoch: 1380 || Cost:  0.05301 || Train Accuracy:  97.99% || Test Accuracy: 95.91%\n",
      "epoch: 1390 || Cost:  0.05272 || Train Accuracy:  97.99% || Test Accuracy: 95.91%\n",
      "epoch: 1400 || Cost:  0.05243 || Train Accuracy:  97.99% || Test Accuracy: 95.91%\n",
      "epoch: 1410 || Cost:  0.05213 || Train Accuracy:  97.99% || Test Accuracy: 95.91%\n",
      "epoch: 1420 || Cost:  0.05183 || Train Accuracy:  97.99% || Test Accuracy: 95.91%\n",
      "epoch: 1430 || Cost:  0.05153 || Train Accuracy:  97.99% || Test Accuracy: 95.91%\n",
      "epoch: 1440 || Cost:  0.05123 || Train Accuracy:  98.24% || Test Accuracy: 95.91%\n",
      "epoch: 1450 || Cost:  0.05094 || Train Accuracy:  98.24% || Test Accuracy: 95.91%\n",
      "epoch: 1460 || Cost:  0.05065 || Train Accuracy:  98.24% || Test Accuracy: 95.91%\n",
      "epoch: 1470 || Cost:  0.05037 || Train Accuracy:  98.24% || Test Accuracy: 95.91%\n",
      "epoch: 1480 || Cost:  0.05010 || Train Accuracy:  98.24% || Test Accuracy: 95.91%\n",
      "epoch: 1490 || Cost:  0.04985 || Train Accuracy:  98.24% || Test Accuracy: 95.91%\n",
      "epoch: 1500 || Cost:  0.04960 || Train Accuracy:  98.24% || Test Accuracy: 95.91%\n",
      "epoch: 1510 || Cost:  0.04937 || Train Accuracy:  98.24% || Test Accuracy: 95.91%\n",
      "epoch: 1520 || Cost:  0.04914 || Train Accuracy:  98.24% || Test Accuracy: 95.91%\n",
      "epoch: 1530 || Cost:  0.04893 || Train Accuracy:  98.24% || Test Accuracy: 95.91%\n",
      "epoch: 1540 || Cost:  0.04872 || Train Accuracy:  98.24% || Test Accuracy: 95.91%\n",
      "epoch: 1550 || Cost:  0.04852 || Train Accuracy:  98.24% || Test Accuracy: 95.91%\n",
      "epoch: 1560 || Cost:  0.04833 || Train Accuracy:  98.24% || Test Accuracy: 95.91%\n",
      "epoch: 1570 || Cost:  0.04815 || Train Accuracy:  98.24% || Test Accuracy: 95.91%\n",
      "epoch: 1580 || Cost:  0.04797 || Train Accuracy:  98.24% || Test Accuracy: 95.91%\n",
      "epoch: 1590 || Cost:  0.04779 || Train Accuracy:  98.24% || Test Accuracy: 95.91%\n",
      "epoch: 1600 || Cost:  0.04762 || Train Accuracy:  98.24% || Test Accuracy: 95.91%\n",
      "epoch: 1610 || Cost:  0.04746 || Train Accuracy:  98.24% || Test Accuracy: 95.91%\n",
      "epoch: 1620 || Cost:  0.04730 || Train Accuracy:  98.24% || Test Accuracy: 95.91%\n",
      "epoch: 1630 || Cost:  0.04714 || Train Accuracy:  98.24% || Test Accuracy: 95.91%\n",
      "epoch: 1640 || Cost:  0.04698 || Train Accuracy:  98.24% || Test Accuracy: 95.91%\n",
      "epoch: 1650 || Cost:  0.04682 || Train Accuracy:  98.24% || Test Accuracy: 95.91%\n",
      "epoch: 1660 || Cost:  0.04667 || Train Accuracy:  98.24% || Test Accuracy: 95.91%\n",
      "epoch: 1670 || Cost:  0.04652 || Train Accuracy:  98.24% || Test Accuracy: 95.91%\n",
      "epoch: 1680 || Cost:  0.04637 || Train Accuracy:  98.24% || Test Accuracy: 95.91%\n",
      "epoch: 1690 || Cost:  0.04622 || Train Accuracy:  98.24% || Test Accuracy: 95.91%\n",
      "epoch: 1700 || Cost:  0.04607 || Train Accuracy:  98.24% || Test Accuracy: 95.91%\n",
      "epoch: 1710 || Cost:  0.04592 || Train Accuracy:  98.24% || Test Accuracy: 95.91%\n",
      "epoch: 1720 || Cost:  0.04577 || Train Accuracy:  98.24% || Test Accuracy: 95.91%\n",
      "epoch: 1730 || Cost:  0.04562 || Train Accuracy:  98.24% || Test Accuracy: 95.91%\n",
      "epoch: 1740 || Cost:  0.04547 || Train Accuracy:  98.24% || Test Accuracy: 95.91%\n",
      "epoch: 1750 || Cost:  0.04531 || Train Accuracy:  98.24% || Test Accuracy: 95.91%\n",
      "epoch: 1760 || Cost:  0.04515 || Train Accuracy:  98.24% || Test Accuracy: 95.91%\n",
      "epoch: 1770 || Cost:  0.04499 || Train Accuracy:  98.24% || Test Accuracy: 95.91%\n",
      "epoch: 1780 || Cost:  0.04482 || Train Accuracy:  98.24% || Test Accuracy: 95.91%\n",
      "epoch: 1790 || Cost:  0.04463 || Train Accuracy:  98.24% || Test Accuracy: 95.91%\n",
      "epoch: 1800 || Cost:  0.04443 || Train Accuracy:  98.24% || Test Accuracy: 95.91%\n",
      "epoch: 1810 || Cost:  0.04420 || Train Accuracy:  98.24% || Test Accuracy: 95.91%\n",
      "epoch: 1820 || Cost:  0.04392 || Train Accuracy:  98.24% || Test Accuracy: 95.91%\n",
      "epoch: 1830 || Cost:  0.04354 || Train Accuracy:  98.24% || Test Accuracy: 95.91%\n",
      "epoch: 1840 || Cost:  0.04300 || Train Accuracy:  98.24% || Test Accuracy: 95.91%\n",
      "epoch: 1850 || Cost:  0.04223 || Train Accuracy:  98.24% || Test Accuracy: 95.91%\n",
      "epoch: 1860 || Cost:  0.04140 || Train Accuracy:  98.49% || Test Accuracy: 95.91%\n",
      "epoch: 1870 || Cost:  0.04082 || Train Accuracy:  98.49% || Test Accuracy: 95.91%\n",
      "epoch: 1880 || Cost:  0.04044 || Train Accuracy:  98.49% || Test Accuracy: 95.91%\n",
      "epoch: 1890 || Cost:  0.04015 || Train Accuracy:  98.49% || Test Accuracy: 95.91%\n",
      "epoch: 1900 || Cost:  0.03991 || Train Accuracy:  98.49% || Test Accuracy: 95.91%\n",
      "epoch: 1910 || Cost:  0.03969 || Train Accuracy:  98.49% || Test Accuracy: 95.91%\n",
      "epoch: 1920 || Cost:  0.03948 || Train Accuracy:  98.49% || Test Accuracy: 96.49%\n",
      "epoch: 1930 || Cost:  0.03929 || Train Accuracy:  98.49% || Test Accuracy: 96.49%\n",
      "epoch: 1940 || Cost:  0.03909 || Train Accuracy:  98.49% || Test Accuracy: 96.49%\n",
      "epoch: 1950 || Cost:  0.03891 || Train Accuracy:  98.49% || Test Accuracy: 96.49%\n",
      "epoch: 1960 || Cost:  0.03872 || Train Accuracy:  98.74% || Test Accuracy: 96.49%\n",
      "epoch: 1970 || Cost:  0.03855 || Train Accuracy:  98.74% || Test Accuracy: 96.49%\n",
      "epoch: 1980 || Cost:  0.03837 || Train Accuracy:  98.74% || Test Accuracy: 96.49%\n",
      "epoch: 1990 || Cost:  0.03820 || Train Accuracy:  98.74% || Test Accuracy: 96.49%\n"
     ]
    }
   ],
   "source": [
    "nn2 = SingleLayerNN(30, 4, 1)\n",
    "acc = nn2.optimize(xtrain, ytrain,validation=(xtest, ytest), epochs=2000)"
   ]
  },
  {
   "cell_type": "code",
   "execution_count": 16,
   "metadata": {},
   "outputs": [
    {
     "data": {
      "image/png": "[encoded data removed]",
      "text/plain": [
       "<Figure size 432x288 with 1 Axes>"
      ]
     },
     "metadata": {
      "needs_background": "light"
     },
     "output_type": "display_data"
    }
   ],
   "source": [
    "plt.plot(acc[:, 0], label='Train Accuracy')\n",
    "plt.plot(acc[:, 1], label='Test Accuracy')\n",
    "plt.legend()\n",
    "plt.show()"
   ]
  },
  {
   "cell_type": "code",
   "execution_count": null,
   "metadata": {},
   "outputs": [],
   "source": []
  }
 ],
 "metadata": {
  "interpreter": {
   "hash": "2be5faf79681da6f2a61fdfdd5405d65d042280f7fba6178067603e3a2925119"
  },
  "kernelspec": {
   "display_name": "Python 3.10.1 64-bit",
   "language": "python",
   "name": "python3"
  },
  "language_info": {
   "codemirror_mode": {
    "name": "ipython",
    "version": 3
   },
   "file_extension": ".py",
   "mimetype": "text/x-python",
   "name": "python",
   "nbconvert_exporter": "python",
   "pygments_lexer": "ipython3",
   "version": "3.10.1"
  },
  "orig_nbformat": 4
 },
 "nbformat": 4,
 "nbformat_minor": 2
}
